{
 "cells": [
  {
   "cell_type": "code",
   "execution_count": 1,
   "id": "f6ceb412",
   "metadata": {},
   "outputs": [],
   "source": [
    "import os\n",
    "import sys\n",
    "import numpy as np\n",
    "import pandas as pd\n",
    "import random"
   ]
  },
  {
   "cell_type": "code",
   "execution_count": 2,
   "id": "dd1333da",
   "metadata": {},
   "outputs": [],
   "source": [
    "module_path = os.path.abspath(os.path.join('..'))\n",
    "if module_path not in sys.path:\n",
    "    sys.path.append(module_path)"
   ]
  },
  {
   "cell_type": "code",
   "execution_count": 3,
   "id": "c287ffa0",
   "metadata": {},
   "outputs": [],
   "source": [
    "from utilities.data_downloader import train_val_test_downloader, choose_one_column\n",
    "from utilities.plots import plt"
   ]
  },
  {
   "cell_type": "code",
   "execution_count": 4,
   "id": "455ee753",
   "metadata": {},
   "outputs": [],
   "source": [
    "from sklearn.ensemble import IsolationForest\n",
    "from sklearn.impute import SimpleImputer\n",
    "from sklearn.metrics import roc_auc_score\n",
    "from sklearn.model_selection import GridSearchCV\n",
    "from sklearn.preprocessing import RobustScaler\n",
    "from sklearn.pipeline import Pipeline"
   ]
  },
  {
   "cell_type": "code",
   "execution_count": 5,
   "id": "4739b71b",
   "metadata": {},
   "outputs": [],
   "source": [
    "random.seed(42)\n",
    "np.random.seed(42)"
   ]
  },
  {
   "cell_type": "markdown",
   "id": "209e678c",
   "metadata": {},
   "source": [
    "# Description\n",
    "\n",
    "### Features\n",
    "We study two feature collections:\n",
    "- **FeatureExtractor**--induced features (see dataset/README.md for a detailed discussion). These are tabular data by construction, hence the use of tree ensembles is well-motivated\n",
    "- Rebinned and padded **countrate lightcurves**  identified with pseudo-tabular features\n",
    "\n",
    "### IsolationForest\n",
    "Independently from the kind of dataset, **IsolationForest** is utilized as follows:\n",
    "1. The data are preprocessed by median-based **SimpleImputer** and **RobustScaler**. Importantly for the anomaly detection, both are robust to outliers.\n",
    "2. Next, the **IsolationForest** anomalous scores are identified with the desired anomalous scores. To deal with a quantitative criterion, we compute ROC_AUC between these scores and the flag denoting whether and the flag denoting if there any X-Ray flares detected by *Swift*-XRT semi-manual analysis.\n",
    "3. The **IsolationForest** parameter `n_estimators` is tuned with **GridSearchCV** to maximize the cross-validation-average of the ROC_AUC on the training set.\n",
    "4. We finally study the best found estimator scores.\n",
    "\n",
    "Note that there are no compact number of features produced by this algorithm despite the score itself. So there is no need in any additional visualization.\n",
    "\n",
    "### Other\n",
    "To make the results more interpretable, we also display the 10 most-anomalous-scored GRBs."
   ]
  },
  {
   "cell_type": "markdown",
   "id": "4e2c1e69",
   "metadata": {},
   "source": [
    "# Analysis Pipeline"
   ]
  },
  {
   "cell_type": "code",
   "execution_count": 6,
   "id": "b80e6983",
   "metadata": {},
   "outputs": [],
   "source": [
    "def roc_auc_scoring(estimator, X, y)->float:\n",
    "    yscore = -estimator.score_samples(X) # anomalous samples have smaller log-likelihood\n",
    "    ytrue = y\n",
    "    return roc_auc_score(ytrue, yscore)"
   ]
  },
  {
   "cell_type": "code",
   "execution_count": 7,
   "id": "042d9c50",
   "metadata": {},
   "outputs": [],
   "source": [
    "def make_pipe(n_estimators:tuple):\n",
    "    \"\"\"\n",
    "    Makes GridSearchCV pipeline\n",
    "    \"\"\"\n",
    "    return Pipeline(\n",
    "        [('imputer', SimpleImputer(\n",
    "            missing_values=np.nan, strategy='median')),\n",
    "         ('scaler', RobustScaler()),\n",
    "         ('model', GridSearchCV(\n",
    "             IsolationForest(random_state=42),\n",
    "             param_grid={\n",
    "                 'n_estimators': n_estimators},\n",
    "             scoring=roc_auc_scoring, cv=2),\n",
    "         ),\n",
    "        ]\n",
    "    )"
   ]
  },
  {
   "cell_type": "code",
   "execution_count": 8,
   "id": "1e7e3f83",
   "metadata": {},
   "outputs": [],
   "source": [
    "def transform_dataset(pipe:Pipeline,\n",
    "                      train:pd.DataFrame,\n",
    "                      val:pd.DataFrame,\n",
    "                      test:pd.DataFrame,\n",
    "                      labels:pd.DataFrame)->pd.DataFrame:\n",
    "    \"\"\"\n",
    "    Creates a joint dataframe of transformed features.\n",
    "    \"\"\"\n",
    "    train_df, val_df, test_df = [\n",
    "        pd.DataFrame(data=pipe.score_samples(df).reshape(-1, 1),\n",
    "                     index=df.index, columns=['score']) for df in (train, val, test)\n",
    "    ]\n",
    "    train_df['sample'] = 'train'\n",
    "    val_df['sample'] = 'val'\n",
    "    test_df['sample'] = 'test'\n",
    "    df = pd.concat((train_df, val_df, test_df), axis=0, ignore_index=False)\n",
    "    df = pd.concat((df, labels), axis=1, ignore_index=False)\n",
    "    return df"
   ]
  },
  {
   "cell_type": "markdown",
   "id": "a7fc426a",
   "metadata": {},
   "source": [
    "# Extracted Features Analysis"
   ]
  },
  {
   "cell_type": "code",
   "execution_count": 9,
   "id": "2e8804dd",
   "metadata": {},
   "outputs": [
    {
     "name": "stdout",
     "output_type": "stream",
     "text": [
      "Datasets downloaded\n",
      " - train  : 810 entries\n",
      " - val    : 174 entries\n",
      " - test   : 174 entries\n",
      " - labels : 1158 entries\n"
     ]
    }
   ],
   "source": [
    "train, val, test, labels = train_val_test_downloader('features')\n",
    "ytrain, yval, ytest = (\n",
    "    labels.loc[train.index, 'FlaresFlag'],\n",
    "    labels.loc[val.index, 'FlaresFlag'],\n",
    "    labels.loc[test.index, 'FlaresFlag']\n",
    ")"
   ]
  },
  {
   "cell_type": "code",
   "execution_count": 10,
   "id": "2d363643",
   "metadata": {},
   "outputs": [
    {
     "data": {
      "text/html": [
       "<style>#sk-container-id-1 {color: black;}#sk-container-id-1 pre{padding: 0;}#sk-container-id-1 div.sk-toggleable {background-color: white;}#sk-container-id-1 label.sk-toggleable__label {cursor: pointer;display: block;width: 100%;margin-bottom: 0;padding: 0.3em;box-sizing: border-box;text-align: center;}#sk-container-id-1 label.sk-toggleable__label-arrow:before {content: \"▸\";float: left;margin-right: 0.25em;color: #696969;}#sk-container-id-1 label.sk-toggleable__label-arrow:hover:before {color: black;}#sk-container-id-1 div.sk-estimator:hover label.sk-toggleable__label-arrow:before {color: black;}#sk-container-id-1 div.sk-toggleable__content {max-height: 0;max-width: 0;overflow: hidden;text-align: left;background-color: #f0f8ff;}#sk-container-id-1 div.sk-toggleable__content pre {margin: 0.2em;color: black;border-radius: 0.25em;background-color: #f0f8ff;}#sk-container-id-1 input.sk-toggleable__control:checked~div.sk-toggleable__content {max-height: 200px;max-width: 100%;overflow: auto;}#sk-container-id-1 input.sk-toggleable__control:checked~label.sk-toggleable__label-arrow:before {content: \"▾\";}#sk-container-id-1 div.sk-estimator input.sk-toggleable__control:checked~label.sk-toggleable__label {background-color: #d4ebff;}#sk-container-id-1 div.sk-label input.sk-toggleable__control:checked~label.sk-toggleable__label {background-color: #d4ebff;}#sk-container-id-1 input.sk-hidden--visually {border: 0;clip: rect(1px 1px 1px 1px);clip: rect(1px, 1px, 1px, 1px);height: 1px;margin: -1px;overflow: hidden;padding: 0;position: absolute;width: 1px;}#sk-container-id-1 div.sk-estimator {font-family: monospace;background-color: #f0f8ff;border: 1px dotted black;border-radius: 0.25em;box-sizing: border-box;margin-bottom: 0.5em;}#sk-container-id-1 div.sk-estimator:hover {background-color: #d4ebff;}#sk-container-id-1 div.sk-parallel-item::after {content: \"\";width: 100%;border-bottom: 1px solid gray;flex-grow: 1;}#sk-container-id-1 div.sk-label:hover label.sk-toggleable__label {background-color: #d4ebff;}#sk-container-id-1 div.sk-serial::before {content: \"\";position: absolute;border-left: 1px solid gray;box-sizing: border-box;top: 0;bottom: 0;left: 50%;z-index: 0;}#sk-container-id-1 div.sk-serial {display: flex;flex-direction: column;align-items: center;background-color: white;padding-right: 0.2em;padding-left: 0.2em;position: relative;}#sk-container-id-1 div.sk-item {position: relative;z-index: 1;}#sk-container-id-1 div.sk-parallel {display: flex;align-items: stretch;justify-content: center;background-color: white;position: relative;}#sk-container-id-1 div.sk-item::before, #sk-container-id-1 div.sk-parallel-item::before {content: \"\";position: absolute;border-left: 1px solid gray;box-sizing: border-box;top: 0;bottom: 0;left: 50%;z-index: -1;}#sk-container-id-1 div.sk-parallel-item {display: flex;flex-direction: column;z-index: 1;position: relative;background-color: white;}#sk-container-id-1 div.sk-parallel-item:first-child::after {align-self: flex-end;width: 50%;}#sk-container-id-1 div.sk-parallel-item:last-child::after {align-self: flex-start;width: 50%;}#sk-container-id-1 div.sk-parallel-item:only-child::after {width: 0;}#sk-container-id-1 div.sk-dashed-wrapped {border: 1px dashed gray;margin: 0 0.4em 0.5em 0.4em;box-sizing: border-box;padding-bottom: 0.4em;background-color: white;}#sk-container-id-1 div.sk-label label {font-family: monospace;font-weight: bold;display: inline-block;line-height: 1.2em;}#sk-container-id-1 div.sk-label-container {text-align: center;}#sk-container-id-1 div.sk-container {/* jupyter's `normalize.less` sets `[hidden] { display: none; }` but bootstrap.min.css set `[hidden] { display: none !important; }` so we also need the `!important` here to be able to override the default hidden behavior on the sphinx rendered scikit-learn.org. See: https://github.com/scikit-learn/scikit-learn/issues/21755 */display: inline-block !important;position: relative;}#sk-container-id-1 div.sk-text-repr-fallback {display: none;}</style><div id=\"sk-container-id-1\" class=\"sk-top-container\"><div class=\"sk-text-repr-fallback\"><pre>Pipeline(steps=[(&#x27;imputer&#x27;, SimpleImputer(strategy=&#x27;median&#x27;)),\n",
       "                (&#x27;scaler&#x27;, RobustScaler()),\n",
       "                (&#x27;model&#x27;,\n",
       "                 GridSearchCV(cv=2, estimator=IsolationForest(random_state=42),\n",
       "                              param_grid={&#x27;n_estimators&#x27;: (10, 30, 100, 300)},\n",
       "                              scoring=&lt;function roc_auc_scoring at 0x169e1b6a0&gt;))])</pre><b>In a Jupyter environment, please rerun this cell to show the HTML representation or trust the notebook. <br />On GitHub, the HTML representation is unable to render, please try loading this page with nbviewer.org.</b></div><div class=\"sk-container\" hidden><div class=\"sk-item sk-dashed-wrapped\"><div class=\"sk-label-container\"><div class=\"sk-label sk-toggleable\"><input class=\"sk-toggleable__control sk-hidden--visually\" id=\"sk-estimator-id-1\" type=\"checkbox\" ><label for=\"sk-estimator-id-1\" class=\"sk-toggleable__label sk-toggleable__label-arrow\">Pipeline</label><div class=\"sk-toggleable__content\"><pre>Pipeline(steps=[(&#x27;imputer&#x27;, SimpleImputer(strategy=&#x27;median&#x27;)),\n",
       "                (&#x27;scaler&#x27;, RobustScaler()),\n",
       "                (&#x27;model&#x27;,\n",
       "                 GridSearchCV(cv=2, estimator=IsolationForest(random_state=42),\n",
       "                              param_grid={&#x27;n_estimators&#x27;: (10, 30, 100, 300)},\n",
       "                              scoring=&lt;function roc_auc_scoring at 0x169e1b6a0&gt;))])</pre></div></div></div><div class=\"sk-serial\"><div class=\"sk-item\"><div class=\"sk-estimator sk-toggleable\"><input class=\"sk-toggleable__control sk-hidden--visually\" id=\"sk-estimator-id-2\" type=\"checkbox\" ><label for=\"sk-estimator-id-2\" class=\"sk-toggleable__label sk-toggleable__label-arrow\">SimpleImputer</label><div class=\"sk-toggleable__content\"><pre>SimpleImputer(strategy=&#x27;median&#x27;)</pre></div></div></div><div class=\"sk-item\"><div class=\"sk-estimator sk-toggleable\"><input class=\"sk-toggleable__control sk-hidden--visually\" id=\"sk-estimator-id-3\" type=\"checkbox\" ><label for=\"sk-estimator-id-3\" class=\"sk-toggleable__label sk-toggleable__label-arrow\">RobustScaler</label><div class=\"sk-toggleable__content\"><pre>RobustScaler()</pre></div></div></div><div class=\"sk-item sk-dashed-wrapped\"><div class=\"sk-label-container\"><div class=\"sk-label sk-toggleable\"><input class=\"sk-toggleable__control sk-hidden--visually\" id=\"sk-estimator-id-4\" type=\"checkbox\" ><label for=\"sk-estimator-id-4\" class=\"sk-toggleable__label sk-toggleable__label-arrow\">model: GridSearchCV</label><div class=\"sk-toggleable__content\"><pre>GridSearchCV(cv=2, estimator=IsolationForest(random_state=42),\n",
       "             param_grid={&#x27;n_estimators&#x27;: (10, 30, 100, 300)},\n",
       "             scoring=&lt;function roc_auc_scoring at 0x169e1b6a0&gt;)</pre></div></div></div><div class=\"sk-parallel\"><div class=\"sk-parallel-item\"><div class=\"sk-item\"><div class=\"sk-label-container\"><div class=\"sk-label sk-toggleable\"><input class=\"sk-toggleable__control sk-hidden--visually\" id=\"sk-estimator-id-5\" type=\"checkbox\" ><label for=\"sk-estimator-id-5\" class=\"sk-toggleable__label sk-toggleable__label-arrow\">estimator: IsolationForest</label><div class=\"sk-toggleable__content\"><pre>IsolationForest(random_state=42)</pre></div></div></div><div class=\"sk-serial\"><div class=\"sk-item\"><div class=\"sk-estimator sk-toggleable\"><input class=\"sk-toggleable__control sk-hidden--visually\" id=\"sk-estimator-id-6\" type=\"checkbox\" ><label for=\"sk-estimator-id-6\" class=\"sk-toggleable__label sk-toggleable__label-arrow\">IsolationForest</label><div class=\"sk-toggleable__content\"><pre>IsolationForest(random_state=42)</pre></div></div></div></div></div></div></div></div></div></div></div></div>"
      ],
      "text/plain": [
       "Pipeline(steps=[('imputer', SimpleImputer(strategy='median')),\n",
       "                ('scaler', RobustScaler()),\n",
       "                ('model',\n",
       "                 GridSearchCV(cv=2, estimator=IsolationForest(random_state=42),\n",
       "                              param_grid={'n_estimators': (10, 30, 100, 300)},\n",
       "                              scoring=<function roc_auc_scoring at 0x169e1b6a0>))])"
      ]
     },
     "execution_count": 10,
     "metadata": {},
     "output_type": "execute_result"
    }
   ],
   "source": [
    "pipe = make_pipe(n_estimators=(10, 30, 100, 300))\n",
    "pipe.fit(train, ytrain)"
   ]
  },
  {
   "cell_type": "code",
   "execution_count": 11,
   "id": "a0e6233b",
   "metadata": {},
   "outputs": [
    {
     "data": {
      "text/plain": [
       "0.5840963528805392"
      ]
     },
     "execution_count": 11,
     "metadata": {},
     "output_type": "execute_result"
    }
   ],
   "source": [
    "# Flares detection best score\n",
    "pipe._final_estimator.best_score_"
   ]
  },
  {
   "cell_type": "code",
   "execution_count": 12,
   "id": "aa16d5a4",
   "metadata": {},
   "outputs": [
    {
     "data": {
      "text/plain": [
       "{'n_estimators': 100}"
      ]
     },
     "execution_count": 12,
     "metadata": {},
     "output_type": "execute_result"
    }
   ],
   "source": [
    "# Optimal parameters\n",
    "pipe._final_estimator.best_params_"
   ]
  },
  {
   "cell_type": "code",
   "execution_count": 13,
   "id": "f74ba9a5",
   "metadata": {},
   "outputs": [
    {
     "name": "stdout",
     "output_type": "stream",
     "text": [
      "ROC-AUC Score:\n",
      "    train : 0.54\n",
      "    val   : 0.57\n",
      "    test  : 0.58\n"
     ]
    }
   ],
   "source": [
    "print('ROC-AUC Score:\\n'+\n",
    "      f'    train : {round(roc_auc_scoring(pipe, train, ytrain), 2)}\\n'+\n",
    "      f'    val   : {round(roc_auc_scoring(pipe, val, yval), 2)}\\n'+\n",
    "      f'    test  : {round(roc_auc_scoring(pipe, test, ytest), 2)}'\n",
    "     )"
   ]
  },
  {
   "cell_type": "code",
   "execution_count": 14,
   "id": "9058934e",
   "metadata": {},
   "outputs": [],
   "source": [
    "df = transform_dataset(pipe, train, val, test, labels)"
   ]
  },
  {
   "cell_type": "code",
   "execution_count": 15,
   "id": "e80deff7",
   "metadata": {},
   "outputs": [
    {
     "data": {
      "text/html": [
       "<div>\n",
       "<style scoped>\n",
       "    .dataframe tbody tr th:only-of-type {\n",
       "        vertical-align: middle;\n",
       "    }\n",
       "\n",
       "    .dataframe tbody tr th {\n",
       "        vertical-align: top;\n",
       "    }\n",
       "\n",
       "    .dataframe thead th {\n",
       "        text-align: right;\n",
       "    }\n",
       "</style>\n",
       "<table border=\"1\" class=\"dataframe\">\n",
       "  <thead>\n",
       "    <tr style=\"text-align: right;\">\n",
       "      <th></th>\n",
       "      <th>score</th>\n",
       "      <th>sample</th>\n",
       "      <th>numbreaks</th>\n",
       "      <th>lc type</th>\n",
       "      <th>NH_gal</th>\n",
       "      <th>Redshift</th>\n",
       "      <th>Flares</th>\n",
       "      <th>FlaresFlag</th>\n",
       "    </tr>\n",
       "  </thead>\n",
       "  <tbody>\n",
       "    <tr>\n",
       "      <th>GRB 200205A</th>\n",
       "      <td>-0.624617</td>\n",
       "      <td>train</td>\n",
       "      <td>1</td>\n",
       "      <td>One-break</td>\n",
       "      <td>0.4300</td>\n",
       "      <td>NaN</td>\n",
       "      <td>[(210, 300), (2000, 20000.0), (80000.0, 400000...</td>\n",
       "      <td>1</td>\n",
       "    </tr>\n",
       "    <tr>\n",
       "      <th>GRB 150818A</th>\n",
       "      <td>-0.620957</td>\n",
       "      <td>train</td>\n",
       "      <td>2</td>\n",
       "      <td>Oddball</td>\n",
       "      <td>0.0247</td>\n",
       "      <td>NaN</td>\n",
       "      <td>[(74.9, 84.1)]</td>\n",
       "      <td>1</td>\n",
       "    </tr>\n",
       "    <tr>\n",
       "      <th>GRB 100316D</th>\n",
       "      <td>-0.614417</td>\n",
       "      <td>train</td>\n",
       "      <td>1</td>\n",
       "      <td>One-break</td>\n",
       "      <td>0.1000</td>\n",
       "      <td>0.0590</td>\n",
       "      <td>[]</td>\n",
       "      <td>0</td>\n",
       "    </tr>\n",
       "    <tr>\n",
       "      <th>GRB 050422</th>\n",
       "      <td>-0.598477</td>\n",
       "      <td>test</td>\n",
       "      <td>0</td>\n",
       "      <td>No breaks</td>\n",
       "      <td>1.1000</td>\n",
       "      <td>NaN</td>\n",
       "      <td>[]</td>\n",
       "      <td>0</td>\n",
       "    </tr>\n",
       "    <tr>\n",
       "      <th>GRB 130427A</th>\n",
       "      <td>-0.582182</td>\n",
       "      <td>train</td>\n",
       "      <td>5</td>\n",
       "      <td>Oddball</td>\n",
       "      <td>0.0191</td>\n",
       "      <td>0.3400</td>\n",
       "      <td>[(226, 272)]</td>\n",
       "      <td>1</td>\n",
       "    </tr>\n",
       "    <tr>\n",
       "      <th>GRB 060218</th>\n",
       "      <td>-0.581853</td>\n",
       "      <td>train</td>\n",
       "      <td>2</td>\n",
       "      <td>Oddball</td>\n",
       "      <td>0.1400</td>\n",
       "      <td>0.0331</td>\n",
       "      <td>[(272, 292), (293, 6665)]</td>\n",
       "      <td>1</td>\n",
       "    </tr>\n",
       "    <tr>\n",
       "      <th>GRB 221009A</th>\n",
       "      <td>-0.581268</td>\n",
       "      <td>test</td>\n",
       "      <td>4</td>\n",
       "      <td>Canonical</td>\n",
       "      <td>0.5400</td>\n",
       "      <td>0.1510</td>\n",
       "      <td>[(55599.99999999999, 73100.0), (73500.0, 89400...</td>\n",
       "      <td>1</td>\n",
       "    </tr>\n",
       "    <tr>\n",
       "      <th>GRB 090404</th>\n",
       "      <td>-0.575216</td>\n",
       "      <td>train</td>\n",
       "      <td>3</td>\n",
       "      <td>Canonical</td>\n",
       "      <td>0.0220</td>\n",
       "      <td>3.0000</td>\n",
       "      <td>[(107, 144)]</td>\n",
       "      <td>1</td>\n",
       "    </tr>\n",
       "    <tr>\n",
       "      <th>GRB 060729</th>\n",
       "      <td>-0.562570</td>\n",
       "      <td>train</td>\n",
       "      <td>5</td>\n",
       "      <td>Canonical</td>\n",
       "      <td>0.0540</td>\n",
       "      <td>0.5400</td>\n",
       "      <td>[(130, 146), (166, 225)]</td>\n",
       "      <td>1</td>\n",
       "    </tr>\n",
       "    <tr>\n",
       "      <th>GRB 200901B</th>\n",
       "      <td>-0.559628</td>\n",
       "      <td>train</td>\n",
       "      <td>2</td>\n",
       "      <td>Oddball</td>\n",
       "      <td>0.1200</td>\n",
       "      <td>NaN</td>\n",
       "      <td>[]</td>\n",
       "      <td>0</td>\n",
       "    </tr>\n",
       "  </tbody>\n",
       "</table>\n",
       "</div>"
      ],
      "text/plain": [
       "                score sample  numbreaks    lc type  NH_gal  Redshift  \\\n",
       "GRB 200205A -0.624617  train          1  One-break  0.4300       NaN   \n",
       "GRB 150818A -0.620957  train          2    Oddball  0.0247       NaN   \n",
       "GRB 100316D -0.614417  train          1  One-break  0.1000    0.0590   \n",
       "GRB 050422  -0.598477   test          0  No breaks  1.1000       NaN   \n",
       "GRB 130427A -0.582182  train          5    Oddball  0.0191    0.3400   \n",
       "GRB 060218  -0.581853  train          2    Oddball  0.1400    0.0331   \n",
       "GRB 221009A -0.581268   test          4  Canonical  0.5400    0.1510   \n",
       "GRB 090404  -0.575216  train          3  Canonical  0.0220    3.0000   \n",
       "GRB 060729  -0.562570  train          5  Canonical  0.0540    0.5400   \n",
       "GRB 200901B -0.559628  train          2    Oddball  0.1200       NaN   \n",
       "\n",
       "                                                        Flares  FlaresFlag  \n",
       "GRB 200205A  [(210, 300), (2000, 20000.0), (80000.0, 400000...           1  \n",
       "GRB 150818A                                     [(74.9, 84.1)]           1  \n",
       "GRB 100316D                                                 []           0  \n",
       "GRB 050422                                                  []           0  \n",
       "GRB 130427A                                       [(226, 272)]           1  \n",
       "GRB 060218                           [(272, 292), (293, 6665)]           1  \n",
       "GRB 221009A  [(55599.99999999999, 73100.0), (73500.0, 89400...           1  \n",
       "GRB 090404                                        [(107, 144)]           1  \n",
       "GRB 060729                            [(130, 146), (166, 225)]           1  \n",
       "GRB 200901B                                                 []           0  "
      ]
     },
     "execution_count": 15,
     "metadata": {},
     "output_type": "execute_result"
    }
   ],
   "source": [
    "# top-10 anomalous\n",
    "df.sort_values(by='score', axis=0).head(10)"
   ]
  },
  {
   "cell_type": "markdown",
   "id": "ac86147c",
   "metadata": {},
   "source": [
    "Despite the fact that some anomalies are detected (e.g. GRB 221009A), the FeatureExtractor-based model **fails in capturing the important morphological patterns** (X-Ray flares)."
   ]
  },
  {
   "cell_type": "markdown",
   "id": "4eb9b20e",
   "metadata": {},
   "source": [
    "# Rebinned Lightcurves Analysis (Padded LCs)"
   ]
  },
  {
   "cell_type": "code",
   "execution_count": 16,
   "id": "ff60eda6",
   "metadata": {},
   "outputs": [
    {
     "name": "stdout",
     "output_type": "stream",
     "text": [
      "Datasets downloaded\n",
      " - train  : 810 entries\n",
      " - val    : 174 entries\n",
      " - test   : 174 entries\n",
      " - labels : 1158 entries\n"
     ]
    }
   ],
   "source": [
    "train, val, test, labels = train_val_test_downloader('padded')\n",
    "train, val, test = tuple(\n",
    "    map(lambda df: choose_one_column(df, 'lgRate'),\n",
    "    (train, val, test))\n",
    ")\n",
    "ytrain, yval, ytest = (\n",
    "    labels.loc[train.index, 'FlaresFlag'],\n",
    "    labels.loc[val.index, 'FlaresFlag'],\n",
    "    labels.loc[test.index, 'FlaresFlag']\n",
    ")"
   ]
  },
  {
   "cell_type": "code",
   "execution_count": 17,
   "id": "1caf7281",
   "metadata": {},
   "outputs": [
    {
     "data": {
      "text/html": [
       "<style>#sk-container-id-2 {color: black;}#sk-container-id-2 pre{padding: 0;}#sk-container-id-2 div.sk-toggleable {background-color: white;}#sk-container-id-2 label.sk-toggleable__label {cursor: pointer;display: block;width: 100%;margin-bottom: 0;padding: 0.3em;box-sizing: border-box;text-align: center;}#sk-container-id-2 label.sk-toggleable__label-arrow:before {content: \"▸\";float: left;margin-right: 0.25em;color: #696969;}#sk-container-id-2 label.sk-toggleable__label-arrow:hover:before {color: black;}#sk-container-id-2 div.sk-estimator:hover label.sk-toggleable__label-arrow:before {color: black;}#sk-container-id-2 div.sk-toggleable__content {max-height: 0;max-width: 0;overflow: hidden;text-align: left;background-color: #f0f8ff;}#sk-container-id-2 div.sk-toggleable__content pre {margin: 0.2em;color: black;border-radius: 0.25em;background-color: #f0f8ff;}#sk-container-id-2 input.sk-toggleable__control:checked~div.sk-toggleable__content {max-height: 200px;max-width: 100%;overflow: auto;}#sk-container-id-2 input.sk-toggleable__control:checked~label.sk-toggleable__label-arrow:before {content: \"▾\";}#sk-container-id-2 div.sk-estimator input.sk-toggleable__control:checked~label.sk-toggleable__label {background-color: #d4ebff;}#sk-container-id-2 div.sk-label input.sk-toggleable__control:checked~label.sk-toggleable__label {background-color: #d4ebff;}#sk-container-id-2 input.sk-hidden--visually {border: 0;clip: rect(1px 1px 1px 1px);clip: rect(1px, 1px, 1px, 1px);height: 1px;margin: -1px;overflow: hidden;padding: 0;position: absolute;width: 1px;}#sk-container-id-2 div.sk-estimator {font-family: monospace;background-color: #f0f8ff;border: 1px dotted black;border-radius: 0.25em;box-sizing: border-box;margin-bottom: 0.5em;}#sk-container-id-2 div.sk-estimator:hover {background-color: #d4ebff;}#sk-container-id-2 div.sk-parallel-item::after {content: \"\";width: 100%;border-bottom: 1px solid gray;flex-grow: 1;}#sk-container-id-2 div.sk-label:hover label.sk-toggleable__label {background-color: #d4ebff;}#sk-container-id-2 div.sk-serial::before {content: \"\";position: absolute;border-left: 1px solid gray;box-sizing: border-box;top: 0;bottom: 0;left: 50%;z-index: 0;}#sk-container-id-2 div.sk-serial {display: flex;flex-direction: column;align-items: center;background-color: white;padding-right: 0.2em;padding-left: 0.2em;position: relative;}#sk-container-id-2 div.sk-item {position: relative;z-index: 1;}#sk-container-id-2 div.sk-parallel {display: flex;align-items: stretch;justify-content: center;background-color: white;position: relative;}#sk-container-id-2 div.sk-item::before, #sk-container-id-2 div.sk-parallel-item::before {content: \"\";position: absolute;border-left: 1px solid gray;box-sizing: border-box;top: 0;bottom: 0;left: 50%;z-index: -1;}#sk-container-id-2 div.sk-parallel-item {display: flex;flex-direction: column;z-index: 1;position: relative;background-color: white;}#sk-container-id-2 div.sk-parallel-item:first-child::after {align-self: flex-end;width: 50%;}#sk-container-id-2 div.sk-parallel-item:last-child::after {align-self: flex-start;width: 50%;}#sk-container-id-2 div.sk-parallel-item:only-child::after {width: 0;}#sk-container-id-2 div.sk-dashed-wrapped {border: 1px dashed gray;margin: 0 0.4em 0.5em 0.4em;box-sizing: border-box;padding-bottom: 0.4em;background-color: white;}#sk-container-id-2 div.sk-label label {font-family: monospace;font-weight: bold;display: inline-block;line-height: 1.2em;}#sk-container-id-2 div.sk-label-container {text-align: center;}#sk-container-id-2 div.sk-container {/* jupyter's `normalize.less` sets `[hidden] { display: none; }` but bootstrap.min.css set `[hidden] { display: none !important; }` so we also need the `!important` here to be able to override the default hidden behavior on the sphinx rendered scikit-learn.org. See: https://github.com/scikit-learn/scikit-learn/issues/21755 */display: inline-block !important;position: relative;}#sk-container-id-2 div.sk-text-repr-fallback {display: none;}</style><div id=\"sk-container-id-2\" class=\"sk-top-container\"><div class=\"sk-text-repr-fallback\"><pre>Pipeline(steps=[(&#x27;imputer&#x27;, SimpleImputer(strategy=&#x27;median&#x27;)),\n",
       "                (&#x27;scaler&#x27;, RobustScaler()),\n",
       "                (&#x27;model&#x27;,\n",
       "                 GridSearchCV(cv=2, estimator=IsolationForest(random_state=42),\n",
       "                              param_grid={&#x27;n_estimators&#x27;: (10, 30, 100, 300)},\n",
       "                              scoring=&lt;function roc_auc_scoring at 0x169e1b6a0&gt;))])</pre><b>In a Jupyter environment, please rerun this cell to show the HTML representation or trust the notebook. <br />On GitHub, the HTML representation is unable to render, please try loading this page with nbviewer.org.</b></div><div class=\"sk-container\" hidden><div class=\"sk-item sk-dashed-wrapped\"><div class=\"sk-label-container\"><div class=\"sk-label sk-toggleable\"><input class=\"sk-toggleable__control sk-hidden--visually\" id=\"sk-estimator-id-7\" type=\"checkbox\" ><label for=\"sk-estimator-id-7\" class=\"sk-toggleable__label sk-toggleable__label-arrow\">Pipeline</label><div class=\"sk-toggleable__content\"><pre>Pipeline(steps=[(&#x27;imputer&#x27;, SimpleImputer(strategy=&#x27;median&#x27;)),\n",
       "                (&#x27;scaler&#x27;, RobustScaler()),\n",
       "                (&#x27;model&#x27;,\n",
       "                 GridSearchCV(cv=2, estimator=IsolationForest(random_state=42),\n",
       "                              param_grid={&#x27;n_estimators&#x27;: (10, 30, 100, 300)},\n",
       "                              scoring=&lt;function roc_auc_scoring at 0x169e1b6a0&gt;))])</pre></div></div></div><div class=\"sk-serial\"><div class=\"sk-item\"><div class=\"sk-estimator sk-toggleable\"><input class=\"sk-toggleable__control sk-hidden--visually\" id=\"sk-estimator-id-8\" type=\"checkbox\" ><label for=\"sk-estimator-id-8\" class=\"sk-toggleable__label sk-toggleable__label-arrow\">SimpleImputer</label><div class=\"sk-toggleable__content\"><pre>SimpleImputer(strategy=&#x27;median&#x27;)</pre></div></div></div><div class=\"sk-item\"><div class=\"sk-estimator sk-toggleable\"><input class=\"sk-toggleable__control sk-hidden--visually\" id=\"sk-estimator-id-9\" type=\"checkbox\" ><label for=\"sk-estimator-id-9\" class=\"sk-toggleable__label sk-toggleable__label-arrow\">RobustScaler</label><div class=\"sk-toggleable__content\"><pre>RobustScaler()</pre></div></div></div><div class=\"sk-item sk-dashed-wrapped\"><div class=\"sk-label-container\"><div class=\"sk-label sk-toggleable\"><input class=\"sk-toggleable__control sk-hidden--visually\" id=\"sk-estimator-id-10\" type=\"checkbox\" ><label for=\"sk-estimator-id-10\" class=\"sk-toggleable__label sk-toggleable__label-arrow\">model: GridSearchCV</label><div class=\"sk-toggleable__content\"><pre>GridSearchCV(cv=2, estimator=IsolationForest(random_state=42),\n",
       "             param_grid={&#x27;n_estimators&#x27;: (10, 30, 100, 300)},\n",
       "             scoring=&lt;function roc_auc_scoring at 0x169e1b6a0&gt;)</pre></div></div></div><div class=\"sk-parallel\"><div class=\"sk-parallel-item\"><div class=\"sk-item\"><div class=\"sk-label-container\"><div class=\"sk-label sk-toggleable\"><input class=\"sk-toggleable__control sk-hidden--visually\" id=\"sk-estimator-id-11\" type=\"checkbox\" ><label for=\"sk-estimator-id-11\" class=\"sk-toggleable__label sk-toggleable__label-arrow\">estimator: IsolationForest</label><div class=\"sk-toggleable__content\"><pre>IsolationForest(random_state=42)</pre></div></div></div><div class=\"sk-serial\"><div class=\"sk-item\"><div class=\"sk-estimator sk-toggleable\"><input class=\"sk-toggleable__control sk-hidden--visually\" id=\"sk-estimator-id-12\" type=\"checkbox\" ><label for=\"sk-estimator-id-12\" class=\"sk-toggleable__label sk-toggleable__label-arrow\">IsolationForest</label><div class=\"sk-toggleable__content\"><pre>IsolationForest(random_state=42)</pre></div></div></div></div></div></div></div></div></div></div></div></div>"
      ],
      "text/plain": [
       "Pipeline(steps=[('imputer', SimpleImputer(strategy='median')),\n",
       "                ('scaler', RobustScaler()),\n",
       "                ('model',\n",
       "                 GridSearchCV(cv=2, estimator=IsolationForest(random_state=42),\n",
       "                              param_grid={'n_estimators': (10, 30, 100, 300)},\n",
       "                              scoring=<function roc_auc_scoring at 0x169e1b6a0>))])"
      ]
     },
     "execution_count": 17,
     "metadata": {},
     "output_type": "execute_result"
    }
   ],
   "source": [
    "pipe = make_pipe(n_estimators=(10, 30, 100, 300))\n",
    "pipe.fit(train, ytrain)"
   ]
  },
  {
   "cell_type": "code",
   "execution_count": 18,
   "id": "c884e955",
   "metadata": {},
   "outputs": [
    {
     "data": {
      "text/plain": [
       "0.6744779860004085"
      ]
     },
     "execution_count": 18,
     "metadata": {},
     "output_type": "execute_result"
    }
   ],
   "source": [
    "# Flares detection best score\n",
    "pipe._final_estimator.best_score_"
   ]
  },
  {
   "cell_type": "code",
   "execution_count": 19,
   "id": "ee1f5755",
   "metadata": {},
   "outputs": [
    {
     "data": {
      "text/plain": [
       "{'n_estimators': 30}"
      ]
     },
     "execution_count": 19,
     "metadata": {},
     "output_type": "execute_result"
    }
   ],
   "source": [
    "# Optimal parameters\n",
    "pipe._final_estimator.best_params_"
   ]
  },
  {
   "cell_type": "code",
   "execution_count": 20,
   "id": "8119214f",
   "metadata": {},
   "outputs": [
    {
     "name": "stdout",
     "output_type": "stream",
     "text": [
      "ROC-AUC Score:\n",
      "    train : 0.66\n",
      "    val   : 0.64\n",
      "    test  : 0.66\n"
     ]
    }
   ],
   "source": [
    "print('ROC-AUC Score:\\n'+\n",
    "      f'    train : {round(roc_auc_scoring(pipe, train, ytrain), 2)}\\n'+\n",
    "      f'    val   : {round(roc_auc_scoring(pipe, val, yval), 2)}\\n'+\n",
    "      f'    test  : {round(roc_auc_scoring(pipe, test, ytest), 2)}'\n",
    "     )"
   ]
  },
  {
   "cell_type": "code",
   "execution_count": 21,
   "id": "0cd631d0",
   "metadata": {},
   "outputs": [],
   "source": [
    "df = transform_dataset(pipe, train, val, test, labels)"
   ]
  },
  {
   "cell_type": "code",
   "execution_count": 22,
   "id": "c0b8ddfb",
   "metadata": {},
   "outputs": [
    {
     "data": {
      "text/html": [
       "<div>\n",
       "<style scoped>\n",
       "    .dataframe tbody tr th:only-of-type {\n",
       "        vertical-align: middle;\n",
       "    }\n",
       "\n",
       "    .dataframe tbody tr th {\n",
       "        vertical-align: top;\n",
       "    }\n",
       "\n",
       "    .dataframe thead th {\n",
       "        text-align: right;\n",
       "    }\n",
       "</style>\n",
       "<table border=\"1\" class=\"dataframe\">\n",
       "  <thead>\n",
       "    <tr style=\"text-align: right;\">\n",
       "      <th></th>\n",
       "      <th>score</th>\n",
       "      <th>sample</th>\n",
       "      <th>numbreaks</th>\n",
       "      <th>lc type</th>\n",
       "      <th>NH_gal</th>\n",
       "      <th>Redshift</th>\n",
       "      <th>Flares</th>\n",
       "      <th>FlaresFlag</th>\n",
       "    </tr>\n",
       "  </thead>\n",
       "  <tbody>\n",
       "    <tr>\n",
       "      <th>GRB 221009A</th>\n",
       "      <td>-0.755337</td>\n",
       "      <td>test</td>\n",
       "      <td>4</td>\n",
       "      <td>Canonical</td>\n",
       "      <td>0.5400</td>\n",
       "      <td>0.1510</td>\n",
       "      <td>[(55599.99999999999, 73100.0), (73500.0, 89400...</td>\n",
       "      <td>1</td>\n",
       "    </tr>\n",
       "    <tr>\n",
       "      <th>GRB 130427A</th>\n",
       "      <td>-0.754768</td>\n",
       "      <td>train</td>\n",
       "      <td>5</td>\n",
       "      <td>Oddball</td>\n",
       "      <td>0.0191</td>\n",
       "      <td>0.3400</td>\n",
       "      <td>[(226, 272)]</td>\n",
       "      <td>1</td>\n",
       "    </tr>\n",
       "    <tr>\n",
       "      <th>GRB 180728A</th>\n",
       "      <td>-0.732203</td>\n",
       "      <td>train</td>\n",
       "      <td>5</td>\n",
       "      <td>Oddball</td>\n",
       "      <td>0.3200</td>\n",
       "      <td>0.1170</td>\n",
       "      <td>[]</td>\n",
       "      <td>0</td>\n",
       "    </tr>\n",
       "    <tr>\n",
       "      <th>GRB 130925A</th>\n",
       "      <td>-0.717242</td>\n",
       "      <td>test</td>\n",
       "      <td>5</td>\n",
       "      <td>Canonical</td>\n",
       "      <td>0.0175</td>\n",
       "      <td>0.3470</td>\n",
       "      <td>[(0.0, 150), (450, 1179), (1250, 16000.0)]</td>\n",
       "      <td>1</td>\n",
       "    </tr>\n",
       "    <tr>\n",
       "      <th>GRB 180720B</th>\n",
       "      <td>-0.709749</td>\n",
       "      <td>val</td>\n",
       "      <td>4</td>\n",
       "      <td>Canonical</td>\n",
       "      <td>0.0392</td>\n",
       "      <td>0.6540</td>\n",
       "      <td>[(81.8, 147), (438, 524), (540, 553), (563, 599)]</td>\n",
       "      <td>1</td>\n",
       "    </tr>\n",
       "    <tr>\n",
       "      <th>GRB 190829A</th>\n",
       "      <td>-0.709590</td>\n",
       "      <td>train</td>\n",
       "      <td>3</td>\n",
       "      <td>Oddball</td>\n",
       "      <td>0.0560</td>\n",
       "      <td>0.0785</td>\n",
       "      <td>[(87.3, 180), (976, 10700.0)]</td>\n",
       "      <td>1</td>\n",
       "    </tr>\n",
       "    <tr>\n",
       "      <th>GRB 161219B</th>\n",
       "      <td>-0.702985</td>\n",
       "      <td>train</td>\n",
       "      <td>4</td>\n",
       "      <td>Canonical</td>\n",
       "      <td>0.0306</td>\n",
       "      <td>0.1475</td>\n",
       "      <td>[(325, 697)]</td>\n",
       "      <td>1</td>\n",
       "    </tr>\n",
       "    <tr>\n",
       "      <th>GRB 130702A</th>\n",
       "      <td>-0.699653</td>\n",
       "      <td>train</td>\n",
       "      <td>1</td>\n",
       "      <td>One-break</td>\n",
       "      <td>0.0183</td>\n",
       "      <td>0.1450</td>\n",
       "      <td>[]</td>\n",
       "      <td>0</td>\n",
       "    </tr>\n",
       "    <tr>\n",
       "      <th>GRB 060729</th>\n",
       "      <td>-0.694969</td>\n",
       "      <td>train</td>\n",
       "      <td>5</td>\n",
       "      <td>Canonical</td>\n",
       "      <td>0.0540</td>\n",
       "      <td>0.5400</td>\n",
       "      <td>[(130, 146), (166, 225)]</td>\n",
       "      <td>1</td>\n",
       "    </tr>\n",
       "    <tr>\n",
       "      <th>GRB 150206A</th>\n",
       "      <td>-0.670116</td>\n",
       "      <td>val</td>\n",
       "      <td>1</td>\n",
       "      <td>One-break</td>\n",
       "      <td>0.0226</td>\n",
       "      <td>2.0870</td>\n",
       "      <td>[(2044, 3500)]</td>\n",
       "      <td>1</td>\n",
       "    </tr>\n",
       "  </tbody>\n",
       "</table>\n",
       "</div>"
      ],
      "text/plain": [
       "                score sample  numbreaks    lc type  NH_gal  Redshift  \\\n",
       "GRB 221009A -0.755337   test          4  Canonical  0.5400    0.1510   \n",
       "GRB 130427A -0.754768  train          5    Oddball  0.0191    0.3400   \n",
       "GRB 180728A -0.732203  train          5    Oddball  0.3200    0.1170   \n",
       "GRB 130925A -0.717242   test          5  Canonical  0.0175    0.3470   \n",
       "GRB 180720B -0.709749    val          4  Canonical  0.0392    0.6540   \n",
       "GRB 190829A -0.709590  train          3    Oddball  0.0560    0.0785   \n",
       "GRB 161219B -0.702985  train          4  Canonical  0.0306    0.1475   \n",
       "GRB 130702A -0.699653  train          1  One-break  0.0183    0.1450   \n",
       "GRB 060729  -0.694969  train          5  Canonical  0.0540    0.5400   \n",
       "GRB 150206A -0.670116    val          1  One-break  0.0226    2.0870   \n",
       "\n",
       "                                                        Flares  FlaresFlag  \n",
       "GRB 221009A  [(55599.99999999999, 73100.0), (73500.0, 89400...           1  \n",
       "GRB 130427A                                       [(226, 272)]           1  \n",
       "GRB 180728A                                                 []           0  \n",
       "GRB 130925A         [(0.0, 150), (450, 1179), (1250, 16000.0)]           1  \n",
       "GRB 180720B  [(81.8, 147), (438, 524), (540, 553), (563, 599)]           1  \n",
       "GRB 190829A                      [(87.3, 180), (976, 10700.0)]           1  \n",
       "GRB 161219B                                       [(325, 697)]           1  \n",
       "GRB 130702A                                                 []           0  \n",
       "GRB 060729                            [(130, 146), (166, 225)]           1  \n",
       "GRB 150206A                                     [(2044, 3500)]           1  "
      ]
     },
     "execution_count": 22,
     "metadata": {},
     "output_type": "execute_result"
    }
   ],
   "source": [
    "# top-10 anomalous\n",
    "df.sort_values(by='score', axis=0).head(10)"
   ]
  },
  {
   "cell_type": "markdown",
   "id": "a841814d",
   "metadata": {},
   "source": [
    "The rebinned-lightcurve based model has better metrics, but **tends to overfit**: the most anomalous GRBs are the especially close ones (see redshift distribution below).  "
   ]
  },
  {
   "cell_type": "code",
   "execution_count": 23,
   "id": "d2ae09b3",
   "metadata": {},
   "outputs": [
    {
     "data": {
      "image/png": "[encoded data removed]",
      "text/plain": [
       "<Figure size 640x480 with 1 Axes>"
      ]
     },
     "metadata": {},
     "output_type": "display_data"
    }
   ],
   "source": [
    "labels['Redshift'].dropna().hist(bins=np.linspace(0, 9, 46), color='dimgrey')\n",
    "plt.title('Redshift distribution')\n",
    "plt.show()"
   ]
  }
 ],
 "metadata": {
  "kernelspec": {
   "display_name": "Python 3 (ipykernel)",
   "language": "python",
   "name": "python3"
  },
  "language_info": {
   "codemirror_mode": {
    "name": "ipython",
    "version": 3
   },
   "file_extension": ".py",
   "mimetype": "text/x-python",
   "name": "python",
   "nbconvert_exporter": "python",
   "pygments_lexer": "ipython3",
   "version": "3.11.5"
  }
 },
 "nbformat": 4,
 "nbformat_minor": 5
}

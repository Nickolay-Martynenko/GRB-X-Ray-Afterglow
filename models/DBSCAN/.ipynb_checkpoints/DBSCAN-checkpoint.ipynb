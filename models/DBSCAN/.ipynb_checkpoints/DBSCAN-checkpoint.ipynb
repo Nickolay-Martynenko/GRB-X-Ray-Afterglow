{
 "cells": [
  {
   "cell_type": "code",
   "execution_count": 1,
   "id": "c4bfba83",
   "metadata": {},
   "outputs": [],
   "source": [
    "import os\n",
    "import sys\n",
    "import numpy as np\n",
    "import pandas as pd\n",
    "import random"
   ]
  },
  {
   "cell_type": "code",
   "execution_count": 2,
   "id": "f2b5e156",
   "metadata": {},
   "outputs": [],
   "source": [
    "module_path = os.path.abspath(os.path.join('..'))\n",
    "if module_path not in sys.path:\n",
    "    sys.path.append(module_path)"
   ]
  },
  {
   "cell_type": "code",
   "execution_count": 3,
   "id": "42601544",
   "metadata": {},
   "outputs": [],
   "source": [
    "from utilities.data_downloader import train_val_test_downloader, choose_one_column\n",
    "from utilities.plots import plt, COLORMAP, visualize_latent\n",
    "from utilities.dtw import DTWdistanceMatrix"
   ]
  },
  {
   "cell_type": "code",
   "execution_count": 4,
   "id": "b17b88c2",
   "metadata": {},
   "outputs": [],
   "source": [
    "from sklearn.cluster import DBSCAN\n",
    "from sklearn.manifold import Isomap\n",
    "from sklearn.metrics import roc_auc_score\n",
    "from sklearn.preprocessing import RobustScaler\n",
    "from sklearn.pipeline import Pipeline"
   ]
  },
  {
   "cell_type": "code",
   "execution_count": 5,
   "id": "21cf9a3d",
   "metadata": {},
   "outputs": [],
   "source": [
    "random.seed(42)\n",
    "np.random.seed(42)"
   ]
  },
  {
   "cell_type": "markdown",
   "id": "b4ede93a",
   "metadata": {},
   "source": [
    "# Analysis Pipeline"
   ]
  },
  {
   "cell_type": "code",
   "execution_count": 6,
   "id": "3ae5bef1",
   "metadata": {},
   "outputs": [],
   "source": [
    "def make_pipe(eps:float, metric:str):\n",
    "    \"\"\"\n",
    "    Makes pipeline\n",
    "    \"\"\"\n",
    "    return Pipeline(\n",
    "        [\n",
    "         ('scaler', RobustScaler()),\n",
    "        ] * int(metric!='precomputed') +\n",
    "        [\n",
    "         ('DBSCAN', DBSCAN(eps=eps, metric=metric)),\n",
    "        ]\n",
    "    )"
   ]
  },
  {
   "cell_type": "markdown",
   "id": "23866842",
   "metadata": {},
   "source": [
    "# DTW distance on raw dataset"
   ]
  },
  {
   "cell_type": "code",
   "execution_count": 7,
   "id": "812a8270",
   "metadata": {},
   "outputs": [
    {
     "name": "stdout",
     "output_type": "stream",
     "text": [
      "Datasets downloaded\n",
      " - train  : 810 entries\n",
      " - val    : 174 entries\n",
      " - test   : 174 entries\n",
      " - labels : 1158 entries\n"
     ]
    }
   ],
   "source": [
    "train, val, test, labels = train_val_test_downloader('original')\n",
    "train, val, test = tuple(\n",
    "    map(lambda df: df['lgRate'],\n",
    "    (train, val, test))\n",
    ")"
   ]
  },
  {
   "cell_type": "code",
   "execution_count": 8,
   "id": "7725ff59",
   "metadata": {},
   "outputs": [],
   "source": [
    "X = [np.array([el for el in entry if \n",
    "               np.issubdtype(type(el), np.number)], dtype=float)\n",
    "     for df in (train, val, test) for entry in df.values]"
   ]
  },
  {
   "cell_type": "code",
   "execution_count": null,
   "id": "0157cc63",
   "metadata": {},
   "outputs": [
    {
     "name": "stderr",
     "output_type": "stream",
     "text": [
      " 23%|█████████                               | 262/1158 [00:14<01:17, 11.51it/s]"
     ]
    }
   ],
   "source": [
    "distance_matrix = DTWdistanceMatrix(X)"
   ]
  },
  {
   "cell_type": "code",
   "execution_count": null,
   "id": "ef98ef87",
   "metadata": {},
   "outputs": [],
   "source": [
    "# manifold representation\n",
    "n_components=3\n",
    "isomap = Isomap(n_components=n_components,\n",
    "                eigen_solver='dense',\n",
    "                metric='precomputed').fit(distance_matrix)\n",
    "features = pd.DataFrame(index=labels.index, data=isomap.embedding_,\n",
    "                        columns=['feature_%d' % i \n",
    "                                 for i in range(n_components)])"
   ]
  },
  {
   "cell_type": "code",
   "execution_count": null,
   "id": "1c4430cb",
   "metadata": {},
   "outputs": [],
   "source": [
    "n_samples = len(X)\n",
    "pairwise_distances = np.array(\n",
    "    [distance_matrix[i, j] for i in range(n_samples) for j in range(i)]\n",
    ")"
   ]
  },
  {
   "cell_type": "code",
   "execution_count": null,
   "id": "94a66f69",
   "metadata": {},
   "outputs": [],
   "source": [
    "plt.hist(np.log10(pairwise_distances), bins=32)\n",
    "plt.show()"
   ]
  },
  {
   "cell_type": "code",
   "execution_count": null,
   "id": "3057e2d1",
   "metadata": {},
   "outputs": [],
   "source": [
    "epsilon = np.logspace(-1, 3, 1000)"
   ]
  },
  {
   "cell_type": "code",
   "execution_count": null,
   "id": "bf735e48",
   "metadata": {},
   "outputs": [],
   "source": [
    "n_classes = np.array([], dtype=int)\n",
    "n_noisy = np.array([], dtype=int)\n",
    "\n",
    "for eps in epsilon:\n",
    "    pipe = make_pipe(eps=eps, metric='precomputed')\n",
    "    preds = pipe.fit_predict(distance_matrix)\n",
    "    classes, counts = np.unique(preds, return_counts=True)\n",
    "    n_classes = np.append(n_classes, len(classes)-1)\n",
    "    n_noisy = np.append(n_noisy, counts[0])"
   ]
  },
  {
   "cell_type": "code",
   "execution_count": null,
   "id": "355503ba",
   "metadata": {},
   "outputs": [],
   "source": [
    "fig, axes = plt.subplots(ncols=2, figsize=(8, 4))\n",
    "\n",
    "axes[0].scatter(epsilon, n_classes, marker='s', s=4, color=COLORMAP(0.3))\n",
    "axes[0].set_xscale('log')\n",
    "axes[0].set_title('n_classes vs eps')\n",
    "axes[1].scatter(epsilon, n_noisy, marker='s', s=4, color=COLORMAP(0.7))\n",
    "axes[1].set_xscale('log')\n",
    "axes[1].set_title('noisy samples vs eps')\n",
    "\n",
    "plt.show()"
   ]
  },
  {
   "cell_type": "code",
   "execution_count": null,
   "id": "7fb7d500",
   "metadata": {},
   "outputs": [],
   "source": [
    "n_scan = 1000\n",
    "epsilon_scan = np.logspace(1, 2, n_scan)\n",
    "scores = pd.DataFrame(data=np.zeros(n_samples), index=labels.index, columns=['score'])"
   ]
  },
  {
   "cell_type": "code",
   "execution_count": null,
   "id": "6df274f7",
   "metadata": {},
   "outputs": [],
   "source": [
    "for eps in epsilon_scan:\n",
    "    pipe = make_pipe(eps=eps, metric='precomputed')\n",
    "    preds = pipe.fit_predict(distance_matrix)\n",
    "    scores.loc[preds==-1, :] = scores.loc[preds==-1, :] + 1/n_scan"
   ]
  },
  {
   "cell_type": "code",
   "execution_count": null,
   "id": "5069cee3",
   "metadata": {},
   "outputs": [],
   "source": [
    "df = pd.concat((features, scores, labels), axis=1, ignore_index=False)"
   ]
  },
  {
   "cell_type": "code",
   "execution_count": null,
   "id": "4d0e2c3e",
   "metadata": {},
   "outputs": [],
   "source": [
    "if not os.path.isdir('./Figures'):\n",
    "    os.mkdir('./Figures')\n",
    "    \n",
    "visualize_latent(df, savedir='./Figures',\n",
    "                 title='Isomap embedding of the DTW-defined manifold', show=True)"
   ]
  },
  {
   "cell_type": "code",
   "execution_count": null,
   "id": "c68d4f34",
   "metadata": {},
   "outputs": [],
   "source": [
    "print('ROC_AUC Score:\\n\\t',\n",
    "      round(roc_auc_score(df['FlaresFlag'].values, df['score'].values), 2)\n",
    "     )"
   ]
  },
  {
   "cell_type": "code",
   "execution_count": null,
   "id": "8e4e38f3",
   "metadata": {},
   "outputs": [],
   "source": [
    "# top-10 anomalous\n",
    "df.sort_values(by='score').tail(10)"
   ]
  },
  {
   "cell_type": "markdown",
   "id": "73a97b40",
   "metadata": {},
   "source": [
    "# Euclidian distance on rebinned dataset"
   ]
  },
  {
   "cell_type": "code",
   "execution_count": null,
   "id": "6bb223bc",
   "metadata": {},
   "outputs": [],
   "source": [
    "train, val, test, labels = train_val_test_downloader('interp')\n",
    "train, val, test = tuple(\n",
    "    map(lambda df: choose_one_column(df, 'lgRate'),\n",
    "    (train, val, test))\n",
    ")"
   ]
  },
  {
   "cell_type": "code",
   "execution_count": null,
   "id": "1ccdae64",
   "metadata": {},
   "outputs": [],
   "source": [
    "X = pd.concat((train, val, test), axis=0, ignore_index=False)"
   ]
  },
  {
   "cell_type": "code",
   "execution_count": null,
   "id": "71635391",
   "metadata": {},
   "outputs": [],
   "source": [
    "epsilon = np.logspace(-1, 1, 1000)"
   ]
  },
  {
   "cell_type": "code",
   "execution_count": null,
   "id": "5cea2d86",
   "metadata": {},
   "outputs": [],
   "source": [
    "n_classes = np.array([], dtype=int)\n",
    "n_noisy = np.array([], dtype=int)\n",
    "\n",
    "for eps in epsilon:\n",
    "    pipe = make_pipe(eps=eps, metric='euclidean')\n",
    "    preds = pipe.fit_predict(X)\n",
    "    classes, counts = np.unique(preds, return_counts=True)\n",
    "    n_classes = np.append(n_classes, len(classes)-1)\n",
    "    n_noisy = np.append(n_noisy, counts[0])"
   ]
  },
  {
   "cell_type": "code",
   "execution_count": null,
   "id": "4953ef30",
   "metadata": {},
   "outputs": [],
   "source": [
    "fig, axes = plt.subplots(ncols=2, figsize=(8, 4))\n",
    "\n",
    "axes[0].scatter(epsilon, n_classes, marker='s', s=4, color=COLORMAP(0.3))\n",
    "axes[0].set_xscale('log')\n",
    "axes[0].set_title('n_classes vs eps')\n",
    "axes[1].scatter(epsilon, n_noisy, marker='s', s=4, color=COLORMAP(0.7))\n",
    "axes[1].set_xscale('log')\n",
    "axes[1].set_title('noisy samples vs eps')\n",
    "\n",
    "plt.show()"
   ]
  },
  {
   "cell_type": "code",
   "execution_count": null,
   "id": "8234ba41",
   "metadata": {},
   "outputs": [],
   "source": [
    "n_scan = 1000\n",
    "epsilon_scan = np.logspace(0, 1, n_scan)\n",
    "scores = pd.DataFrame(data=np.zeros(n_samples), index=labels.index, columns=['score'])"
   ]
  },
  {
   "cell_type": "code",
   "execution_count": null,
   "id": "e274ac21",
   "metadata": {},
   "outputs": [],
   "source": [
    "for eps in epsilon_scan:\n",
    "    pipe = make_pipe(eps=eps, metric='euclidean')\n",
    "    preds = pipe.fit_predict(X)\n",
    "    scores.loc[preds==-1, :] = scores.loc[preds==-1, :] + 1/n_scan"
   ]
  },
  {
   "cell_type": "code",
   "execution_count": null,
   "id": "b95a3270",
   "metadata": {},
   "outputs": [],
   "source": [
    "df = pd.concat((scores, labels), axis=1, ignore_index=False)"
   ]
  },
  {
   "cell_type": "code",
   "execution_count": null,
   "id": "5daeefae",
   "metadata": {},
   "outputs": [],
   "source": [
    "print('ROC_AUC Score:\\n\\t',\n",
    "      round(roc_auc_score(df['FlaresFlag'].values, df['score'].values), 2)\n",
    "     )"
   ]
  },
  {
   "cell_type": "code",
   "execution_count": null,
   "id": "a2659e85",
   "metadata": {},
   "outputs": [],
   "source": [
    "# top-10 anomalous\n",
    "df.sort_values(by='score').tail(10)"
   ]
  }
 ],
 "metadata": {
  "kernelspec": {
   "display_name": "Python 3 (ipykernel)",
   "language": "python",
   "name": "python3"
  },
  "language_info": {
   "codemirror_mode": {
    "name": "ipython",
    "version": 3
   },
   "file_extension": ".py",
   "mimetype": "text/x-python",
   "name": "python",
   "nbconvert_exporter": "python",
   "pygments_lexer": "ipython3",
   "version": "3.11.5"
  }
 },
 "nbformat": 4,
 "nbformat_minor": 5
}

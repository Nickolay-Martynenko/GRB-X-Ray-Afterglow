{
 "cells": [
  {
   "cell_type": "code",
   "execution_count": 1,
   "id": "b924e070",
   "metadata": {},
   "outputs": [],
   "source": [
    "import os\n",
    "import sys\n",
    "import numpy as np\n",
    "import pandas as pd\n",
    "import random"
   ]
  },
  {
   "cell_type": "code",
   "execution_count": 2,
   "id": "5820b115",
   "metadata": {},
   "outputs": [],
   "source": [
    "module_path = os.path.abspath(os.path.join('..'))\n",
    "if module_path not in sys.path:\n",
    "    sys.path.append(module_path)"
   ]
  },
  {
   "cell_type": "code",
   "execution_count": 3,
   "id": "05e32a5e",
   "metadata": {},
   "outputs": [],
   "source": [
    "from utilities.data_downloader import train_val_test_downloader, choose_one_column\n",
    "from utilities.plots import plt, CO\n",
    "from utilities.dtw import DTWdistanceMatrix"
   ]
  },
  {
   "cell_type": "code",
   "execution_count": 4,
   "id": "5f51ec66",
   "metadata": {},
   "outputs": [],
   "source": [
    "from sklearn.cluster import DBSCAN\n",
    "from sklearn.preprocessing import RobustScaler\n",
    "from sklearn.pipeline import Pipeline"
   ]
  },
  {
   "cell_type": "code",
   "execution_count": 5,
   "id": "0b6a32ea",
   "metadata": {},
   "outputs": [],
   "source": [
    "random.seed(42)\n",
    "np.random.seed(42)"
   ]
  },
  {
   "cell_type": "markdown",
   "id": "580ab24d",
   "metadata": {},
   "source": [
    "# Analysis Pipeline"
   ]
  },
  {
   "cell_type": "code",
   "execution_count": 6,
   "id": "c0e99be4",
   "metadata": {},
   "outputs": [],
   "source": [
    "def make_pipe(eps:float, metric:str):\n",
    "    \"\"\"\n",
    "    Makes pipeline\n",
    "    \"\"\"\n",
    "    return Pipeline(\n",
    "        [\n",
    "         ('scaler', RobustScaler()),\n",
    "        ] * int(metric!='precomputed') +\n",
    "        [\n",
    "         ('DBSCAN', DBSCAN(eps=eps, metric=metric)),\n",
    "        ]\n",
    "    )"
   ]
  },
  {
   "cell_type": "markdown",
   "id": "8149497c",
   "metadata": {},
   "source": [
    "# DTW distance on raw dataset"
   ]
  },
  {
   "cell_type": "code",
   "execution_count": 7,
   "id": "6f902890",
   "metadata": {},
   "outputs": [
    {
     "name": "stdout",
     "output_type": "stream",
     "text": [
      "Datasets downloaded\n",
      " - train  : 810 entries\n",
      " - val    : 174 entries\n",
      " - test   : 174 entries\n",
      " - labels : 1158 entries\n"
     ]
    }
   ],
   "source": [
    "train, val, test, labels = train_val_test_downloader('original')\n",
    "train, val, test = tuple(\n",
    "    map(lambda df: df['lgRate'],\n",
    "    (train, val, test))\n",
    ")"
   ]
  },
  {
   "cell_type": "code",
   "execution_count": 8,
   "id": "ada406ef",
   "metadata": {},
   "outputs": [],
   "source": [
    "X = [np.array([el for el in entry if \n",
    "               np.issubdtype(type(el), np.number)], dtype=float)\n",
    "     for df in (train, val, test) for entry in df.values]"
   ]
  },
  {
   "cell_type": "code",
   "execution_count": null,
   "id": "875ac4b6",
   "metadata": {},
   "outputs": [
    {
     "name": "stderr",
     "output_type": "stream",
     "text": [
      " 47%|██████████████████▉                     | 550/1158 [00:58<02:04,  4.89it/s]"
     ]
    }
   ],
   "source": [
    "distance_matrix = DTWdistanceMatrix(X)"
   ]
  },
  {
   "cell_type": "code",
   "execution_count": null,
   "id": "c8d3b959",
   "metadata": {},
   "outputs": [],
   "source": [
    "(distance_matrix >= 0).all()"
   ]
  },
  {
   "cell_type": "code",
   "execution_count": null,
   "id": "c515a510",
   "metadata": {},
   "outputs": [],
   "source": [
    "n_samples = len(X)\n",
    "pairwise_distances = np.array(\n",
    "    [distance_matrix[i, j] for i in range(n_samples) for j in range(i)]\n",
    ")"
   ]
  },
  {
   "cell_type": "code",
   "execution_count": null,
   "id": "5d62624e",
   "metadata": {},
   "outputs": [],
   "source": [
    "plt.hist(np.log10(pairwise_distances), bins=32)\n",
    "plt.show()"
   ]
  },
  {
   "cell_type": "code",
   "execution_count": null,
   "id": "39435706",
   "metadata": {},
   "outputs": [],
   "source": [
    "epsilon = np.logspace(-1, 3, 1000)"
   ]
  },
  {
   "cell_type": "code",
   "execution_count": null,
   "id": "9b9d8e5e",
   "metadata": {},
   "outputs": [],
   "source": [
    "n_classes = np.array([], dtype=int)\n",
    "n_noisy = np.array([], dtype=int)\n",
    "\n",
    "for eps in epsilon:\n",
    "    pipe = make_pipe(eps=eps, metric='precomputed')\n",
    "    preds = pipe.fit_predict(distance_matrix)\n",
    "    classes, counts = np.unique(preds, return_counts=True)\n",
    "    n_classes = np.append(n_classes, len(classes)-1)\n",
    "    n_noisy = np.append(n_noisy, counts[0])"
   ]
  },
  {
   "cell_type": "code",
   "execution_count": null,
   "id": "2dbdd940",
   "metadata": {},
   "outputs": [],
   "source": [
    "fig, axes = plt.subplots(ncols=2)\n",
    "\n",
    "axes[0].scatter(epsilon, n_classes, marker='s', s=4, color='dimgray')\n",
    "axes[0].set_xscale('log')\n",
    "axes[0].set_title('n_classes vs eps')\n",
    "axes[1].scatter(epsilon, n_noisy, marker='s', s=4, color='xkcd:green')\n",
    "axes[1].set_xscale('log')\n",
    "axes[1].set_title('noisy samples vs eps')\n",
    "\n",
    "plt.show()"
   ]
  }
 ],
 "metadata": {
  "kernelspec": {
   "display_name": "Python 3 (ipykernel)",
   "language": "python",
   "name": "python3"
  },
  "language_info": {
   "codemirror_mode": {
    "name": "ipython",
    "version": 3
   },
   "file_extension": ".py",
   "mimetype": "text/x-python",
   "name": "python",
   "nbconvert_exporter": "python",
   "pygments_lexer": "ipython3",
   "version": "3.11.5"
  }
 },
 "nbformat": 4,
 "nbformat_minor": 5
}

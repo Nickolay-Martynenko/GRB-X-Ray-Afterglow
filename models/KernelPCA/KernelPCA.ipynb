{
 "cells": [
  {
   "cell_type": "markdown",
   "id": "4a8a96a5",
   "metadata": {},
   "source": [
    "# Required modules"
   ]
  },
  {
   "cell_type": "code",
   "execution_count": 1,
   "id": "6d6c611e",
   "metadata": {},
   "outputs": [],
   "source": [
    "import os\n",
    "import sys\n",
    "import numpy as np\n",
    "import pandas as pd\n",
    "import pickle\n",
    "import random"
   ]
  },
  {
   "cell_type": "code",
   "execution_count": 2,
   "id": "67112588",
   "metadata": {},
   "outputs": [],
   "source": [
    "module_path = os.path.abspath(os.path.join('..'))\n",
    "if module_path not in sys.path:\n",
    "    sys.path.append(module_path)"
   ]
  },
  {
   "cell_type": "code",
   "execution_count": 3,
   "id": "24fd6f0c",
   "metadata": {},
   "outputs": [],
   "source": [
    "from utilities.data_downloader import train_val_test_downloader, choose_one_column\n",
    "from utilities.plots import visualize_latent"
   ]
  },
  {
   "cell_type": "code",
   "execution_count": 4,
   "id": "10d2b8b4",
   "metadata": {},
   "outputs": [],
   "source": [
    "from sklearn.impute import SimpleImputer\n",
    "from sklearn.neighbors import KernelDensity\n",
    "from sklearn.metrics import roc_auc_score\n",
    "from sklearn.model_selection import GridSearchCV\n",
    "from sklearn.preprocessing import RobustScaler\n",
    "from sklearn.decomposition import KernelPCA\n",
    "from sklearn.pipeline import Pipeline"
   ]
  },
  {
   "cell_type": "code",
   "execution_count": 5,
   "id": "b7b9313a",
   "metadata": {},
   "outputs": [],
   "source": [
    "random.seed(42)\n",
    "np.random.seed(42)"
   ]
  },
  {
   "cell_type": "markdown",
   "id": "fdc12db8",
   "metadata": {},
   "source": [
    "# Analysis Pipeline"
   ]
  },
  {
   "cell_type": "code",
   "execution_count": 6,
   "id": "c1f5078c",
   "metadata": {},
   "outputs": [],
   "source": [
    "def roc_auc_scoring(estimator, X, y)->float:\n",
    "    yscore = estimator.score_samples(X)\n",
    "    ytrue = y\n",
    "    return roc_auc_score(ytrue, yscore)"
   ]
  },
  {
   "cell_type": "code",
   "execution_count": 12,
   "id": "7752f739",
   "metadata": {},
   "outputs": [],
   "source": [
    "def make_pipe():\n",
    "    \"\"\"\n",
    "    Makes GridSearchCV pipeline\n",
    "    \"\"\"\n",
    "    return Pipeline(\n",
    "        [('imputer', SimpleImputer(\n",
    "            missing_values=np.nan, strategy='median')),\n",
    "         ('scaler', RobustScaler()),\n",
    "         ('model', GridSearchCV(\n",
    "             Pipeline([\n",
    "                 ('KernelPCA', KernelPCA(random_state=42)),\n",
    "                 ('KDE', KernelDensity(kernel='gaussian', bandwidth='silverman'))\n",
    "             ]),\n",
    "             param_grid={\n",
    "                 'KernelPCA__kernel': ('linear', 'poly', 'rbf',\n",
    "                        'sigmoid', 'cosine'),\n",
    "                 'KernelPCA__degree': (2, 3, 4),\n",
    "                 'KernelPCA__gamma': (0.1, 0.3, 1.0)},\n",
    "             scoring=roc_auc_scoring)),\n",
    "        ]\n",
    "    )"
   ]
  },
  {
   "cell_type": "markdown",
   "id": "c9cf7517",
   "metadata": {},
   "source": [
    "# Extracted Features Analysis"
   ]
  },
  {
   "cell_type": "code",
   "execution_count": 8,
   "id": "e18f98c4",
   "metadata": {},
   "outputs": [
    {
     "name": "stdout",
     "output_type": "stream",
     "text": [
      "Datasets downloaded\n",
      " - train  : 810 entries\n",
      " - val    : 174 entries\n",
      " - test   : 174 entries\n",
      " - labels : 1158 entries\n"
     ]
    }
   ],
   "source": [
    "train, val, test, labels = train_val_test_downloader('features')"
   ]
  },
  {
   "cell_type": "code",
   "execution_count": 9,
   "id": "82327830",
   "metadata": {},
   "outputs": [],
   "source": [
    "ytrain = labels.loc[train.index, 'FlaresFlag']"
   ]
  },
  {
   "cell_type": "code",
   "execution_count": 13,
   "id": "006dfad4",
   "metadata": {},
   "outputs": [],
   "source": [
    "pipe = make_pipe()"
   ]
  },
  {
   "cell_type": "code",
   "execution_count": null,
   "id": "e9679bce",
   "metadata": {},
   "outputs": [],
   "source": [
    "pipe.fit(train, ytrain)"
   ]
  },
  {
   "cell_type": "markdown",
   "id": "fdb99fed",
   "metadata": {},
   "source": [
    "# Rebinned Lightcurves Analysis"
   ]
  },
  {
   "cell_type": "code",
   "execution_count": null,
   "id": "2e280c4b",
   "metadata": {},
   "outputs": [],
   "source": [
    "train, val, test = tuple(\n",
    "    map(lambda df: choose_one_column(df, 'lgRate'),\n",
    "    train_val_test_downloader('interp'))\n",
    ")"
   ]
  },
  {
   "cell_type": "code",
   "execution_count": null,
   "id": "bd91e0bc",
   "metadata": {},
   "outputs": [],
   "source": []
  }
 ],
 "metadata": {
  "kernelspec": {
   "display_name": "Python 3 (ipykernel)",
   "language": "python",
   "name": "python3"
  },
  "language_info": {
   "codemirror_mode": {
    "name": "ipython",
    "version": 3
   },
   "file_extension": ".py",
   "mimetype": "text/x-python",
   "name": "python",
   "nbconvert_exporter": "python",
   "pygments_lexer": "ipython3",
   "version": "3.11.5"
  }
 },
 "nbformat": 4,
 "nbformat_minor": 5
}

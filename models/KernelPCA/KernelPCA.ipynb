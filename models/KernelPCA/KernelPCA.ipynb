{
 "cells": [
  {
   "cell_type": "markdown",
   "id": "4a8a96a5",
   "metadata": {},
   "source": [
    "# Required modules"
   ]
  },
  {
   "cell_type": "code",
   "execution_count": 1,
   "id": "6d6c611e",
   "metadata": {},
   "outputs": [],
   "source": [
    "import os\n",
    "import sys\n",
    "import numpy as np\n",
    "import pandas as pd\n",
    "import random\n",
    "\n",
    "from types import MethodType"
   ]
  },
  {
   "cell_type": "code",
   "execution_count": 2,
   "id": "e5f8a2a9",
   "metadata": {},
   "outputs": [],
   "source": [
    "module_path = os.path.abspath(os.path.join('..'))\n",
    "if module_path not in sys.path:\n",
    "    sys.path.append(module_path)"
   ]
  },
  {
   "cell_type": "code",
   "execution_count": 3,
   "id": "91c63e69",
   "metadata": {},
   "outputs": [],
   "source": [
    "from utilities.data_downloader import train_val_test_downloader, choose_one_column\n",
    "from utilities.plots import visualize_latent, errorbar_plot_collection, COLORMAP"
   ]
  },
  {
   "cell_type": "code",
   "execution_count": 4,
   "id": "3c76e68e",
   "metadata": {},
   "outputs": [],
   "source": [
    "from sklearn.impute import SimpleImputer\n",
    "from sklearn.neighbors import KernelDensity\n",
    "from sklearn.metrics import roc_auc_score\n",
    "from sklearn.model_selection import GridSearchCV\n",
    "from sklearn.preprocessing import RobustScaler\n",
    "from sklearn.decomposition import KernelPCA\n",
    "from sklearn.pipeline import Pipeline"
   ]
  },
  {
   "cell_type": "code",
   "execution_count": 5,
   "id": "b7b9313a",
   "metadata": {},
   "outputs": [],
   "source": [
    "random.seed(42)\n",
    "np.random.seed(42)"
   ]
  },
  {
   "cell_type": "markdown",
   "id": "d6df755c",
   "metadata": {},
   "source": [
    "# Description\n",
    "\n",
    "## Features\n",
    "We study two feature collections:\n",
    "\n",
    "- **FeatureExtractor**-induced features (see dataset/README.md for a detailed discussion). \n",
    "- Rebinned and interpolated countrate lightcurves identified with pseudo-tabular features\n",
    "\n",
    "## KernelPCA\n",
    "Independently from the kind of dataset, **KernelPCA** is utilized as follows:\n",
    "1. The data are preprocessed by median-based SimpleImputer and RobustScaler. Importantly for the anomaly detection, both are robust to outliers.\n",
    "2. Next, the **KernelPCA** output space are identified with the newly-extracted features. To deal with a quantitative criterion, we fit **KernelDensity** to the output distribtuion, and then score samples accordingly. The bandwidth is fixed according to Silverman's rule of thumb, see [[archive.org]](https://archive.org/details/densityestimatio00silv_0/page/44/mode/2up)\n",
    "3. We identify these scores as anomalous scores and compute ROC_AUC with the flag denoting whether there any X-Ray flares detected by *Swift*-XRT semi-manual analysis..\n",
    "4. The **KernelPCA** hyperparameters are optimized using GridSearchCV to maximize the cross-validation-average of the ROC_AUC on the training set.\n",
    "5. We finally study the best found estimator scores and the corresponding **KernelPCA** features.\n",
    "\n",
    "## Visualization\n",
    "We visualize the features transformed by **KernelPCA**. The color on the plots denotes the number of breaks in lightcurve trend detected by *Swift*-XRT semi-manual analysis. To measure the relation quantitatively, we calculate the correlation coefficient between the embedding coordinates and the number of breaks.\n",
    "\n",
    "## Other\n",
    "To make the results more interpretable, we also display the 10 most-anomalous-scored GRBs."
   ]
  },
  {
   "cell_type": "markdown",
   "id": "fdc12db8",
   "metadata": {},
   "source": [
    "# Analysis Pipeline"
   ]
  },
  {
   "cell_type": "code",
   "execution_count": 6,
   "id": "1b503efc",
   "metadata": {},
   "outputs": [],
   "source": [
    "def roc_auc_scoring(estimator, X, y)->float:\n",
    "    yscore = -estimator.score_samples(X) # anomalous samples have smaller log-likelihood\n",
    "    ytrue = y\n",
    "    return roc_auc_score(ytrue, yscore)"
   ]
  },
  {
   "cell_type": "code",
   "execution_count": 7,
   "id": "7752f739",
   "metadata": {},
   "outputs": [],
   "source": [
    "def make_pipe(kernels:tuple):\n",
    "    \"\"\"\n",
    "    Makes GridSearchCV pipeline\n",
    "    \"\"\"\n",
    "    return Pipeline(\n",
    "        [('imputer', SimpleImputer(\n",
    "            missing_values=np.nan, strategy='median')),\n",
    "         ('scaler', RobustScaler()),\n",
    "         ('model', GridSearchCV(\n",
    "             Pipeline([\n",
    "                 ('KernelPCA', KernelPCA(random_state=42)),\n",
    "                 ('KDE', KernelDensity(kernel='gaussian', bandwidth='silverman'))\n",
    "             ]),\n",
    "             param_grid={\n",
    "                 'KernelPCA__n_components': (1, 2, 3),\n",
    "                 'KernelPCA__kernel': kernels,\n",
    "                 'KernelPCA__gamma': (0.1, 0.3, 1.0, 3.0)},\n",
    "             scoring=roc_auc_scoring, cv=2),\n",
    "         ),\n",
    "        ]\n",
    "    )"
   ]
  },
  {
   "cell_type": "code",
   "execution_count": 8,
   "id": "098ae83a",
   "metadata": {},
   "outputs": [],
   "source": [
    "def transform_dataset(pipe:Pipeline,\n",
    "                      train:pd.DataFrame,\n",
    "                      val:pd.DataFrame,\n",
    "                      test:pd.DataFrame,\n",
    "                      labels:pd.DataFrame)->pd.DataFrame:\n",
    "    \"\"\"\n",
    "    Creates a joint dataframe of transformed features.\n",
    "    \"\"\"\n",
    "    train_df, val_df, test_df = [\n",
    "        pd.DataFrame(data=pipe.transform(df), index=df.index).rename(\n",
    "        columns=lambda col: f'feature_{col}') for df in (train, val, test)\n",
    "    ]\n",
    "    train_df['score'], val_df['score'], test_df['score'] = [\n",
    "        pipe.score_samples(df) for df in (train, val, test)\n",
    "    ]\n",
    "    train_df['sample'] = 'train'\n",
    "    val_df['sample'] = 'val'\n",
    "    test_df['sample'] = 'test'\n",
    "    df = pd.concat((train_df, val_df, test_df), axis=0, ignore_index=False)\n",
    "    df = pd.concat((df, labels), axis=1, ignore_index=False)\n",
    "    return df"
   ]
  },
  {
   "cell_type": "markdown",
   "id": "c9cf7517",
   "metadata": {},
   "source": [
    "# Extracted Features Analysis"
   ]
  },
  {
   "cell_type": "code",
   "execution_count": 9,
   "id": "e18f98c4",
   "metadata": {},
   "outputs": [
    {
     "name": "stdout",
     "output_type": "stream",
     "text": [
      "Datasets downloaded\n",
      " - train  : 810 entries\n",
      " - val    : 174 entries\n",
      " - test   : 174 entries\n",
      " - labels : 1158 entries\n"
     ]
    }
   ],
   "source": [
    "train, val, test, labels = train_val_test_downloader('features')\n",
    "ytrain, yval, ytest = (\n",
    "    labels.loc[train.index, 'FlaresFlag'],\n",
    "    labels.loc[val.index, 'FlaresFlag'],\n",
    "    labels.loc[test.index, 'FlaresFlag']\n",
    ")"
   ]
  },
  {
   "cell_type": "code",
   "execution_count": 10,
   "id": "826b267b",
   "metadata": {},
   "outputs": [
    {
     "data": {
      "text/html": [
       "<style>#sk-container-id-1 {color: black;}#sk-container-id-1 pre{padding: 0;}#sk-container-id-1 div.sk-toggleable {background-color: white;}#sk-container-id-1 label.sk-toggleable__label {cursor: pointer;display: block;width: 100%;margin-bottom: 0;padding: 0.3em;box-sizing: border-box;text-align: center;}#sk-container-id-1 label.sk-toggleable__label-arrow:before {content: \"▸\";float: left;margin-right: 0.25em;color: #696969;}#sk-container-id-1 label.sk-toggleable__label-arrow:hover:before {color: black;}#sk-container-id-1 div.sk-estimator:hover label.sk-toggleable__label-arrow:before {color: black;}#sk-container-id-1 div.sk-toggleable__content {max-height: 0;max-width: 0;overflow: hidden;text-align: left;background-color: #f0f8ff;}#sk-container-id-1 div.sk-toggleable__content pre {margin: 0.2em;color: black;border-radius: 0.25em;background-color: #f0f8ff;}#sk-container-id-1 input.sk-toggleable__control:checked~div.sk-toggleable__content {max-height: 200px;max-width: 100%;overflow: auto;}#sk-container-id-1 input.sk-toggleable__control:checked~label.sk-toggleable__label-arrow:before {content: \"▾\";}#sk-container-id-1 div.sk-estimator input.sk-toggleable__control:checked~label.sk-toggleable__label {background-color: #d4ebff;}#sk-container-id-1 div.sk-label input.sk-toggleable__control:checked~label.sk-toggleable__label {background-color: #d4ebff;}#sk-container-id-1 input.sk-hidden--visually {border: 0;clip: rect(1px 1px 1px 1px);clip: rect(1px, 1px, 1px, 1px);height: 1px;margin: -1px;overflow: hidden;padding: 0;position: absolute;width: 1px;}#sk-container-id-1 div.sk-estimator {font-family: monospace;background-color: #f0f8ff;border: 1px dotted black;border-radius: 0.25em;box-sizing: border-box;margin-bottom: 0.5em;}#sk-container-id-1 div.sk-estimator:hover {background-color: #d4ebff;}#sk-container-id-1 div.sk-parallel-item::after {content: \"\";width: 100%;border-bottom: 1px solid gray;flex-grow: 1;}#sk-container-id-1 div.sk-label:hover label.sk-toggleable__label {background-color: #d4ebff;}#sk-container-id-1 div.sk-serial::before {content: \"\";position: absolute;border-left: 1px solid gray;box-sizing: border-box;top: 0;bottom: 0;left: 50%;z-index: 0;}#sk-container-id-1 div.sk-serial {display: flex;flex-direction: column;align-items: center;background-color: white;padding-right: 0.2em;padding-left: 0.2em;position: relative;}#sk-container-id-1 div.sk-item {position: relative;z-index: 1;}#sk-container-id-1 div.sk-parallel {display: flex;align-items: stretch;justify-content: center;background-color: white;position: relative;}#sk-container-id-1 div.sk-item::before, #sk-container-id-1 div.sk-parallel-item::before {content: \"\";position: absolute;border-left: 1px solid gray;box-sizing: border-box;top: 0;bottom: 0;left: 50%;z-index: -1;}#sk-container-id-1 div.sk-parallel-item {display: flex;flex-direction: column;z-index: 1;position: relative;background-color: white;}#sk-container-id-1 div.sk-parallel-item:first-child::after {align-self: flex-end;width: 50%;}#sk-container-id-1 div.sk-parallel-item:last-child::after {align-self: flex-start;width: 50%;}#sk-container-id-1 div.sk-parallel-item:only-child::after {width: 0;}#sk-container-id-1 div.sk-dashed-wrapped {border: 1px dashed gray;margin: 0 0.4em 0.5em 0.4em;box-sizing: border-box;padding-bottom: 0.4em;background-color: white;}#sk-container-id-1 div.sk-label label {font-family: monospace;font-weight: bold;display: inline-block;line-height: 1.2em;}#sk-container-id-1 div.sk-label-container {text-align: center;}#sk-container-id-1 div.sk-container {/* jupyter's `normalize.less` sets `[hidden] { display: none; }` but bootstrap.min.css set `[hidden] { display: none !important; }` so we also need the `!important` here to be able to override the default hidden behavior on the sphinx rendered scikit-learn.org. See: https://github.com/scikit-learn/scikit-learn/issues/21755 */display: inline-block !important;position: relative;}#sk-container-id-1 div.sk-text-repr-fallback {display: none;}</style><div id=\"sk-container-id-1\" class=\"sk-top-container\"><div class=\"sk-text-repr-fallback\"><pre>Pipeline(steps=[(&#x27;imputer&#x27;, SimpleImputer(strategy=&#x27;median&#x27;)),\n",
       "                (&#x27;scaler&#x27;, RobustScaler()),\n",
       "                (&#x27;model&#x27;,\n",
       "                 GridSearchCV(cv=2,\n",
       "                              estimator=Pipeline(steps=[(&#x27;KernelPCA&#x27;,\n",
       "                                                         KernelPCA(random_state=42)),\n",
       "                                                        (&#x27;KDE&#x27;,\n",
       "                                                         KernelDensity(bandwidth=&#x27;silverman&#x27;))]),\n",
       "                              param_grid={&#x27;KernelPCA__gamma&#x27;: (0.1, 0.3, 1.0,\n",
       "                                                               3.0),\n",
       "                                          &#x27;KernelPCA__kernel&#x27;: (&#x27;rbf&#x27;,\n",
       "                                                                &#x27;sigmoid&#x27;,\n",
       "                                                                &#x27;cosine&#x27;),\n",
       "                                          &#x27;KernelPCA__n_components&#x27;: (1, 2, 3)},\n",
       "                              scoring=&lt;function roc_auc_scoring at 0x15732bc40&gt;))])</pre><b>In a Jupyter environment, please rerun this cell to show the HTML representation or trust the notebook. <br />On GitHub, the HTML representation is unable to render, please try loading this page with nbviewer.org.</b></div><div class=\"sk-container\" hidden><div class=\"sk-item sk-dashed-wrapped\"><div class=\"sk-label-container\"><div class=\"sk-label sk-toggleable\"><input class=\"sk-toggleable__control sk-hidden--visually\" id=\"sk-estimator-id-1\" type=\"checkbox\" ><label for=\"sk-estimator-id-1\" class=\"sk-toggleable__label sk-toggleable__label-arrow\">Pipeline</label><div class=\"sk-toggleable__content\"><pre>Pipeline(steps=[(&#x27;imputer&#x27;, SimpleImputer(strategy=&#x27;median&#x27;)),\n",
       "                (&#x27;scaler&#x27;, RobustScaler()),\n",
       "                (&#x27;model&#x27;,\n",
       "                 GridSearchCV(cv=2,\n",
       "                              estimator=Pipeline(steps=[(&#x27;KernelPCA&#x27;,\n",
       "                                                         KernelPCA(random_state=42)),\n",
       "                                                        (&#x27;KDE&#x27;,\n",
       "                                                         KernelDensity(bandwidth=&#x27;silverman&#x27;))]),\n",
       "                              param_grid={&#x27;KernelPCA__gamma&#x27;: (0.1, 0.3, 1.0,\n",
       "                                                               3.0),\n",
       "                                          &#x27;KernelPCA__kernel&#x27;: (&#x27;rbf&#x27;,\n",
       "                                                                &#x27;sigmoid&#x27;,\n",
       "                                                                &#x27;cosine&#x27;),\n",
       "                                          &#x27;KernelPCA__n_components&#x27;: (1, 2, 3)},\n",
       "                              scoring=&lt;function roc_auc_scoring at 0x15732bc40&gt;))])</pre></div></div></div><div class=\"sk-serial\"><div class=\"sk-item\"><div class=\"sk-estimator sk-toggleable\"><input class=\"sk-toggleable__control sk-hidden--visually\" id=\"sk-estimator-id-2\" type=\"checkbox\" ><label for=\"sk-estimator-id-2\" class=\"sk-toggleable__label sk-toggleable__label-arrow\">SimpleImputer</label><div class=\"sk-toggleable__content\"><pre>SimpleImputer(strategy=&#x27;median&#x27;)</pre></div></div></div><div class=\"sk-item\"><div class=\"sk-estimator sk-toggleable\"><input class=\"sk-toggleable__control sk-hidden--visually\" id=\"sk-estimator-id-3\" type=\"checkbox\" ><label for=\"sk-estimator-id-3\" class=\"sk-toggleable__label sk-toggleable__label-arrow\">RobustScaler</label><div class=\"sk-toggleable__content\"><pre>RobustScaler()</pre></div></div></div><div class=\"sk-item sk-dashed-wrapped\"><div class=\"sk-label-container\"><div class=\"sk-label sk-toggleable\"><input class=\"sk-toggleable__control sk-hidden--visually\" id=\"sk-estimator-id-4\" type=\"checkbox\" ><label for=\"sk-estimator-id-4\" class=\"sk-toggleable__label sk-toggleable__label-arrow\">model: GridSearchCV</label><div class=\"sk-toggleable__content\"><pre>GridSearchCV(cv=2,\n",
       "             estimator=Pipeline(steps=[(&#x27;KernelPCA&#x27;,\n",
       "                                        KernelPCA(random_state=42)),\n",
       "                                       (&#x27;KDE&#x27;,\n",
       "                                        KernelDensity(bandwidth=&#x27;silverman&#x27;))]),\n",
       "             param_grid={&#x27;KernelPCA__gamma&#x27;: (0.1, 0.3, 1.0, 3.0),\n",
       "                         &#x27;KernelPCA__kernel&#x27;: (&#x27;rbf&#x27;, &#x27;sigmoid&#x27;, &#x27;cosine&#x27;),\n",
       "                         &#x27;KernelPCA__n_components&#x27;: (1, 2, 3)},\n",
       "             scoring=&lt;function roc_auc_scoring at 0x15732bc40&gt;)</pre></div></div></div><div class=\"sk-parallel\"><div class=\"sk-parallel-item\"><div class=\"sk-item\"><div class=\"sk-label-container\"><div class=\"sk-label sk-toggleable\"><input class=\"sk-toggleable__control sk-hidden--visually\" id=\"sk-estimator-id-5\" type=\"checkbox\" ><label for=\"sk-estimator-id-5\" class=\"sk-toggleable__label sk-toggleable__label-arrow\">estimator: Pipeline</label><div class=\"sk-toggleable__content\"><pre>Pipeline(steps=[(&#x27;KernelPCA&#x27;, KernelPCA(random_state=42)),\n",
       "                (&#x27;KDE&#x27;, KernelDensity(bandwidth=&#x27;silverman&#x27;))])</pre></div></div></div><div class=\"sk-serial\"><div class=\"sk-item\"><div class=\"sk-serial\"><div class=\"sk-item\"><div class=\"sk-estimator sk-toggleable\"><input class=\"sk-toggleable__control sk-hidden--visually\" id=\"sk-estimator-id-6\" type=\"checkbox\" ><label for=\"sk-estimator-id-6\" class=\"sk-toggleable__label sk-toggleable__label-arrow\">KernelPCA</label><div class=\"sk-toggleable__content\"><pre>KernelPCA(random_state=42)</pre></div></div></div><div class=\"sk-item\"><div class=\"sk-estimator sk-toggleable\"><input class=\"sk-toggleable__control sk-hidden--visually\" id=\"sk-estimator-id-7\" type=\"checkbox\" ><label for=\"sk-estimator-id-7\" class=\"sk-toggleable__label sk-toggleable__label-arrow\">KernelDensity</label><div class=\"sk-toggleable__content\"><pre>KernelDensity(bandwidth=&#x27;silverman&#x27;)</pre></div></div></div></div></div></div></div></div></div></div></div></div></div></div>"
      ],
      "text/plain": [
       "Pipeline(steps=[('imputer', SimpleImputer(strategy='median')),\n",
       "                ('scaler', RobustScaler()),\n",
       "                ('model',\n",
       "                 GridSearchCV(cv=2,\n",
       "                              estimator=Pipeline(steps=[('KernelPCA',\n",
       "                                                         KernelPCA(random_state=42)),\n",
       "                                                        ('KDE',\n",
       "                                                         KernelDensity(bandwidth='silverman'))]),\n",
       "                              param_grid={'KernelPCA__gamma': (0.1, 0.3, 1.0,\n",
       "                                                               3.0),\n",
       "                                          'KernelPCA__kernel': ('rbf',\n",
       "                                                                'sigmoid',\n",
       "                                                                'cosine'),\n",
       "                                          'KernelPCA__n_components': (1, 2, 3)},\n",
       "                              scoring=<function roc_auc_scoring at 0x15732bc40>))])"
      ]
     },
     "execution_count": 10,
     "metadata": {},
     "output_type": "execute_result"
    }
   ],
   "source": [
    "pipe = make_pipe(kernels=('rbf', 'sigmoid', 'cosine'))\n",
    "pipe.fit(train, ytrain)"
   ]
  },
  {
   "cell_type": "code",
   "execution_count": 11,
   "id": "e19208c4",
   "metadata": {},
   "outputs": [],
   "source": [
    "def transform(self, dataframe:pd.DataFrame):\n",
    "    return self._final_estimator.best_estimator_[0].transform(\n",
    "        self[1].transform(\n",
    "            self[0].transform(dataframe)\n",
    "        )\n",
    "    )\n",
    "pipe.transform = MethodType(transform, pipe)"
   ]
  },
  {
   "cell_type": "code",
   "execution_count": 12,
   "id": "4446ddf4",
   "metadata": {},
   "outputs": [
    {
     "data": {
      "text/plain": [
       "0.5712251967523434"
      ]
     },
     "execution_count": 12,
     "metadata": {},
     "output_type": "execute_result"
    }
   ],
   "source": [
    "# Flares detection best score\n",
    "pipe._final_estimator.best_score_"
   ]
  },
  {
   "cell_type": "code",
   "execution_count": 13,
   "id": "602d201f",
   "metadata": {},
   "outputs": [
    {
     "data": {
      "text/plain": [
       "{'KernelPCA__gamma': 0.1,\n",
       " 'KernelPCA__kernel': 'cosine',\n",
       " 'KernelPCA__n_components': 3}"
      ]
     },
     "execution_count": 13,
     "metadata": {},
     "output_type": "execute_result"
    }
   ],
   "source": [
    "# Optimal parameters\n",
    "pipe._final_estimator.best_params_"
   ]
  },
  {
   "cell_type": "code",
   "execution_count": 14,
   "id": "a471747b",
   "metadata": {},
   "outputs": [
    {
     "name": "stdout",
     "output_type": "stream",
     "text": [
      "ROC-AUC Score:\n",
      "    train : 0.56\n",
      "    val   : 0.57\n",
      "    test  : 0.54\n"
     ]
    }
   ],
   "source": [
    "print('ROC-AUC Score:\\n'+\n",
    "      f'    train : {round(roc_auc_scoring(pipe, train, ytrain), 2)}\\n'+\n",
    "      f'    val   : {round(roc_auc_scoring(pipe, val, yval), 2)}\\n'+\n",
    "      f'    test  : {round(roc_auc_scoring(pipe, test, ytest), 2)}'\n",
    "     )"
   ]
  },
  {
   "cell_type": "code",
   "execution_count": 15,
   "id": "ab093c0e",
   "metadata": {},
   "outputs": [],
   "source": [
    "df = transform_dataset(pipe, train, val, test, labels)"
   ]
  },
  {
   "cell_type": "code",
   "execution_count": 16,
   "id": "d26405b4",
   "metadata": {},
   "outputs": [
    {
     "data": {
      "text/html": [
       "<div>\n",
       "<style scoped>\n",
       "    .dataframe tbody tr th:only-of-type {\n",
       "        vertical-align: middle;\n",
       "    }\n",
       "\n",
       "    .dataframe tbody tr th {\n",
       "        vertical-align: top;\n",
       "    }\n",
       "\n",
       "    .dataframe thead th {\n",
       "        text-align: right;\n",
       "    }\n",
       "</style>\n",
       "<table border=\"1\" class=\"dataframe\">\n",
       "  <thead>\n",
       "    <tr style=\"text-align: right;\">\n",
       "      <th></th>\n",
       "      <th>feature_0</th>\n",
       "      <th>feature_1</th>\n",
       "      <th>feature_2</th>\n",
       "      <th>score</th>\n",
       "      <th>sample</th>\n",
       "      <th>numbreaks</th>\n",
       "      <th>lc type</th>\n",
       "      <th>NH_gal</th>\n",
       "      <th>Redshift</th>\n",
       "      <th>Flares</th>\n",
       "      <th>FlaresFlag</th>\n",
       "    </tr>\n",
       "  </thead>\n",
       "  <tbody>\n",
       "    <tr>\n",
       "      <th>GRB 060801</th>\n",
       "      <td>-0.219559</td>\n",
       "      <td>0.334246</td>\n",
       "      <td>0.709173</td>\n",
       "      <td>-2.518056</td>\n",
       "      <td>train</td>\n",
       "      <td>0</td>\n",
       "      <td>No breaks</td>\n",
       "      <td>0.0143</td>\n",
       "      <td>1.1300</td>\n",
       "      <td>[]</td>\n",
       "      <td>0</td>\n",
       "    </tr>\n",
       "    <tr>\n",
       "      <th>GRB 231210B</th>\n",
       "      <td>-0.180890</td>\n",
       "      <td>0.228669</td>\n",
       "      <td>0.768441</td>\n",
       "      <td>-2.512724</td>\n",
       "      <td>val</td>\n",
       "      <td>2</td>\n",
       "      <td>Canonical</td>\n",
       "      <td>0.0405</td>\n",
       "      <td>3.1300</td>\n",
       "      <td>[]</td>\n",
       "      <td>0</td>\n",
       "    </tr>\n",
       "    <tr>\n",
       "      <th>GRB 051006</th>\n",
       "      <td>-0.243564</td>\n",
       "      <td>0.207045</td>\n",
       "      <td>0.711808</td>\n",
       "      <td>-2.365231</td>\n",
       "      <td>val</td>\n",
       "      <td>0</td>\n",
       "      <td>No breaks</td>\n",
       "      <td>0.0987</td>\n",
       "      <td>1.0590</td>\n",
       "      <td>[]</td>\n",
       "      <td>0</td>\n",
       "    </tr>\n",
       "    <tr>\n",
       "      <th>GRB 090510</th>\n",
       "      <td>-0.294980</td>\n",
       "      <td>0.261686</td>\n",
       "      <td>0.649915</td>\n",
       "      <td>-2.304133</td>\n",
       "      <td>train</td>\n",
       "      <td>1</td>\n",
       "      <td>One-break</td>\n",
       "      <td>0.0177</td>\n",
       "      <td>0.9030</td>\n",
       "      <td>[]</td>\n",
       "      <td>0</td>\n",
       "    </tr>\n",
       "    <tr>\n",
       "      <th>GRB 210725A</th>\n",
       "      <td>-0.116223</td>\n",
       "      <td>0.101768</td>\n",
       "      <td>0.756685</td>\n",
       "      <td>-2.299697</td>\n",
       "      <td>train</td>\n",
       "      <td>0</td>\n",
       "      <td>No breaks</td>\n",
       "      <td>0.0409</td>\n",
       "      <td>NaN</td>\n",
       "      <td>[]</td>\n",
       "      <td>0</td>\n",
       "    </tr>\n",
       "    <tr>\n",
       "      <th>GRB 201021C</th>\n",
       "      <td>-0.156779</td>\n",
       "      <td>0.445844</td>\n",
       "      <td>0.554055</td>\n",
       "      <td>-2.282448</td>\n",
       "      <td>test</td>\n",
       "      <td>0</td>\n",
       "      <td>No breaks</td>\n",
       "      <td>0.0205</td>\n",
       "      <td>1.0700</td>\n",
       "      <td>[]</td>\n",
       "      <td>0</td>\n",
       "    </tr>\n",
       "    <tr>\n",
       "      <th>GRB 090419</th>\n",
       "      <td>-0.469341</td>\n",
       "      <td>0.288768</td>\n",
       "      <td>0.601820</td>\n",
       "      <td>-2.273786</td>\n",
       "      <td>train</td>\n",
       "      <td>0</td>\n",
       "      <td>No breaks</td>\n",
       "      <td>0.2200</td>\n",
       "      <td>NaN</td>\n",
       "      <td>[(308, 564)]</td>\n",
       "      <td>1</td>\n",
       "    </tr>\n",
       "    <tr>\n",
       "      <th>GRB 150301B</th>\n",
       "      <td>-0.152664</td>\n",
       "      <td>0.013025</td>\n",
       "      <td>0.785961</td>\n",
       "      <td>-2.214538</td>\n",
       "      <td>train</td>\n",
       "      <td>0</td>\n",
       "      <td>No breaks</td>\n",
       "      <td>0.0615</td>\n",
       "      <td>1.5169</td>\n",
       "      <td>[]</td>\n",
       "      <td>0</td>\n",
       "    </tr>\n",
       "    <tr>\n",
       "      <th>GRB 200306C</th>\n",
       "      <td>-0.149675</td>\n",
       "      <td>0.015408</td>\n",
       "      <td>0.782996</td>\n",
       "      <td>-2.212788</td>\n",
       "      <td>train</td>\n",
       "      <td>1</td>\n",
       "      <td>One-break</td>\n",
       "      <td>0.0191</td>\n",
       "      <td>NaN</td>\n",
       "      <td>[(867, 1392)]</td>\n",
       "      <td>1</td>\n",
       "    </tr>\n",
       "    <tr>\n",
       "      <th>GRB 220319A</th>\n",
       "      <td>0.364043</td>\n",
       "      <td>0.826588</td>\n",
       "      <td>0.178064</td>\n",
       "      <td>-2.205628</td>\n",
       "      <td>val</td>\n",
       "      <td>0</td>\n",
       "      <td>No breaks</td>\n",
       "      <td>0.0149</td>\n",
       "      <td>NaN</td>\n",
       "      <td>[]</td>\n",
       "      <td>0</td>\n",
       "    </tr>\n",
       "  </tbody>\n",
       "</table>\n",
       "</div>"
      ],
      "text/plain": [
       "             feature_0  feature_1  feature_2     score sample  numbreaks  \\\n",
       "GRB 060801   -0.219559   0.334246   0.709173 -2.518056  train          0   \n",
       "GRB 231210B  -0.180890   0.228669   0.768441 -2.512724    val          2   \n",
       "GRB 051006   -0.243564   0.207045   0.711808 -2.365231    val          0   \n",
       "GRB 090510   -0.294980   0.261686   0.649915 -2.304133  train          1   \n",
       "GRB 210725A  -0.116223   0.101768   0.756685 -2.299697  train          0   \n",
       "GRB 201021C  -0.156779   0.445844   0.554055 -2.282448   test          0   \n",
       "GRB 090419   -0.469341   0.288768   0.601820 -2.273786  train          0   \n",
       "GRB 150301B  -0.152664   0.013025   0.785961 -2.214538  train          0   \n",
       "GRB 200306C  -0.149675   0.015408   0.782996 -2.212788  train          1   \n",
       "GRB 220319A   0.364043   0.826588   0.178064 -2.205628    val          0   \n",
       "\n",
       "               lc type  NH_gal  Redshift         Flares  FlaresFlag  \n",
       "GRB 060801   No breaks  0.0143    1.1300             []           0  \n",
       "GRB 231210B  Canonical  0.0405    3.1300             []           0  \n",
       "GRB 051006   No breaks  0.0987    1.0590             []           0  \n",
       "GRB 090510   One-break  0.0177    0.9030             []           0  \n",
       "GRB 210725A  No breaks  0.0409       NaN             []           0  \n",
       "GRB 201021C  No breaks  0.0205    1.0700             []           0  \n",
       "GRB 090419   No breaks  0.2200       NaN   [(308, 564)]           1  \n",
       "GRB 150301B  No breaks  0.0615    1.5169             []           0  \n",
       "GRB 200306C  One-break  0.0191       NaN  [(867, 1392)]           1  \n",
       "GRB 220319A  No breaks  0.0149       NaN             []           0  "
      ]
     },
     "execution_count": 16,
     "metadata": {},
     "output_type": "execute_result"
    }
   ],
   "source": [
    "# top-10 anomalous\n",
    "top10anomalous = df.sort_values(by='score', axis=0).head(10)\n",
    "top10anomalous"
   ]
  },
  {
   "cell_type": "code",
   "execution_count": 17,
   "id": "dbf01dc4",
   "metadata": {},
   "outputs": [],
   "source": [
    "top10 = list(top10anomalous.index)\n",
    "other = [grb for grb in df.index if grb not in top10]\n",
    "\n",
    "event_names = top10 + other\n",
    "colors = [COLORMAP(0.7)] * len(top10) + [COLORMAP(0.3)] * len(other)"
   ]
  },
  {
   "cell_type": "code",
   "execution_count": 19,
   "id": "42f14bc2",
   "metadata": {},
   "outputs": [
    {
     "name": "stdout",
     "output_type": "stream",
     "text": [
      "curl: (3) URL rejected: Malformed input to a URL function\r\n"
     ]
    }
   ],
   "source": [
    "!curl -o ./tmp/tmp.json 'https://raw.githubusercontent.com/Nickolay-Martynenko/GRB-X-Ray-Afterglow/main/dataset/SwiftXRT/PC_incbad/GRB 221009A'"
   ]
  },
  {
   "cell_type": "code",
   "execution_count": 18,
   "id": "802172f8",
   "metadata": {},
   "outputs": [
    {
     "name": "stderr",
     "output_type": "stream",
     "text": [
      "0it [00:00, ?it/s]curl: (3) URL rejected: Malformed input to a URL function\n",
      "curl: (3) URL rejected: Malformed input to a URL function\n",
      "0it [00:00, ?it/s]\n"
     ]
    },
    {
     "ename": "ValueError",
     "evalue": "No objects to concatenate",
     "output_type": "error",
     "traceback": [
      "\u001b[0;31m---------------------------------------------------------------------------\u001b[0m",
      "\u001b[0;31mValueError\u001b[0m                                Traceback (most recent call last)",
      "Cell \u001b[0;32mIn[18], line 3\u001b[0m\n\u001b[1;32m      1\u001b[0m \u001b[38;5;28;01mif\u001b[39;00m \u001b[38;5;129;01mnot\u001b[39;00m os\u001b[38;5;241m.\u001b[39mpath\u001b[38;5;241m.\u001b[39misdir(\u001b[38;5;124m'\u001b[39m\u001b[38;5;124m./Figures\u001b[39m\u001b[38;5;124m'\u001b[39m):\n\u001b[1;32m      2\u001b[0m     os\u001b[38;5;241m.\u001b[39mmkdir(\u001b[38;5;124m'\u001b[39m\u001b[38;5;124m./Figures\u001b[39m\u001b[38;5;124m'\u001b[39m)\n\u001b[0;32m----> 3\u001b[0m errorbar_plot_collection(event_names, colors,\n\u001b[1;32m      4\u001b[0m                          title\u001b[38;5;241m=\u001b[39m\u001b[38;5;124m'\u001b[39m\u001b[38;5;124mbest KernelPCA on LC features: top-10\u001b[39m\u001b[38;5;124m'\u001b[39m,\n\u001b[1;32m      5\u001b[0m                          savedir\u001b[38;5;241m=\u001b[39m\u001b[38;5;124m'\u001b[39m\u001b[38;5;124m./Figures\u001b[39m\u001b[38;5;124m'\u001b[39m, show\u001b[38;5;241m=\u001b[39m\u001b[38;5;28;01mTrue\u001b[39;00m)\n",
      "File \u001b[0;32m~/Downloads/GRB-X-Ray-Afterglow/models/utilities/plots.py:101\u001b[0m, in \u001b[0;36merrorbar_plot_collection\u001b[0;34m(event_names, colors, fmts, title, savedir, show)\u001b[0m\n\u001b[1;32m     98\u001b[0m     fmts \u001b[38;5;241m=\u001b[39m [\u001b[38;5;124m'\u001b[39m\u001b[38;5;124ms\u001b[39m\u001b[38;5;124m'\u001b[39m,]\u001b[38;5;241m*\u001b[39mnum_events\n\u001b[1;32m    100\u001b[0m \u001b[38;5;28;01mfor\u001b[39;00m event_name, color, fmt \u001b[38;5;129;01min\u001b[39;00m tqdm(\u001b[38;5;28mzip\u001b[39m(event_names, colors, fmts)):\n\u001b[0;32m--> 101\u001b[0m     x, y, yerr, xerr \u001b[38;5;241m=\u001b[39m download_single_LC(event_name)\n\u001b[1;32m    102\u001b[0m     ax \u001b[38;5;241m=\u001b[39m make_errorbar(ax, x, y, yerr, xerr, color, fmt)\n\u001b[1;32m    103\u001b[0m plt\u001b[38;5;241m.\u001b[39mtight_layout()\n",
      "File \u001b[0;32m~/Downloads/GRB-X-Ray-Afterglow/models/utilities/data_downloader.py:191\u001b[0m, in \u001b[0;36mdownload_single_LC\u001b[0;34m(event_name, modes)\u001b[0m\n\u001b[1;32m    185\u001b[0m         \u001b[38;5;28;01mif\u001b[39;00m \u001b[38;5;28mlen\u001b[39m(df) \u001b[38;5;241m>\u001b[39m \u001b[38;5;241m0\u001b[39m:\n\u001b[1;32m    186\u001b[0m             dataframes\u001b[38;5;241m.\u001b[39mappend(df\u001b[38;5;241m.\u001b[39mloc[:,\n\u001b[1;32m    187\u001b[0m                 [\u001b[38;5;124m'\u001b[39m\u001b[38;5;124mTime\u001b[39m\u001b[38;5;124m'\u001b[39m, \u001b[38;5;124m'\u001b[39m\u001b[38;5;124mTimeNeg\u001b[39m\u001b[38;5;124m'\u001b[39m, \u001b[38;5;124m'\u001b[39m\u001b[38;5;124mTimePos\u001b[39m\u001b[38;5;124m'\u001b[39m,\n\u001b[1;32m    188\u001b[0m                  \u001b[38;5;124m'\u001b[39m\u001b[38;5;124mRate\u001b[39m\u001b[38;5;124m'\u001b[39m, \u001b[38;5;124m'\u001b[39m\u001b[38;5;124mRatePos\u001b[39m\u001b[38;5;124m'\u001b[39m, \u001b[38;5;124m'\u001b[39m\u001b[38;5;124mRateNeg\u001b[39m\u001b[38;5;124m'\u001b[39m]\n\u001b[1;32m    189\u001b[0m                 ]\n\u001b[1;32m    190\u001b[0m             )\n\u001b[0;32m--> 191\u001b[0m dataframe \u001b[38;5;241m=\u001b[39m pd\u001b[38;5;241m.\u001b[39mconcat(\n\u001b[1;32m    192\u001b[0m     dataframes, axis\u001b[38;5;241m=\u001b[39m\u001b[38;5;241m0\u001b[39m, ignore_index\u001b[38;5;241m=\u001b[39m\u001b[38;5;28;01mTrue\u001b[39;00m\n\u001b[1;32m    193\u001b[0m )\u001b[38;5;241m.\u001b[39msort_values(by\u001b[38;5;241m=\u001b[39m\u001b[38;5;124m'\u001b[39m\u001b[38;5;124mTime\u001b[39m\u001b[38;5;124m'\u001b[39m)\n\u001b[1;32m    195\u001b[0m x \u001b[38;5;241m=\u001b[39m dataframe[\u001b[38;5;124m'\u001b[39m\u001b[38;5;124mTime\u001b[39m\u001b[38;5;124m'\u001b[39m]\u001b[38;5;241m.\u001b[39mvalues\n\u001b[1;32m    196\u001b[0m xerr \u001b[38;5;241m=\u001b[39m dataframe[[\u001b[38;5;124m'\u001b[39m\u001b[38;5;124mTimeNeg\u001b[39m\u001b[38;5;124m'\u001b[39m, \u001b[38;5;124m'\u001b[39m\u001b[38;5;124mTimePos\u001b[39m\u001b[38;5;124m'\u001b[39m]]\u001b[38;5;241m.\u001b[39mvalues\n",
      "File \u001b[0;32m~/anaconda3/lib/python3.11/site-packages/pandas/core/reshape/concat.py:372\u001b[0m, in \u001b[0;36mconcat\u001b[0;34m(objs, axis, join, ignore_index, keys, levels, names, verify_integrity, sort, copy)\u001b[0m\n\u001b[1;32m    369\u001b[0m \u001b[38;5;28;01melif\u001b[39;00m copy \u001b[38;5;129;01mand\u001b[39;00m using_copy_on_write():\n\u001b[1;32m    370\u001b[0m     copy \u001b[38;5;241m=\u001b[39m \u001b[38;5;28;01mFalse\u001b[39;00m\n\u001b[0;32m--> 372\u001b[0m op \u001b[38;5;241m=\u001b[39m _Concatenator(\n\u001b[1;32m    373\u001b[0m     objs,\n\u001b[1;32m    374\u001b[0m     axis\u001b[38;5;241m=\u001b[39maxis,\n\u001b[1;32m    375\u001b[0m     ignore_index\u001b[38;5;241m=\u001b[39mignore_index,\n\u001b[1;32m    376\u001b[0m     join\u001b[38;5;241m=\u001b[39mjoin,\n\u001b[1;32m    377\u001b[0m     keys\u001b[38;5;241m=\u001b[39mkeys,\n\u001b[1;32m    378\u001b[0m     levels\u001b[38;5;241m=\u001b[39mlevels,\n\u001b[1;32m    379\u001b[0m     names\u001b[38;5;241m=\u001b[39mnames,\n\u001b[1;32m    380\u001b[0m     verify_integrity\u001b[38;5;241m=\u001b[39mverify_integrity,\n\u001b[1;32m    381\u001b[0m     copy\u001b[38;5;241m=\u001b[39mcopy,\n\u001b[1;32m    382\u001b[0m     sort\u001b[38;5;241m=\u001b[39msort,\n\u001b[1;32m    383\u001b[0m )\n\u001b[1;32m    385\u001b[0m \u001b[38;5;28;01mreturn\u001b[39;00m op\u001b[38;5;241m.\u001b[39mget_result()\n",
      "File \u001b[0;32m~/anaconda3/lib/python3.11/site-packages/pandas/core/reshape/concat.py:429\u001b[0m, in \u001b[0;36m_Concatenator.__init__\u001b[0;34m(self, objs, axis, join, keys, levels, names, ignore_index, verify_integrity, copy, sort)\u001b[0m\n\u001b[1;32m    426\u001b[0m     objs \u001b[38;5;241m=\u001b[39m \u001b[38;5;28mlist\u001b[39m(objs)\n\u001b[1;32m    428\u001b[0m \u001b[38;5;28;01mif\u001b[39;00m \u001b[38;5;28mlen\u001b[39m(objs) \u001b[38;5;241m==\u001b[39m \u001b[38;5;241m0\u001b[39m:\n\u001b[0;32m--> 429\u001b[0m     \u001b[38;5;28;01mraise\u001b[39;00m \u001b[38;5;167;01mValueError\u001b[39;00m(\u001b[38;5;124m\"\u001b[39m\u001b[38;5;124mNo objects to concatenate\u001b[39m\u001b[38;5;124m\"\u001b[39m)\n\u001b[1;32m    431\u001b[0m \u001b[38;5;28;01mif\u001b[39;00m keys \u001b[38;5;129;01mis\u001b[39;00m \u001b[38;5;28;01mNone\u001b[39;00m:\n\u001b[1;32m    432\u001b[0m     objs \u001b[38;5;241m=\u001b[39m \u001b[38;5;28mlist\u001b[39m(com\u001b[38;5;241m.\u001b[39mnot_none(\u001b[38;5;241m*\u001b[39mobjs))\n",
      "\u001b[0;31mValueError\u001b[0m: No objects to concatenate"
     ]
    },
    {
     "data": {
      "image/png": "[encoded data removed]",
      "text/plain": [
       "<Figure size 640x480 with 1 Axes>"
      ]
     },
     "metadata": {},
     "output_type": "display_data"
    }
   ],
   "source": [
    "if not os.path.isdir('./Figures'):\n",
    "    os.mkdir('./Figures')\n",
    "errorbar_plot_collection(event_names, colors,\n",
    "                         title='best KernelPCA on LC features: top-10',\n",
    "                         savedir='./Figures', show=True)"
   ]
  },
  {
   "cell_type": "code",
   "execution_count": null,
   "id": "424ffeb4",
   "metadata": {},
   "outputs": [],
   "source": [
    "fragment = df[\n",
    "    [col for col in df.columns if col.startswith('feature_')]+\n",
    "    ['numbreaks']\n",
    "].values\n",
    "\n",
    "print('correlation between latent features and '+\n",
    "      f'numbreaks: {np.corrcoef(fragment, rowvar=False)[:-1, -1]}'\n",
    ")"
   ]
  },
  {
   "cell_type": "code",
   "execution_count": null,
   "id": "6a2c73a9",
   "metadata": {},
   "outputs": [],
   "source": [
    "visualize_latent(df, title='best KernelPCA on LC features',\n",
    "                 savedir='./Figures', show=True)"
   ]
  },
  {
   "cell_type": "markdown",
   "id": "63062518",
   "metadata": {},
   "source": [
    "Despite a notable correlation between the extracted feature space and number of breaks, no significant anomalies found. The X-Ray flares detection score is close to random."
   ]
  },
  {
   "cell_type": "markdown",
   "id": "fdb99fed",
   "metadata": {},
   "source": [
    "# Rebinned Lightcurves Analysis (Interpolated LCs)"
   ]
  },
  {
   "cell_type": "code",
   "execution_count": null,
   "id": "2e280c4b",
   "metadata": {},
   "outputs": [],
   "source": [
    "train, val, test, labels = train_val_test_downloader('interp')\n",
    "train, val, test = tuple(\n",
    "    map(lambda df: choose_one_column(df, 'lgRate'),\n",
    "    (train, val, test))\n",
    ")\n",
    "ytrain, yval, ytest = (\n",
    "    labels.loc[train.index, 'FlaresFlag'],\n",
    "    labels.loc[val.index, 'FlaresFlag'],\n",
    "    labels.loc[test.index, 'FlaresFlag']\n",
    ")"
   ]
  },
  {
   "cell_type": "code",
   "execution_count": null,
   "id": "05f55a54",
   "metadata": {},
   "outputs": [],
   "source": [
    "pipe = make_pipe(kernels=('linear', 'rbf', 'sigmoid', 'cosine'))\n",
    "pipe.fit(train, ytrain)"
   ]
  },
  {
   "cell_type": "code",
   "execution_count": null,
   "id": "302976fb",
   "metadata": {},
   "outputs": [],
   "source": [
    "def transform(self, dataframe:pd.DataFrame):\n",
    "    return self._final_estimator.best_estimator_[0].transform(\n",
    "        self[1].transform(\n",
    "            self[0].transform(dataframe)\n",
    "        )\n",
    "    )\n",
    "pipe.transform = MethodType(transform, pipe)"
   ]
  },
  {
   "cell_type": "code",
   "execution_count": null,
   "id": "a39fcd4c",
   "metadata": {},
   "outputs": [],
   "source": [
    "# Flares detection best score\n",
    "pipe._final_estimator.best_score_"
   ]
  },
  {
   "cell_type": "code",
   "execution_count": null,
   "id": "c9a505f1",
   "metadata": {},
   "outputs": [],
   "source": [
    "# Optimal parameters\n",
    "pipe._final_estimator.best_params_"
   ]
  },
  {
   "cell_type": "code",
   "execution_count": null,
   "id": "48c2bf6a",
   "metadata": {},
   "outputs": [],
   "source": [
    "print('ROC-AUC Score:\\n'+\n",
    "      f'    train : {round(roc_auc_scoring(pipe, train, ytrain), 2)}\\n'+\n",
    "      f'    val   : {round(roc_auc_scoring(pipe, val, yval), 2)}\\n'+\n",
    "      f'    test  : {round(roc_auc_scoring(pipe, test, ytest), 2)}'\n",
    "     )"
   ]
  },
  {
   "cell_type": "code",
   "execution_count": null,
   "id": "67ca68aa",
   "metadata": {},
   "outputs": [],
   "source": [
    "df = transform_dataset(pipe, train, val, test, labels)"
   ]
  },
  {
   "cell_type": "code",
   "execution_count": null,
   "id": "87fa4037",
   "metadata": {},
   "outputs": [],
   "source": [
    "# top-10 anomalous\n",
    "df.sort_values(by='score', axis=0).head(10)"
   ]
  },
  {
   "cell_type": "code",
   "execution_count": null,
   "id": "bc9ce752",
   "metadata": {},
   "outputs": [],
   "source": [
    "fragment = df[\n",
    "    [col for col in df.columns if col.startswith('feature_')]+\n",
    "    ['numbreaks']\n",
    "].values\n",
    "\n",
    "print('correlation between latent features and '+\n",
    "      f'numbreaks: {np.corrcoef(fragment, rowvar=False)[:-1, -1]}'\n",
    ")"
   ]
  },
  {
   "cell_type": "code",
   "execution_count": null,
   "id": "351b3c7c",
   "metadata": {},
   "outputs": [],
   "source": [
    "if not os.path.isdir('./Figures'):\n",
    "    os.mkdir('./Figures')\n",
    "visualize_latent(df, title='best KernelPCA on interpolated LCs',\n",
    "                 savedir='./Figures', show=True)"
   ]
  },
  {
   "cell_type": "markdown",
   "id": "1a1158d6",
   "metadata": {},
   "source": [
    "The output distribution is ill-defined because of low dimensionality. No reliable anomalies found."
   ]
  }
 ],
 "metadata": {
  "kernelspec": {
   "display_name": "Python 3 (ipykernel)",
   "language": "python",
   "name": "python3"
  },
  "language_info": {
   "codemirror_mode": {
    "name": "ipython",
    "version": 3
   },
   "file_extension": ".py",
   "mimetype": "text/x-python",
   "name": "python",
   "nbconvert_exporter": "python",
   "pygments_lexer": "ipython3",
   "version": "3.11.5"
  }
 },
 "nbformat": 4,
 "nbformat_minor": 5
}

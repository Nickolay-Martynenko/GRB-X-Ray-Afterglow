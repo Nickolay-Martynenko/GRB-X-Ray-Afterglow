{
 "cells": [
  {
   "cell_type": "markdown",
   "id": "4a8a96a5",
   "metadata": {},
   "source": [
    "# Required modules"
   ]
  },
  {
   "cell_type": "code",
   "execution_count": null,
   "id": "6d6c611e",
   "metadata": {},
   "outputs": [],
   "source": [
    "import os\n",
    "import sys\n",
    "import numpy as np\n",
    "import pandas as pd\n",
    "import random\n",
    "\n",
    "from types import MethodType"
   ]
  },
  {
   "cell_type": "code",
   "execution_count": null,
   "id": "e5f8a2a9",
   "metadata": {},
   "outputs": [],
   "source": [
    "module_path = os.path.abspath(os.path.join('..'))\n",
    "if module_path not in sys.path:\n",
    "    sys.path.append(module_path)"
   ]
  },
  {
   "cell_type": "code",
   "execution_count": null,
   "id": "91c63e69",
   "metadata": {},
   "outputs": [],
   "source": [
    "from utilities.data_downloader import train_val_test_downloader, choose_one_column\n",
    "from utilities.plots import visualize_latent, errorbar_plot_collection, COLORMAP"
   ]
  },
  {
   "cell_type": "code",
   "execution_count": null,
   "id": "3c76e68e",
   "metadata": {},
   "outputs": [],
   "source": [
    "from sklearn.impute import SimpleImputer\n",
    "from sklearn.neighbors import KernelDensity\n",
    "from sklearn.metrics import roc_auc_score\n",
    "from sklearn.model_selection import GridSearchCV\n",
    "from sklearn.preprocessing import RobustScaler\n",
    "from sklearn.decomposition import KernelPCA\n",
    "from sklearn.pipeline import Pipeline"
   ]
  },
  {
   "cell_type": "code",
   "execution_count": null,
   "id": "b7b9313a",
   "metadata": {},
   "outputs": [],
   "source": [
    "random.seed(42)\n",
    "np.random.seed(42)"
   ]
  },
  {
   "cell_type": "markdown",
   "id": "d6df755c",
   "metadata": {},
   "source": [
    "# Description\n",
    "\n",
    "## Features\n",
    "We study two feature collections:\n",
    "\n",
    "- **FeatureExtractor**-induced features (see dataset/README.md for a detailed discussion). \n",
    "- Rebinned and interpolated countrate lightcurves identified with pseudo-tabular features\n",
    "\n",
    "## KernelPCA\n",
    "Independently from the kind of dataset, **KernelPCA** is utilized as follows:\n",
    "1. The data are preprocessed by median-based SimpleImputer and RobustScaler. Importantly for the anomaly detection, both are robust to outliers.\n",
    "2. Next, the **KernelPCA** output space are identified with the newly-extracted features. To deal with a quantitative criterion, we fit **KernelDensity** to the output distribtuion, and then score samples accordingly. The bandwidth is fixed according to Silverman's rule of thumb, see [[archive.org]](https://archive.org/details/densityestimatio00silv_0/page/44/mode/2up)\n",
    "3. We identify these scores as anomalous scores and compute ROC_AUC with the flag denoting whether there any X-Ray flares detected by *Swift*-XRT semi-manual analysis..\n",
    "4. The **KernelPCA** hyperparameters are optimized using GridSearchCV to maximize the cross-validation-average of the ROC_AUC on the training set.\n",
    "5. We finally study the best found estimator scores and the corresponding **KernelPCA** features.\n",
    "\n",
    "## Visualization\n",
    "We visualize the features transformed by **KernelPCA**. The color on the plots denotes the number of breaks in lightcurve trend detected by *Swift*-XRT semi-manual analysis. To measure the relation quantitatively, we calculate the correlation coefficient between the embedding coordinates and the number of breaks.\n",
    "\n",
    "## Other\n",
    "To make the results more interpretable, we also display the 10 most-anomalous-scored GRBs."
   ]
  },
  {
   "cell_type": "markdown",
   "id": "fdc12db8",
   "metadata": {},
   "source": [
    "# Analysis Pipeline"
   ]
  },
  {
   "cell_type": "code",
   "execution_count": null,
   "id": "1b503efc",
   "metadata": {},
   "outputs": [],
   "source": [
    "def roc_auc_scoring(estimator, X, y)->float:\n",
    "    yscore = -estimator.score_samples(X) # anomalous samples have smaller log-likelihood\n",
    "    ytrue = y\n",
    "    return roc_auc_score(ytrue, yscore)"
   ]
  },
  {
   "cell_type": "code",
   "execution_count": null,
   "id": "7752f739",
   "metadata": {},
   "outputs": [],
   "source": [
    "def make_pipe(kernels:tuple):\n",
    "    \"\"\"\n",
    "    Makes GridSearchCV pipeline\n",
    "    \"\"\"\n",
    "    return Pipeline(\n",
    "        [('imputer', SimpleImputer(\n",
    "            missing_values=np.nan, strategy='median')),\n",
    "         ('scaler', RobustScaler()),\n",
    "         ('model', GridSearchCV(\n",
    "             Pipeline([\n",
    "                 ('KernelPCA', KernelPCA(random_state=42)),\n",
    "                 ('KDE', KernelDensity(kernel='gaussian', bandwidth='silverman'))\n",
    "             ]),\n",
    "             param_grid={\n",
    "                 'KernelPCA__n_components': (1, 2, 3),\n",
    "                 'KernelPCA__kernel': kernels,\n",
    "                 'KernelPCA__gamma': (0.1, 0.3, 1.0, 3.0)},\n",
    "             scoring=roc_auc_scoring, cv=2),\n",
    "         ),\n",
    "        ]\n",
    "    )"
   ]
  },
  {
   "cell_type": "code",
   "execution_count": null,
   "id": "098ae83a",
   "metadata": {},
   "outputs": [],
   "source": [
    "def transform_dataset(pipe:Pipeline,\n",
    "                      train:pd.DataFrame,\n",
    "                      val:pd.DataFrame,\n",
    "                      test:pd.DataFrame,\n",
    "                      labels:pd.DataFrame)->pd.DataFrame:\n",
    "    \"\"\"\n",
    "    Creates a joint dataframe of transformed features.\n",
    "    \"\"\"\n",
    "    train_df, val_df, test_df = [\n",
    "        pd.DataFrame(data=pipe.transform(df), index=df.index).rename(\n",
    "        columns=lambda col: f'feature_{col}') for df in (train, val, test)\n",
    "    ]\n",
    "    train_df['score'], val_df['score'], test_df['score'] = [\n",
    "        pipe.score_samples(df) for df in (train, val, test)\n",
    "    ]\n",
    "    train_df['sample'] = 'train'\n",
    "    val_df['sample'] = 'val'\n",
    "    test_df['sample'] = 'test'\n",
    "    df = pd.concat((train_df, val_df, test_df), axis=0, ignore_index=False)\n",
    "    df = pd.concat((df, labels), axis=1, ignore_index=False)\n",
    "    return df"
   ]
  },
  {
   "cell_type": "markdown",
   "id": "c9cf7517",
   "metadata": {},
   "source": [
    "# Extracted Features Analysis"
   ]
  },
  {
   "cell_type": "code",
   "execution_count": null,
   "id": "e18f98c4",
   "metadata": {},
   "outputs": [],
   "source": [
    "train, val, test, labels = train_val_test_downloader('features')\n",
    "ytrain, yval, ytest = (\n",
    "    labels.loc[train.index, 'FlaresFlag'],\n",
    "    labels.loc[val.index, 'FlaresFlag'],\n",
    "    labels.loc[test.index, 'FlaresFlag']\n",
    ")"
   ]
  },
  {
   "cell_type": "code",
   "execution_count": null,
   "id": "826b267b",
   "metadata": {},
   "outputs": [],
   "source": [
    "pipe = make_pipe(kernels=('rbf', 'sigmoid', 'cosine'))\n",
    "pipe.fit(train, ytrain)"
   ]
  },
  {
   "cell_type": "code",
   "execution_count": null,
   "id": "e19208c4",
   "metadata": {},
   "outputs": [],
   "source": [
    "def transform(self, dataframe:pd.DataFrame):\n",
    "    return self._final_estimator.best_estimator_[0].transform(\n",
    "        self[1].transform(\n",
    "            self[0].transform(dataframe)\n",
    "        )\n",
    "    )\n",
    "pipe.transform = MethodType(transform, pipe)"
   ]
  },
  {
   "cell_type": "code",
   "execution_count": null,
   "id": "4446ddf4",
   "metadata": {},
   "outputs": [],
   "source": [
    "# Flares detection best score\n",
    "pipe._final_estimator.best_score_"
   ]
  },
  {
   "cell_type": "code",
   "execution_count": null,
   "id": "602d201f",
   "metadata": {},
   "outputs": [],
   "source": [
    "# Optimal parameters\n",
    "pipe._final_estimator.best_params_"
   ]
  },
  {
   "cell_type": "code",
   "execution_count": null,
   "id": "a471747b",
   "metadata": {},
   "outputs": [],
   "source": [
    "print('ROC-AUC Score:\\n'+\n",
    "      f'    train : {round(roc_auc_scoring(pipe, train, ytrain), 2)}\\n'+\n",
    "      f'    val   : {round(roc_auc_scoring(pipe, val, yval), 2)}\\n'+\n",
    "      f'    test  : {round(roc_auc_scoring(pipe, test, ytest), 2)}'\n",
    "     )"
   ]
  },
  {
   "cell_type": "code",
   "execution_count": null,
   "id": "ab093c0e",
   "metadata": {},
   "outputs": [],
   "source": [
    "df = transform_dataset(pipe, train, val, test, labels)"
   ]
  },
  {
   "cell_type": "code",
   "execution_count": null,
   "id": "d26405b4",
   "metadata": {},
   "outputs": [],
   "source": [
    "# top-10 anomalous\n",
    "top10anomalous = df.sort_values(by='score', axis=0).head(10)\n",
    "top10anomalous"
   ]
  },
  {
   "cell_type": "code",
   "execution_count": null,
   "id": "1e22f600",
   "metadata": {},
   "outputs": [],
   "source": [
    "top10 = list(top10anomalous.index)\n",
    "other = [grb for grb in df.index if grb not in top10]\n",
    "\n",
    "event_names = top10 + other\n",
    "colors = [COLORMAP(0.7)] * len(top10) + [COLORMAP(0.3)] * len(other)"
   ]
  },
  {
   "cell_type": "code",
   "execution_count": null,
   "id": "ea4addb6",
   "metadata": {},
   "outputs": [],
   "source": [
    "if not os.path.isdir('./Figures'):\n",
    "    os.mkdir('./Figures')\n",
    "errorbar_plot_collection(event_names, colors,\n",
    "                         title='best KernelPCA on LC features: top-10',\n",
    "                         savedir='./Figures', show=True)"
   ]
  },
  {
   "cell_type": "code",
   "execution_count": null,
   "id": "424ffeb4",
   "metadata": {},
   "outputs": [],
   "source": [
    "fragment = df[\n",
    "    [col for col in df.columns if col.startswith('feature_')]+\n",
    "    ['numbreaks']\n",
    "].values\n",
    "\n",
    "print('correlation between latent features and '+\n",
    "      f'numbreaks: {np.corrcoef(fragment, rowvar=False)[:-1, -1]}'\n",
    ")"
   ]
  },
  {
   "cell_type": "code",
   "execution_count": null,
   "id": "6a2c73a9",
   "metadata": {},
   "outputs": [],
   "source": [
    "visualize_latent(df, title='best KernelPCA on LC features',\n",
    "                 savedir='./Figures', show=True)"
   ]
  },
  {
   "cell_type": "markdown",
   "id": "63062518",
   "metadata": {},
   "source": [
    "Despite a notable correlation between the extracted feature space and number of breaks, no significant anomalies found. The X-Ray flares detection score is close to random."
   ]
  },
  {
   "cell_type": "markdown",
   "id": "fdb99fed",
   "metadata": {},
   "source": [
    "# Rebinned Lightcurves Analysis (Interpolated LCs)"
   ]
  },
  {
   "cell_type": "code",
   "execution_count": null,
   "id": "2e280c4b",
   "metadata": {},
   "outputs": [],
   "source": [
    "train, val, test, labels = train_val_test_downloader('interp')\n",
    "train, val, test = tuple(\n",
    "    map(lambda df: choose_one_column(df, 'lgRate'),\n",
    "    (train, val, test))\n",
    ")\n",
    "ytrain, yval, ytest = (\n",
    "    labels.loc[train.index, 'FlaresFlag'],\n",
    "    labels.loc[val.index, 'FlaresFlag'],\n",
    "    labels.loc[test.index, 'FlaresFlag']\n",
    ")"
   ]
  },
  {
   "cell_type": "code",
   "execution_count": null,
   "id": "05f55a54",
   "metadata": {},
   "outputs": [],
   "source": [
    "pipe = make_pipe(kernels=('linear', 'rbf', 'sigmoid', 'cosine'))\n",
    "pipe.fit(train, ytrain)"
   ]
  },
  {
   "cell_type": "code",
   "execution_count": null,
   "id": "302976fb",
   "metadata": {},
   "outputs": [],
   "source": [
    "def transform(self, dataframe:pd.DataFrame):\n",
    "    return self._final_estimator.best_estimator_[0].transform(\n",
    "        self[1].transform(\n",
    "            self[0].transform(dataframe)\n",
    "        )\n",
    "    )\n",
    "pipe.transform = MethodType(transform, pipe)"
   ]
  },
  {
   "cell_type": "code",
   "execution_count": null,
   "id": "a39fcd4c",
   "metadata": {},
   "outputs": [],
   "source": [
    "# Flares detection best score\n",
    "pipe._final_estimator.best_score_"
   ]
  },
  {
   "cell_type": "code",
   "execution_count": null,
   "id": "c9a505f1",
   "metadata": {},
   "outputs": [],
   "source": [
    "# Optimal parameters\n",
    "pipe._final_estimator.best_params_"
   ]
  },
  {
   "cell_type": "code",
   "execution_count": null,
   "id": "48c2bf6a",
   "metadata": {},
   "outputs": [],
   "source": [
    "print('ROC-AUC Score:\\n'+\n",
    "      f'    train : {round(roc_auc_scoring(pipe, train, ytrain), 2)}\\n'+\n",
    "      f'    val   : {round(roc_auc_scoring(pipe, val, yval), 2)}\\n'+\n",
    "      f'    test  : {round(roc_auc_scoring(pipe, test, ytest), 2)}'\n",
    "     )"
   ]
  },
  {
   "cell_type": "code",
   "execution_count": null,
   "id": "67ca68aa",
   "metadata": {},
   "outputs": [],
   "source": [
    "df = transform_dataset(pipe, train, val, test, labels)"
   ]
  },
  {
   "cell_type": "code",
   "execution_count": null,
   "id": "87fa4037",
   "metadata": {},
   "outputs": [],
   "source": [
    "# top-10 anomalous\n",
    "df.sort_values(by='score', axis=0).head(10)"
   ]
  },
  {
   "cell_type": "code",
   "execution_count": null,
   "id": "bc9ce752",
   "metadata": {},
   "outputs": [],
   "source": [
    "fragment = df[\n",
    "    [col for col in df.columns if col.startswith('feature_')]+\n",
    "    ['numbreaks']\n",
    "].values\n",
    "\n",
    "print('correlation between latent features and '+\n",
    "      f'numbreaks: {np.corrcoef(fragment, rowvar=False)[:-1, -1]}'\n",
    ")"
   ]
  },
  {
   "cell_type": "code",
   "execution_count": null,
   "id": "351b3c7c",
   "metadata": {},
   "outputs": [],
   "source": [
    "if not os.path.isdir('./Figures'):\n",
    "    os.mkdir('./Figures')\n",
    "visualize_latent(df, title='best KernelPCA on interpolated LCs',\n",
    "                 savedir='./Figures', show=True)"
   ]
  },
  {
   "cell_type": "markdown",
   "id": "1a1158d6",
   "metadata": {},
   "source": [
    "The output distribution is ill-defined because of low dimensionality. No reliable anomalies found."
   ]
  }
 ],
 "metadata": {
  "kernelspec": {
   "display_name": "Python 3 (ipykernel)",
   "language": "python",
   "name": "python3"
  },
  "language_info": {
   "codemirror_mode": {
    "name": "ipython",
    "version": 3
   },
   "file_extension": ".py",
   "mimetype": "text/x-python",
   "name": "python",
   "nbconvert_exporter": "python",
   "pygments_lexer": "ipython3",
   "version": "3.11.5"
  }
 },
 "nbformat": 4,
 "nbformat_minor": 5
}

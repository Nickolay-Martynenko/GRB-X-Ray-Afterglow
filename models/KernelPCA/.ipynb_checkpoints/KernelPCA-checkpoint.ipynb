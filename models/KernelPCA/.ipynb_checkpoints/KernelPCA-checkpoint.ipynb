{
 "cells": [
  {
   "cell_type": "code",
   "execution_count": 1,
   "id": "6d6c611e",
   "metadata": {},
   "outputs": [],
   "source": [
    "import os\n",
    "import sys\n",
    "import numpy as np\n",
    "import pandas as pd\n",
    "import random\n",
    "\n",
    "from types import MethodType"
   ]
  },
  {
   "cell_type": "code",
   "execution_count": 2,
   "id": "e5f8a2a9",
   "metadata": {},
   "outputs": [],
   "source": [
    "module_path = os.path.abspath(os.path.join('..'))\n",
    "if module_path not in sys.path:\n",
    "    sys.path.append(module_path)"
   ]
  },
  {
   "cell_type": "code",
   "execution_count": 3,
   "id": "91c63e69",
   "metadata": {},
   "outputs": [],
   "source": [
    "from utilities.data_downloader import train_val_test_downloader, choose_one_column\n",
    "from utilities.plots import visualize_latent, COLORMAP"
   ]
  },
  {
   "cell_type": "code",
   "execution_count": 4,
   "id": "3c76e68e",
   "metadata": {},
   "outputs": [],
   "source": [
    "from sklearn.impute import SimpleImputer\n",
    "from sklearn.neighbors import KernelDensity\n",
    "from sklearn.metrics import roc_auc_score\n",
    "from sklearn.model_selection import GridSearchCV, PredefinedSplit\n",
    "from sklearn.preprocessing import RobustScaler\n",
    "from sklearn.decomposition import KernelPCA\n",
    "from sklearn.pipeline import Pipeline"
   ]
  },
  {
   "cell_type": "code",
   "execution_count": 5,
   "id": "b7b9313a",
   "metadata": {},
   "outputs": [],
   "source": [
    "random.seed(42)\n",
    "np.random.seed(42)"
   ]
  },
  {
   "cell_type": "markdown",
   "id": "d6df755c",
   "metadata": {},
   "source": [
    "# Description\n",
    "\n",
    "## Features\n",
    "We study two feature collections:\n",
    "\n",
    "- **FeatureExtractor**-induced features (see dataset/README.md for a detailed discussion). \n",
    "- Rebinned and interpolated countrate lightcurves identified with pseudo-tabular features\n",
    "\n",
    "## KernelPCA\n",
    "Independently from the kind of dataset, **KernelPCA** is utilized as follows:\n",
    "1. The data are preprocessed by median-based SimpleImputer and RobustScaler. Importantly for the anomaly detection, both are robust to outliers.\n",
    "2. Next, the **KernelPCA** output space are identified with the newly-extracted features. To deal with a quantitative criterion, we fit **KernelDensity** to the output distribtuion, and then score samples accordingly. The bandwidth is fixed according to Silverman's rule of thumb, see [[archive.org]](https://archive.org/details/densityestimatio00silv_0/page/44/mode/2up)\n",
    "3. We identify these scores as anomalous scores and compute ROC_AUC with the flag denoting whether there any X-Ray flares detected by *Swift*-XRT semi-manual analysis..\n",
    "4. The **KernelPCA** hyperparameters are optimized using GridSearchCV to maximize the cross-validation-average of the ROC_AUC on the training set.\n",
    "5. We finally study the best found estimator scores and the corresponding **KernelPCA** features.\n",
    "\n",
    "## Visualization\n",
    "We visualize the features transformed by **KernelPCA**. The color on the plots denotes the number of breaks in lightcurve trend detected by *Swift*-XRT semi-manual analysis. To measure the relation quantitatively, we calculate the correlation coefficient between the embedding coordinates and the number of breaks.\n",
    "\n",
    "## Other\n",
    "To make the results more interpretable, we also display the 10 most-anomalous-scored GRBs."
   ]
  },
  {
   "cell_type": "markdown",
   "id": "fdc12db8",
   "metadata": {},
   "source": [
    "# Analysis Pipeline"
   ]
  },
  {
   "cell_type": "code",
   "execution_count": 6,
   "id": "1b503efc",
   "metadata": {},
   "outputs": [],
   "source": [
    "def roc_auc_scoring(estimator, X, y)->float:\n",
    "    yscore = -estimator.score_samples(X) # anomalous samples have smaller log-likelihood\n",
    "    ytrue = y\n",
    "    return roc_auc_score(ytrue, yscore)"
   ]
  },
  {
   "cell_type": "code",
   "execution_count": 8,
   "id": "7752f739",
   "metadata": {},
   "outputs": [],
   "source": [
    "def make_pipe(kernels:tuple, predef_split:PredefinedSplit):\n",
    "    \"\"\"\n",
    "    Makes GridSearchCV pipeline\n",
    "    \"\"\"\n",
    "    return Pipeline(\n",
    "        [('imputer', SimpleImputer(\n",
    "            missing_values=np.nan, strategy='median')),\n",
    "         ('scaler', RobustScaler()),\n",
    "         ('model', GridSearchCV(\n",
    "             Pipeline([\n",
    "                 ('KernelPCA', KernelPCA(random_state=42)),\n",
    "                 ('KDE', KernelDensity(kernel='gaussian', bandwidth='silverman'))\n",
    "             ]),\n",
    "             param_grid={\n",
    "                 'KernelPCA__n_components': (2, 3),\n",
    "                 'KernelPCA__kernel': kernels,\n",
    "                 'KernelPCA__gamma': (None, 0.1, 0.3, 1.0, 3.0)},\n",
    "             scoring=roc_auc_scoring, cv=predef_split,\n",
    "             refit=True),\n",
    "         ),\n",
    "        ]\n",
    "    )"
   ]
  },
  {
   "cell_type": "code",
   "execution_count": 9,
   "id": "098ae83a",
   "metadata": {},
   "outputs": [],
   "source": [
    "def transform_dataset(pipe:Pipeline,\n",
    "                      train:pd.DataFrame,\n",
    "                      val:pd.DataFrame,\n",
    "                      test:pd.DataFrame,\n",
    "                      labels:pd.DataFrame)->pd.DataFrame:\n",
    "    \"\"\"\n",
    "    Creates a joint dataframe of transformed features.\n",
    "    \"\"\"\n",
    "    train_df, val_df, test_df = [\n",
    "        pd.DataFrame(data=pipe.transform(df), index=df.index).rename(\n",
    "        columns=lambda col: f'feature_{col}') for df in (train, val, test)\n",
    "    ]\n",
    "    train_df['score'], val_df['score'], test_df['score'] = [\n",
    "        pipe.score_samples(df) for df in (train, val, test)\n",
    "    ]\n",
    "    train_df['sample'] = 'train'\n",
    "    val_df['sample'] = 'val'\n",
    "    test_df['sample'] = 'test'\n",
    "    df = pd.concat((train_df, val_df, test_df), axis=0, ignore_index=False)\n",
    "    df = pd.concat((df, labels), axis=1, ignore_index=False)\n",
    "    return df"
   ]
  },
  {
   "cell_type": "markdown",
   "id": "c9cf7517",
   "metadata": {},
   "source": [
    "# Extracted Features Analysis"
   ]
  },
  {
   "cell_type": "code",
   "execution_count": 10,
   "id": "e18f98c4",
   "metadata": {},
   "outputs": [
    {
     "name": "stdout",
     "output_type": "stream",
     "text": [
      "Datasets downloaded\n",
      " - train  : 810 entries\n",
      " - val    : 174 entries\n",
      " - test   : 174 entries\n",
      " - labels : 1158 entries\n"
     ]
    }
   ],
   "source": [
    "train, val, test, labels = train_val_test_downloader('features')\n",
    "ytrain, yval, ytest = (\n",
    "    labels.loc[train.index, 'FlaresFlag'],\n",
    "    labels.loc[val.index, 'FlaresFlag'],\n",
    "    labels.loc[test.index, 'FlaresFlag']\n",
    ")"
   ]
  },
  {
   "cell_type": "code",
   "execution_count": 11,
   "id": "ef8a0097-726e-4ae3-81d2-5db3c05155b7",
   "metadata": {},
   "outputs": [],
   "source": [
    "train_val = pd.concat((train, val), axis=0, ignore_index=False)\n",
    "y_train_val = pd.concat((ytrain, yval), axis=0, ignore_index=False)"
   ]
  },
  {
   "cell_type": "code",
   "execution_count": 12,
   "id": "4453cfb7-d039-4654-80a6-8e386a7a9659",
   "metadata": {},
   "outputs": [
    {
     "data": {
      "text/plain": [
       "PredefinedSplit(test_fold=array([-1, -1, ...,  0,  0]))"
      ]
     },
     "execution_count": 12,
     "metadata": {},
     "output_type": "execute_result"
    }
   ],
   "source": [
    "split = -1 * np.array([idx in train.index for idx in train_val.index], dtype=int)\n",
    "predef_split = PredefinedSplit(split)\n",
    "predef_split"
   ]
  },
  {
   "cell_type": "code",
   "execution_count": 23,
   "id": "826b267b",
   "metadata": {},
   "outputs": [
    {
     "data": {
      "text/html": [
       "<style>#sk-container-id-3 {color: black;}#sk-container-id-3 pre{padding: 0;}#sk-container-id-3 div.sk-toggleable {background-color: white;}#sk-container-id-3 label.sk-toggleable__label {cursor: pointer;display: block;width: 100%;margin-bottom: 0;padding: 0.3em;box-sizing: border-box;text-align: center;}#sk-container-id-3 label.sk-toggleable__label-arrow:before {content: \"▸\";float: left;margin-right: 0.25em;color: #696969;}#sk-container-id-3 label.sk-toggleable__label-arrow:hover:before {color: black;}#sk-container-id-3 div.sk-estimator:hover label.sk-toggleable__label-arrow:before {color: black;}#sk-container-id-3 div.sk-toggleable__content {max-height: 0;max-width: 0;overflow: hidden;text-align: left;background-color: #f0f8ff;}#sk-container-id-3 div.sk-toggleable__content pre {margin: 0.2em;color: black;border-radius: 0.25em;background-color: #f0f8ff;}#sk-container-id-3 input.sk-toggleable__control:checked~div.sk-toggleable__content {max-height: 200px;max-width: 100%;overflow: auto;}#sk-container-id-3 input.sk-toggleable__control:checked~label.sk-toggleable__label-arrow:before {content: \"▾\";}#sk-container-id-3 div.sk-estimator input.sk-toggleable__control:checked~label.sk-toggleable__label {background-color: #d4ebff;}#sk-container-id-3 div.sk-label input.sk-toggleable__control:checked~label.sk-toggleable__label {background-color: #d4ebff;}#sk-container-id-3 input.sk-hidden--visually {border: 0;clip: rect(1px 1px 1px 1px);clip: rect(1px, 1px, 1px, 1px);height: 1px;margin: -1px;overflow: hidden;padding: 0;position: absolute;width: 1px;}#sk-container-id-3 div.sk-estimator {font-family: monospace;background-color: #f0f8ff;border: 1px dotted black;border-radius: 0.25em;box-sizing: border-box;margin-bottom: 0.5em;}#sk-container-id-3 div.sk-estimator:hover {background-color: #d4ebff;}#sk-container-id-3 div.sk-parallel-item::after {content: \"\";width: 100%;border-bottom: 1px solid gray;flex-grow: 1;}#sk-container-id-3 div.sk-label:hover label.sk-toggleable__label {background-color: #d4ebff;}#sk-container-id-3 div.sk-serial::before {content: \"\";position: absolute;border-left: 1px solid gray;box-sizing: border-box;top: 0;bottom: 0;left: 50%;z-index: 0;}#sk-container-id-3 div.sk-serial {display: flex;flex-direction: column;align-items: center;background-color: white;padding-right: 0.2em;padding-left: 0.2em;position: relative;}#sk-container-id-3 div.sk-item {position: relative;z-index: 1;}#sk-container-id-3 div.sk-parallel {display: flex;align-items: stretch;justify-content: center;background-color: white;position: relative;}#sk-container-id-3 div.sk-item::before, #sk-container-id-3 div.sk-parallel-item::before {content: \"\";position: absolute;border-left: 1px solid gray;box-sizing: border-box;top: 0;bottom: 0;left: 50%;z-index: -1;}#sk-container-id-3 div.sk-parallel-item {display: flex;flex-direction: column;z-index: 1;position: relative;background-color: white;}#sk-container-id-3 div.sk-parallel-item:first-child::after {align-self: flex-end;width: 50%;}#sk-container-id-3 div.sk-parallel-item:last-child::after {align-self: flex-start;width: 50%;}#sk-container-id-3 div.sk-parallel-item:only-child::after {width: 0;}#sk-container-id-3 div.sk-dashed-wrapped {border: 1px dashed gray;margin: 0 0.4em 0.5em 0.4em;box-sizing: border-box;padding-bottom: 0.4em;background-color: white;}#sk-container-id-3 div.sk-label label {font-family: monospace;font-weight: bold;display: inline-block;line-height: 1.2em;}#sk-container-id-3 div.sk-label-container {text-align: center;}#sk-container-id-3 div.sk-container {/* jupyter's `normalize.less` sets `[hidden] { display: none; }` but bootstrap.min.css set `[hidden] { display: none !important; }` so we also need the `!important` here to be able to override the default hidden behavior on the sphinx rendered scikit-learn.org. See: https://github.com/scikit-learn/scikit-learn/issues/21755 */display: inline-block !important;position: relative;}#sk-container-id-3 div.sk-text-repr-fallback {display: none;}</style><div id=\"sk-container-id-3\" class=\"sk-top-container\"><div class=\"sk-text-repr-fallback\"><pre>Pipeline(steps=[(&#x27;imputer&#x27;, SimpleImputer(strategy=&#x27;median&#x27;)),\n",
       "                (&#x27;scaler&#x27;, RobustScaler()),\n",
       "                (&#x27;model&#x27;,\n",
       "                 GridSearchCV(cv=PredefinedSplit(test_fold=array([-1, -1, ...,  0,  0])),\n",
       "                              estimator=Pipeline(steps=[(&#x27;KernelPCA&#x27;,\n",
       "                                                         KernelPCA(random_state=42)),\n",
       "                                                        (&#x27;KDE&#x27;,\n",
       "                                                         KernelDensity(bandwidth=&#x27;silverman&#x27;))]),\n",
       "                              param_grid={&#x27;KernelPCA__gamma&#x27;: (None, 0.1, 0.3,\n",
       "                                                               1.0, 3.0),\n",
       "                                          &#x27;KernelPCA__kernel&#x27;: (&#x27;rbf&#x27;, &#x27;cosine&#x27;,\n",
       "                                                                &#x27;sigmoid&#x27;),\n",
       "                                          &#x27;KernelPCA__n_components&#x27;: (2, 3)},\n",
       "                              scoring=&lt;function roc_auc_scoring at 0x161b5be20&gt;))])</pre><b>In a Jupyter environment, please rerun this cell to show the HTML representation or trust the notebook. <br />On GitHub, the HTML representation is unable to render, please try loading this page with nbviewer.org.</b></div><div class=\"sk-container\" hidden><div class=\"sk-item sk-dashed-wrapped\"><div class=\"sk-label-container\"><div class=\"sk-label sk-toggleable\"><input class=\"sk-toggleable__control sk-hidden--visually\" id=\"sk-estimator-id-15\" type=\"checkbox\" ><label for=\"sk-estimator-id-15\" class=\"sk-toggleable__label sk-toggleable__label-arrow\">Pipeline</label><div class=\"sk-toggleable__content\"><pre>Pipeline(steps=[(&#x27;imputer&#x27;, SimpleImputer(strategy=&#x27;median&#x27;)),\n",
       "                (&#x27;scaler&#x27;, RobustScaler()),\n",
       "                (&#x27;model&#x27;,\n",
       "                 GridSearchCV(cv=PredefinedSplit(test_fold=array([-1, -1, ...,  0,  0])),\n",
       "                              estimator=Pipeline(steps=[(&#x27;KernelPCA&#x27;,\n",
       "                                                         KernelPCA(random_state=42)),\n",
       "                                                        (&#x27;KDE&#x27;,\n",
       "                                                         KernelDensity(bandwidth=&#x27;silverman&#x27;))]),\n",
       "                              param_grid={&#x27;KernelPCA__gamma&#x27;: (None, 0.1, 0.3,\n",
       "                                                               1.0, 3.0),\n",
       "                                          &#x27;KernelPCA__kernel&#x27;: (&#x27;rbf&#x27;, &#x27;cosine&#x27;,\n",
       "                                                                &#x27;sigmoid&#x27;),\n",
       "                                          &#x27;KernelPCA__n_components&#x27;: (2, 3)},\n",
       "                              scoring=&lt;function roc_auc_scoring at 0x161b5be20&gt;))])</pre></div></div></div><div class=\"sk-serial\"><div class=\"sk-item\"><div class=\"sk-estimator sk-toggleable\"><input class=\"sk-toggleable__control sk-hidden--visually\" id=\"sk-estimator-id-16\" type=\"checkbox\" ><label for=\"sk-estimator-id-16\" class=\"sk-toggleable__label sk-toggleable__label-arrow\">SimpleImputer</label><div class=\"sk-toggleable__content\"><pre>SimpleImputer(strategy=&#x27;median&#x27;)</pre></div></div></div><div class=\"sk-item\"><div class=\"sk-estimator sk-toggleable\"><input class=\"sk-toggleable__control sk-hidden--visually\" id=\"sk-estimator-id-17\" type=\"checkbox\" ><label for=\"sk-estimator-id-17\" class=\"sk-toggleable__label sk-toggleable__label-arrow\">RobustScaler</label><div class=\"sk-toggleable__content\"><pre>RobustScaler()</pre></div></div></div><div class=\"sk-item sk-dashed-wrapped\"><div class=\"sk-label-container\"><div class=\"sk-label sk-toggleable\"><input class=\"sk-toggleable__control sk-hidden--visually\" id=\"sk-estimator-id-18\" type=\"checkbox\" ><label for=\"sk-estimator-id-18\" class=\"sk-toggleable__label sk-toggleable__label-arrow\">model: GridSearchCV</label><div class=\"sk-toggleable__content\"><pre>GridSearchCV(cv=PredefinedSplit(test_fold=array([-1, -1, ...,  0,  0])),\n",
       "             estimator=Pipeline(steps=[(&#x27;KernelPCA&#x27;,\n",
       "                                        KernelPCA(random_state=42)),\n",
       "                                       (&#x27;KDE&#x27;,\n",
       "                                        KernelDensity(bandwidth=&#x27;silverman&#x27;))]),\n",
       "             param_grid={&#x27;KernelPCA__gamma&#x27;: (None, 0.1, 0.3, 1.0, 3.0),\n",
       "                         &#x27;KernelPCA__kernel&#x27;: (&#x27;rbf&#x27;, &#x27;cosine&#x27;, &#x27;sigmoid&#x27;),\n",
       "                         &#x27;KernelPCA__n_components&#x27;: (2, 3)},\n",
       "             scoring=&lt;function roc_auc_scoring at 0x161b5be20&gt;)</pre></div></div></div><div class=\"sk-parallel\"><div class=\"sk-parallel-item\"><div class=\"sk-item\"><div class=\"sk-label-container\"><div class=\"sk-label sk-toggleable\"><input class=\"sk-toggleable__control sk-hidden--visually\" id=\"sk-estimator-id-19\" type=\"checkbox\" ><label for=\"sk-estimator-id-19\" class=\"sk-toggleable__label sk-toggleable__label-arrow\">estimator: Pipeline</label><div class=\"sk-toggleable__content\"><pre>Pipeline(steps=[(&#x27;KernelPCA&#x27;, KernelPCA(random_state=42)),\n",
       "                (&#x27;KDE&#x27;, KernelDensity(bandwidth=&#x27;silverman&#x27;))])</pre></div></div></div><div class=\"sk-serial\"><div class=\"sk-item\"><div class=\"sk-serial\"><div class=\"sk-item\"><div class=\"sk-estimator sk-toggleable\"><input class=\"sk-toggleable__control sk-hidden--visually\" id=\"sk-estimator-id-20\" type=\"checkbox\" ><label for=\"sk-estimator-id-20\" class=\"sk-toggleable__label sk-toggleable__label-arrow\">KernelPCA</label><div class=\"sk-toggleable__content\"><pre>KernelPCA(random_state=42)</pre></div></div></div><div class=\"sk-item\"><div class=\"sk-estimator sk-toggleable\"><input class=\"sk-toggleable__control sk-hidden--visually\" id=\"sk-estimator-id-21\" type=\"checkbox\" ><label for=\"sk-estimator-id-21\" class=\"sk-toggleable__label sk-toggleable__label-arrow\">KernelDensity</label><div class=\"sk-toggleable__content\"><pre>KernelDensity(bandwidth=&#x27;silverman&#x27;)</pre></div></div></div></div></div></div></div></div></div></div></div></div></div></div>"
      ],
      "text/plain": [
       "Pipeline(steps=[('imputer', SimpleImputer(strategy='median')),\n",
       "                ('scaler', RobustScaler()),\n",
       "                ('model',\n",
       "                 GridSearchCV(cv=PredefinedSplit(test_fold=array([-1, -1, ...,  0,  0])),\n",
       "                              estimator=Pipeline(steps=[('KernelPCA',\n",
       "                                                         KernelPCA(random_state=42)),\n",
       "                                                        ('KDE',\n",
       "                                                         KernelDensity(bandwidth='silverman'))]),\n",
       "                              param_grid={'KernelPCA__gamma': (None, 0.1, 0.3,\n",
       "                                                               1.0, 3.0),\n",
       "                                          'KernelPCA__kernel': ('rbf', 'cosine',\n",
       "                                                                'sigmoid'),\n",
       "                                          'KernelPCA__n_components': (2, 3)},\n",
       "                              scoring=<function roc_auc_scoring at 0x161b5be20>))])"
      ]
     },
     "execution_count": 23,
     "metadata": {},
     "output_type": "execute_result"
    }
   ],
   "source": [
    "pipe = make_pipe(kernels=('rbf', 'cosine', 'sigmoid'), predef_split=predef_split)\n",
    "pipe.fit(train_val, y_train_val)"
   ]
  },
  {
   "cell_type": "code",
   "execution_count": 24,
   "id": "e19208c4",
   "metadata": {},
   "outputs": [],
   "source": [
    "def transform(self, dataframe:pd.DataFrame):\n",
    "    return self._final_estimator.best_estimator_[0].transform(\n",
    "        self[1].transform(\n",
    "            self[0].transform(dataframe)\n",
    "        )\n",
    "    )\n",
    "pipe.transform = MethodType(transform, pipe)"
   ]
  },
  {
   "cell_type": "code",
   "execution_count": 25,
   "id": "4446ddf4",
   "metadata": {},
   "outputs": [
    {
     "data": {
      "text/plain": [
       "0.5877702702702703"
      ]
     },
     "execution_count": 25,
     "metadata": {},
     "output_type": "execute_result"
    }
   ],
   "source": [
    "# Flares detection best score\n",
    "pipe._final_estimator.best_score_"
   ]
  },
  {
   "cell_type": "code",
   "execution_count": 26,
   "id": "602d201f",
   "metadata": {},
   "outputs": [
    {
     "data": {
      "text/plain": [
       "{'KernelPCA__gamma': None,\n",
       " 'KernelPCA__kernel': 'rbf',\n",
       " 'KernelPCA__n_components': 3}"
      ]
     },
     "execution_count": 26,
     "metadata": {},
     "output_type": "execute_result"
    }
   ],
   "source": [
    "# Optimal parameters\n",
    "pipe._final_estimator.best_params_"
   ]
  },
  {
   "cell_type": "code",
   "execution_count": 27,
   "id": "0c09baf6-68ea-4b76-8fa5-03ef3855fc0f",
   "metadata": {},
   "outputs": [
    {
     "data": {
      "text/html": [
       "<style>#sk-container-id-4 {color: black;}#sk-container-id-4 pre{padding: 0;}#sk-container-id-4 div.sk-toggleable {background-color: white;}#sk-container-id-4 label.sk-toggleable__label {cursor: pointer;display: block;width: 100%;margin-bottom: 0;padding: 0.3em;box-sizing: border-box;text-align: center;}#sk-container-id-4 label.sk-toggleable__label-arrow:before {content: \"▸\";float: left;margin-right: 0.25em;color: #696969;}#sk-container-id-4 label.sk-toggleable__label-arrow:hover:before {color: black;}#sk-container-id-4 div.sk-estimator:hover label.sk-toggleable__label-arrow:before {color: black;}#sk-container-id-4 div.sk-toggleable__content {max-height: 0;max-width: 0;overflow: hidden;text-align: left;background-color: #f0f8ff;}#sk-container-id-4 div.sk-toggleable__content pre {margin: 0.2em;color: black;border-radius: 0.25em;background-color: #f0f8ff;}#sk-container-id-4 input.sk-toggleable__control:checked~div.sk-toggleable__content {max-height: 200px;max-width: 100%;overflow: auto;}#sk-container-id-4 input.sk-toggleable__control:checked~label.sk-toggleable__label-arrow:before {content: \"▾\";}#sk-container-id-4 div.sk-estimator input.sk-toggleable__control:checked~label.sk-toggleable__label {background-color: #d4ebff;}#sk-container-id-4 div.sk-label input.sk-toggleable__control:checked~label.sk-toggleable__label {background-color: #d4ebff;}#sk-container-id-4 input.sk-hidden--visually {border: 0;clip: rect(1px 1px 1px 1px);clip: rect(1px, 1px, 1px, 1px);height: 1px;margin: -1px;overflow: hidden;padding: 0;position: absolute;width: 1px;}#sk-container-id-4 div.sk-estimator {font-family: monospace;background-color: #f0f8ff;border: 1px dotted black;border-radius: 0.25em;box-sizing: border-box;margin-bottom: 0.5em;}#sk-container-id-4 div.sk-estimator:hover {background-color: #d4ebff;}#sk-container-id-4 div.sk-parallel-item::after {content: \"\";width: 100%;border-bottom: 1px solid gray;flex-grow: 1;}#sk-container-id-4 div.sk-label:hover label.sk-toggleable__label {background-color: #d4ebff;}#sk-container-id-4 div.sk-serial::before {content: \"\";position: absolute;border-left: 1px solid gray;box-sizing: border-box;top: 0;bottom: 0;left: 50%;z-index: 0;}#sk-container-id-4 div.sk-serial {display: flex;flex-direction: column;align-items: center;background-color: white;padding-right: 0.2em;padding-left: 0.2em;position: relative;}#sk-container-id-4 div.sk-item {position: relative;z-index: 1;}#sk-container-id-4 div.sk-parallel {display: flex;align-items: stretch;justify-content: center;background-color: white;position: relative;}#sk-container-id-4 div.sk-item::before, #sk-container-id-4 div.sk-parallel-item::before {content: \"\";position: absolute;border-left: 1px solid gray;box-sizing: border-box;top: 0;bottom: 0;left: 50%;z-index: -1;}#sk-container-id-4 div.sk-parallel-item {display: flex;flex-direction: column;z-index: 1;position: relative;background-color: white;}#sk-container-id-4 div.sk-parallel-item:first-child::after {align-self: flex-end;width: 50%;}#sk-container-id-4 div.sk-parallel-item:last-child::after {align-self: flex-start;width: 50%;}#sk-container-id-4 div.sk-parallel-item:only-child::after {width: 0;}#sk-container-id-4 div.sk-dashed-wrapped {border: 1px dashed gray;margin: 0 0.4em 0.5em 0.4em;box-sizing: border-box;padding-bottom: 0.4em;background-color: white;}#sk-container-id-4 div.sk-label label {font-family: monospace;font-weight: bold;display: inline-block;line-height: 1.2em;}#sk-container-id-4 div.sk-label-container {text-align: center;}#sk-container-id-4 div.sk-container {/* jupyter's `normalize.less` sets `[hidden] { display: none; }` but bootstrap.min.css set `[hidden] { display: none !important; }` so we also need the `!important` here to be able to override the default hidden behavior on the sphinx rendered scikit-learn.org. See: https://github.com/scikit-learn/scikit-learn/issues/21755 */display: inline-block !important;position: relative;}#sk-container-id-4 div.sk-text-repr-fallback {display: none;}</style><div id=\"sk-container-id-4\" class=\"sk-top-container\"><div class=\"sk-text-repr-fallback\"><pre>Pipeline(steps=[(&#x27;imputer&#x27;, SimpleImputer(strategy=&#x27;median&#x27;)),\n",
       "                (&#x27;scaler&#x27;, RobustScaler()),\n",
       "                (&#x27;model&#x27;,\n",
       "                 GridSearchCV(cv=PredefinedSplit(test_fold=array([-1, -1, ...,  0,  0])),\n",
       "                              estimator=Pipeline(steps=[(&#x27;KernelPCA&#x27;,\n",
       "                                                         KernelPCA(random_state=42)),\n",
       "                                                        (&#x27;KDE&#x27;,\n",
       "                                                         KernelDensity(bandwidth=&#x27;silverman&#x27;))]),\n",
       "                              param_grid={&#x27;KernelPCA__gamma&#x27;: (None, 0.1, 0.3,\n",
       "                                                               1.0, 3.0),\n",
       "                                          &#x27;KernelPCA__kernel&#x27;: (&#x27;rbf&#x27;, &#x27;cosine&#x27;,\n",
       "                                                                &#x27;sigmoid&#x27;),\n",
       "                                          &#x27;KernelPCA__n_components&#x27;: (2, 3)},\n",
       "                              scoring=&lt;function roc_auc_scoring at 0x161b5be20&gt;))])</pre><b>In a Jupyter environment, please rerun this cell to show the HTML representation or trust the notebook. <br />On GitHub, the HTML representation is unable to render, please try loading this page with nbviewer.org.</b></div><div class=\"sk-container\" hidden><div class=\"sk-item sk-dashed-wrapped\"><div class=\"sk-label-container\"><div class=\"sk-label sk-toggleable\"><input class=\"sk-toggleable__control sk-hidden--visually\" id=\"sk-estimator-id-22\" type=\"checkbox\" ><label for=\"sk-estimator-id-22\" class=\"sk-toggleable__label sk-toggleable__label-arrow\">Pipeline</label><div class=\"sk-toggleable__content\"><pre>Pipeline(steps=[(&#x27;imputer&#x27;, SimpleImputer(strategy=&#x27;median&#x27;)),\n",
       "                (&#x27;scaler&#x27;, RobustScaler()),\n",
       "                (&#x27;model&#x27;,\n",
       "                 GridSearchCV(cv=PredefinedSplit(test_fold=array([-1, -1, ...,  0,  0])),\n",
       "                              estimator=Pipeline(steps=[(&#x27;KernelPCA&#x27;,\n",
       "                                                         KernelPCA(random_state=42)),\n",
       "                                                        (&#x27;KDE&#x27;,\n",
       "                                                         KernelDensity(bandwidth=&#x27;silverman&#x27;))]),\n",
       "                              param_grid={&#x27;KernelPCA__gamma&#x27;: (None, 0.1, 0.3,\n",
       "                                                               1.0, 3.0),\n",
       "                                          &#x27;KernelPCA__kernel&#x27;: (&#x27;rbf&#x27;, &#x27;cosine&#x27;,\n",
       "                                                                &#x27;sigmoid&#x27;),\n",
       "                                          &#x27;KernelPCA__n_components&#x27;: (2, 3)},\n",
       "                              scoring=&lt;function roc_auc_scoring at 0x161b5be20&gt;))])</pre></div></div></div><div class=\"sk-serial\"><div class=\"sk-item\"><div class=\"sk-estimator sk-toggleable\"><input class=\"sk-toggleable__control sk-hidden--visually\" id=\"sk-estimator-id-23\" type=\"checkbox\" ><label for=\"sk-estimator-id-23\" class=\"sk-toggleable__label sk-toggleable__label-arrow\">SimpleImputer</label><div class=\"sk-toggleable__content\"><pre>SimpleImputer(strategy=&#x27;median&#x27;)</pre></div></div></div><div class=\"sk-item\"><div class=\"sk-estimator sk-toggleable\"><input class=\"sk-toggleable__control sk-hidden--visually\" id=\"sk-estimator-id-24\" type=\"checkbox\" ><label for=\"sk-estimator-id-24\" class=\"sk-toggleable__label sk-toggleable__label-arrow\">RobustScaler</label><div class=\"sk-toggleable__content\"><pre>RobustScaler()</pre></div></div></div><div class=\"sk-item sk-dashed-wrapped\"><div class=\"sk-label-container\"><div class=\"sk-label sk-toggleable\"><input class=\"sk-toggleable__control sk-hidden--visually\" id=\"sk-estimator-id-25\" type=\"checkbox\" ><label for=\"sk-estimator-id-25\" class=\"sk-toggleable__label sk-toggleable__label-arrow\">model: GridSearchCV</label><div class=\"sk-toggleable__content\"><pre>GridSearchCV(cv=PredefinedSplit(test_fold=array([-1, -1, ...,  0,  0])),\n",
       "             estimator=Pipeline(steps=[(&#x27;KernelPCA&#x27;,\n",
       "                                        KernelPCA(random_state=42)),\n",
       "                                       (&#x27;KDE&#x27;,\n",
       "                                        KernelDensity(bandwidth=&#x27;silverman&#x27;))]),\n",
       "             param_grid={&#x27;KernelPCA__gamma&#x27;: (None, 0.1, 0.3, 1.0, 3.0),\n",
       "                         &#x27;KernelPCA__kernel&#x27;: (&#x27;rbf&#x27;, &#x27;cosine&#x27;, &#x27;sigmoid&#x27;),\n",
       "                         &#x27;KernelPCA__n_components&#x27;: (2, 3)},\n",
       "             scoring=&lt;function roc_auc_scoring at 0x161b5be20&gt;)</pre></div></div></div><div class=\"sk-parallel\"><div class=\"sk-parallel-item\"><div class=\"sk-item\"><div class=\"sk-label-container\"><div class=\"sk-label sk-toggleable\"><input class=\"sk-toggleable__control sk-hidden--visually\" id=\"sk-estimator-id-26\" type=\"checkbox\" ><label for=\"sk-estimator-id-26\" class=\"sk-toggleable__label sk-toggleable__label-arrow\">estimator: Pipeline</label><div class=\"sk-toggleable__content\"><pre>Pipeline(steps=[(&#x27;KernelPCA&#x27;, KernelPCA(random_state=42)),\n",
       "                (&#x27;KDE&#x27;, KernelDensity(bandwidth=&#x27;silverman&#x27;))])</pre></div></div></div><div class=\"sk-serial\"><div class=\"sk-item\"><div class=\"sk-serial\"><div class=\"sk-item\"><div class=\"sk-estimator sk-toggleable\"><input class=\"sk-toggleable__control sk-hidden--visually\" id=\"sk-estimator-id-27\" type=\"checkbox\" ><label for=\"sk-estimator-id-27\" class=\"sk-toggleable__label sk-toggleable__label-arrow\">KernelPCA</label><div class=\"sk-toggleable__content\"><pre>KernelPCA(random_state=42)</pre></div></div></div><div class=\"sk-item\"><div class=\"sk-estimator sk-toggleable\"><input class=\"sk-toggleable__control sk-hidden--visually\" id=\"sk-estimator-id-28\" type=\"checkbox\" ><label for=\"sk-estimator-id-28\" class=\"sk-toggleable__label sk-toggleable__label-arrow\">KernelDensity</label><div class=\"sk-toggleable__content\"><pre>KernelDensity(bandwidth=&#x27;silverman&#x27;)</pre></div></div></div></div></div></div></div></div></div></div></div></div></div></div>"
      ],
      "text/plain": [
       "Pipeline(steps=[('imputer', SimpleImputer(strategy='median')),\n",
       "                ('scaler', RobustScaler()),\n",
       "                ('model',\n",
       "                 GridSearchCV(cv=PredefinedSplit(test_fold=array([-1, -1, ...,  0,  0])),\n",
       "                              estimator=Pipeline(steps=[('KernelPCA',\n",
       "                                                         KernelPCA(random_state=42)),\n",
       "                                                        ('KDE',\n",
       "                                                         KernelDensity(bandwidth='silverman'))]),\n",
       "                              param_grid={'KernelPCA__gamma': (None, 0.1, 0.3,\n",
       "                                                               1.0, 3.0),\n",
       "                                          'KernelPCA__kernel': ('rbf', 'cosine',\n",
       "                                                                'sigmoid'),\n",
       "                                          'KernelPCA__n_components': (2, 3)},\n",
       "                              scoring=<function roc_auc_scoring at 0x161b5be20>))])"
      ]
     },
     "execution_count": 27,
     "metadata": {},
     "output_type": "execute_result"
    }
   ],
   "source": [
    "pipe.fit(train_val, y_train_val)"
   ]
  },
  {
   "cell_type": "code",
   "execution_count": 28,
   "id": "a471747b",
   "metadata": {},
   "outputs": [
    {
     "name": "stdout",
     "output_type": "stream",
     "text": [
      "ROC-AUC Score:\n",
      "    train : 0.55\n",
      "    val   : 0.59\n",
      "    test  : 0.55\n"
     ]
    }
   ],
   "source": [
    "print('ROC-AUC Score:\\n'+\n",
    "      f'    train : {round(roc_auc_scoring(pipe, train, ytrain), 2)}\\n'+\n",
    "      f'    val   : {round(roc_auc_scoring(pipe, val, yval), 2)}\\n'+\n",
    "      f'    test  : {round(roc_auc_scoring(pipe, test, ytest), 2)}'\n",
    "     )"
   ]
  },
  {
   "cell_type": "code",
   "execution_count": 29,
   "id": "ab093c0e",
   "metadata": {},
   "outputs": [],
   "source": [
    "df = transform_dataset(pipe, train, val, test, labels)"
   ]
  },
  {
   "cell_type": "code",
   "execution_count": 30,
   "id": "d26405b4",
   "metadata": {},
   "outputs": [
    {
     "data": {
      "text/html": [
       "<div>\n",
       "<style scoped>\n",
       "    .dataframe tbody tr th:only-of-type {\n",
       "        vertical-align: middle;\n",
       "    }\n",
       "\n",
       "    .dataframe tbody tr th {\n",
       "        vertical-align: top;\n",
       "    }\n",
       "\n",
       "    .dataframe thead th {\n",
       "        text-align: right;\n",
       "    }\n",
       "</style>\n",
       "<table border=\"1\" class=\"dataframe\">\n",
       "  <thead>\n",
       "    <tr style=\"text-align: right;\">\n",
       "      <th></th>\n",
       "      <th>feature_0</th>\n",
       "      <th>feature_1</th>\n",
       "      <th>feature_2</th>\n",
       "      <th>score</th>\n",
       "      <th>sample</th>\n",
       "      <th>numbreaks</th>\n",
       "      <th>lc type</th>\n",
       "      <th>NH_gal</th>\n",
       "      <th>Redshift</th>\n",
       "      <th>Flares</th>\n",
       "      <th>FlaresFlag</th>\n",
       "    </tr>\n",
       "  </thead>\n",
       "  <tbody>\n",
       "    <tr>\n",
       "      <th>GRB 120401A</th>\n",
       "      <td>-0.263116</td>\n",
       "      <td>0.297344</td>\n",
       "      <td>0.502837</td>\n",
       "      <td>-1.434299</td>\n",
       "      <td>train</td>\n",
       "      <td>3</td>\n",
       "      <td>Oddball</td>\n",
       "      <td>0.0378</td>\n",
       "      <td>NaN</td>\n",
       "      <td>[(217, 322)]</td>\n",
       "      <td>1</td>\n",
       "    </tr>\n",
       "    <tr>\n",
       "      <th>GRB 160506A</th>\n",
       "      <td>-0.131661</td>\n",
       "      <td>0.332832</td>\n",
       "      <td>0.507471</td>\n",
       "      <td>-1.413960</td>\n",
       "      <td>train</td>\n",
       "      <td>5</td>\n",
       "      <td>Canonical</td>\n",
       "      <td>0.2700</td>\n",
       "      <td>NaN</td>\n",
       "      <td>[(214, 273), (339, 507)]</td>\n",
       "      <td>1</td>\n",
       "    </tr>\n",
       "    <tr>\n",
       "      <th>GRB 170318B</th>\n",
       "      <td>-0.116232</td>\n",
       "      <td>0.263654</td>\n",
       "      <td>0.535942</td>\n",
       "      <td>-1.411922</td>\n",
       "      <td>val</td>\n",
       "      <td>0</td>\n",
       "      <td>No breaks</td>\n",
       "      <td>1.4000</td>\n",
       "      <td>NaN</td>\n",
       "      <td>[(111, 298)]</td>\n",
       "      <td>1</td>\n",
       "    </tr>\n",
       "    <tr>\n",
       "      <th>GRB 180331A</th>\n",
       "      <td>-0.109800</td>\n",
       "      <td>0.228234</td>\n",
       "      <td>0.545932</td>\n",
       "      <td>-1.408205</td>\n",
       "      <td>train</td>\n",
       "      <td>1</td>\n",
       "      <td>One-break</td>\n",
       "      <td>0.2900</td>\n",
       "      <td>NaN</td>\n",
       "      <td>[]</td>\n",
       "      <td>0</td>\n",
       "    </tr>\n",
       "    <tr>\n",
       "      <th>GRB 170318A</th>\n",
       "      <td>-0.179433</td>\n",
       "      <td>0.205143</td>\n",
       "      <td>0.541499</td>\n",
       "      <td>-1.403380</td>\n",
       "      <td>train</td>\n",
       "      <td>1</td>\n",
       "      <td>One-break</td>\n",
       "      <td>0.4400</td>\n",
       "      <td>NaN</td>\n",
       "      <td>[]</td>\n",
       "      <td>0</td>\n",
       "    </tr>\n",
       "    <tr>\n",
       "      <th>GRB 230618A</th>\n",
       "      <td>-0.045968</td>\n",
       "      <td>0.374041</td>\n",
       "      <td>0.480124</td>\n",
       "      <td>-1.397332</td>\n",
       "      <td>train</td>\n",
       "      <td>2</td>\n",
       "      <td>Oddball</td>\n",
       "      <td>0.0214</td>\n",
       "      <td>NaN</td>\n",
       "      <td>[(118, 182)]</td>\n",
       "      <td>1</td>\n",
       "    </tr>\n",
       "    <tr>\n",
       "      <th>GRB 151112A</th>\n",
       "      <td>0.242295</td>\n",
       "      <td>-0.081240</td>\n",
       "      <td>0.531628</td>\n",
       "      <td>-1.372213</td>\n",
       "      <td>train</td>\n",
       "      <td>1</td>\n",
       "      <td>One-break</td>\n",
       "      <td>0.0192</td>\n",
       "      <td>NaN</td>\n",
       "      <td>[]</td>\n",
       "      <td>0</td>\n",
       "    </tr>\n",
       "    <tr>\n",
       "      <th>GRB 120119A</th>\n",
       "      <td>-0.129961</td>\n",
       "      <td>0.335386</td>\n",
       "      <td>-0.493837</td>\n",
       "      <td>-1.370794</td>\n",
       "      <td>train</td>\n",
       "      <td>2</td>\n",
       "      <td>Canonical</td>\n",
       "      <td>0.1100</td>\n",
       "      <td>1.7280</td>\n",
       "      <td>[]</td>\n",
       "      <td>0</td>\n",
       "    </tr>\n",
       "    <tr>\n",
       "      <th>GRB 060204B</th>\n",
       "      <td>-0.154973</td>\n",
       "      <td>0.278169</td>\n",
       "      <td>-0.515175</td>\n",
       "      <td>-1.369981</td>\n",
       "      <td>val</td>\n",
       "      <td>2</td>\n",
       "      <td>Canonical</td>\n",
       "      <td>0.0175</td>\n",
       "      <td>2.3393</td>\n",
       "      <td>[(111, 139), (179, 429)]</td>\n",
       "      <td>1</td>\n",
       "    </tr>\n",
       "    <tr>\n",
       "      <th>GRB 150103A</th>\n",
       "      <td>-0.225146</td>\n",
       "      <td>0.185957</td>\n",
       "      <td>0.521188</td>\n",
       "      <td>-1.365602</td>\n",
       "      <td>train</td>\n",
       "      <td>1</td>\n",
       "      <td>One-break</td>\n",
       "      <td>0.9000</td>\n",
       "      <td>NaN</td>\n",
       "      <td>[(140, 362)]</td>\n",
       "      <td>1</td>\n",
       "    </tr>\n",
       "  </tbody>\n",
       "</table>\n",
       "</div>"
      ],
      "text/plain": [
       "             feature_0  feature_1  feature_2     score sample  numbreaks  \\\n",
       "GRB 120401A  -0.263116   0.297344   0.502837 -1.434299  train          3   \n",
       "GRB 160506A  -0.131661   0.332832   0.507471 -1.413960  train          5   \n",
       "GRB 170318B  -0.116232   0.263654   0.535942 -1.411922    val          0   \n",
       "GRB 180331A  -0.109800   0.228234   0.545932 -1.408205  train          1   \n",
       "GRB 170318A  -0.179433   0.205143   0.541499 -1.403380  train          1   \n",
       "GRB 230618A  -0.045968   0.374041   0.480124 -1.397332  train          2   \n",
       "GRB 151112A   0.242295  -0.081240   0.531628 -1.372213  train          1   \n",
       "GRB 120119A  -0.129961   0.335386  -0.493837 -1.370794  train          2   \n",
       "GRB 060204B  -0.154973   0.278169  -0.515175 -1.369981    val          2   \n",
       "GRB 150103A  -0.225146   0.185957   0.521188 -1.365602  train          1   \n",
       "\n",
       "               lc type  NH_gal  Redshift                    Flares  FlaresFlag  \n",
       "GRB 120401A    Oddball  0.0378       NaN              [(217, 322)]           1  \n",
       "GRB 160506A  Canonical  0.2700       NaN  [(214, 273), (339, 507)]           1  \n",
       "GRB 170318B  No breaks  1.4000       NaN              [(111, 298)]           1  \n",
       "GRB 180331A  One-break  0.2900       NaN                        []           0  \n",
       "GRB 170318A  One-break  0.4400       NaN                        []           0  \n",
       "GRB 230618A    Oddball  0.0214       NaN              [(118, 182)]           1  \n",
       "GRB 151112A  One-break  0.0192       NaN                        []           0  \n",
       "GRB 120119A  Canonical  0.1100    1.7280                        []           0  \n",
       "GRB 060204B  Canonical  0.0175    2.3393  [(111, 139), (179, 429)]           1  \n",
       "GRB 150103A  One-break  0.9000       NaN              [(140, 362)]           1  "
      ]
     },
     "execution_count": 30,
     "metadata": {},
     "output_type": "execute_result"
    }
   ],
   "source": [
    "# top-10 anomalous\n",
    "df.sort_values(by='score', axis=0).head(10)"
   ]
  },
  {
   "cell_type": "code",
   "execution_count": 31,
   "id": "424ffeb4",
   "metadata": {},
   "outputs": [
    {
     "name": "stdout",
     "output_type": "stream",
     "text": [
      "correlation between latent features and numbreaks: [-0.41823942  0.21819904 -0.17395251]\n"
     ]
    }
   ],
   "source": [
    "fragment = df[\n",
    "    [col for col in df.columns if col.startswith('feature_')]+\n",
    "    ['numbreaks']\n",
    "].values\n",
    "\n",
    "print('correlation between latent features and '+\n",
    "      f'numbreaks: {np.corrcoef(fragment, rowvar=False)[:-1, -1]}'\n",
    ")"
   ]
  },
  {
   "cell_type": "code",
   "execution_count": 32,
   "id": "6a2c73a9",
   "metadata": {},
   "outputs": [
    {
     "data": {
      "image/png": "[encoded data removed]",
      "text/plain": [
       "<Figure size 640x480 with 1 Axes>"
      ]
     },
     "metadata": {},
     "output_type": "display_data"
    }
   ],
   "source": [
    "if not os.path.isdir('./Figures'):\n",
    "    os.mkdir('./Figures')\n",
    "visualize_latent(df, title='best KernelPCA on LC features',\n",
    "                 savedir='./Figures', show=True)"
   ]
  },
  {
   "cell_type": "markdown",
   "id": "63062518",
   "metadata": {},
   "source": [
    "Despite a notable correlation between the extracted feature space and number of breaks, no evident anomalies found. The X-Ray flares detection score is close to random."
   ]
  },
  {
   "cell_type": "markdown",
   "id": "fdb99fed",
   "metadata": {},
   "source": [
    "# Rebinned Lightcurves Analysis (Interpolated LCs)"
   ]
  },
  {
   "cell_type": "code",
   "execution_count": 33,
   "id": "2e280c4b",
   "metadata": {},
   "outputs": [
    {
     "name": "stdout",
     "output_type": "stream",
     "text": [
      "Datasets downloaded\n",
      " - train  : 810 entries\n",
      " - val    : 174 entries\n",
      " - test   : 174 entries\n",
      " - labels : 1158 entries\n"
     ]
    }
   ],
   "source": [
    "train, val, test, labels = train_val_test_downloader('interp')\n",
    "train, val, test = tuple(\n",
    "    map(lambda df: choose_one_column(df, 'lgRate'),\n",
    "    (train, val, test))\n",
    ")\n",
    "ytrain, yval, ytest = (\n",
    "    labels.loc[train.index, 'FlaresFlag'],\n",
    "    labels.loc[val.index, 'FlaresFlag'],\n",
    "    labels.loc[test.index, 'FlaresFlag']\n",
    ")"
   ]
  },
  {
   "cell_type": "code",
   "execution_count": 34,
   "id": "7e52cc46-0094-4214-b13b-e578424f1618",
   "metadata": {},
   "outputs": [],
   "source": [
    "train_val = pd.concat((train, val), axis=0, ignore_index=False)\n",
    "y_train_val = pd.concat((ytrain, yval), axis=0, ignore_index=False)"
   ]
  },
  {
   "cell_type": "code",
   "execution_count": 35,
   "id": "71419c75-9bdb-4e7b-84a1-c86cff163232",
   "metadata": {},
   "outputs": [
    {
     "data": {
      "text/plain": [
       "PredefinedSplit(test_fold=array([-1, -1, ...,  0,  0]))"
      ]
     },
     "execution_count": 35,
     "metadata": {},
     "output_type": "execute_result"
    }
   ],
   "source": [
    "split = -1 * np.array([idx in train.index for idx in train_val.index], dtype=int)\n",
    "predef_split = PredefinedSplit(split)\n",
    "predef_split"
   ]
  },
  {
   "cell_type": "code",
   "execution_count": 36,
   "id": "05f55a54",
   "metadata": {},
   "outputs": [
    {
     "data": {
      "text/html": [
       "<style>#sk-container-id-5 {color: black;}#sk-container-id-5 pre{padding: 0;}#sk-container-id-5 div.sk-toggleable {background-color: white;}#sk-container-id-5 label.sk-toggleable__label {cursor: pointer;display: block;width: 100%;margin-bottom: 0;padding: 0.3em;box-sizing: border-box;text-align: center;}#sk-container-id-5 label.sk-toggleable__label-arrow:before {content: \"▸\";float: left;margin-right: 0.25em;color: #696969;}#sk-container-id-5 label.sk-toggleable__label-arrow:hover:before {color: black;}#sk-container-id-5 div.sk-estimator:hover label.sk-toggleable__label-arrow:before {color: black;}#sk-container-id-5 div.sk-toggleable__content {max-height: 0;max-width: 0;overflow: hidden;text-align: left;background-color: #f0f8ff;}#sk-container-id-5 div.sk-toggleable__content pre {margin: 0.2em;color: black;border-radius: 0.25em;background-color: #f0f8ff;}#sk-container-id-5 input.sk-toggleable__control:checked~div.sk-toggleable__content {max-height: 200px;max-width: 100%;overflow: auto;}#sk-container-id-5 input.sk-toggleable__control:checked~label.sk-toggleable__label-arrow:before {content: \"▾\";}#sk-container-id-5 div.sk-estimator input.sk-toggleable__control:checked~label.sk-toggleable__label {background-color: #d4ebff;}#sk-container-id-5 div.sk-label input.sk-toggleable__control:checked~label.sk-toggleable__label {background-color: #d4ebff;}#sk-container-id-5 input.sk-hidden--visually {border: 0;clip: rect(1px 1px 1px 1px);clip: rect(1px, 1px, 1px, 1px);height: 1px;margin: -1px;overflow: hidden;padding: 0;position: absolute;width: 1px;}#sk-container-id-5 div.sk-estimator {font-family: monospace;background-color: #f0f8ff;border: 1px dotted black;border-radius: 0.25em;box-sizing: border-box;margin-bottom: 0.5em;}#sk-container-id-5 div.sk-estimator:hover {background-color: #d4ebff;}#sk-container-id-5 div.sk-parallel-item::after {content: \"\";width: 100%;border-bottom: 1px solid gray;flex-grow: 1;}#sk-container-id-5 div.sk-label:hover label.sk-toggleable__label {background-color: #d4ebff;}#sk-container-id-5 div.sk-serial::before {content: \"\";position: absolute;border-left: 1px solid gray;box-sizing: border-box;top: 0;bottom: 0;left: 50%;z-index: 0;}#sk-container-id-5 div.sk-serial {display: flex;flex-direction: column;align-items: center;background-color: white;padding-right: 0.2em;padding-left: 0.2em;position: relative;}#sk-container-id-5 div.sk-item {position: relative;z-index: 1;}#sk-container-id-5 div.sk-parallel {display: flex;align-items: stretch;justify-content: center;background-color: white;position: relative;}#sk-container-id-5 div.sk-item::before, #sk-container-id-5 div.sk-parallel-item::before {content: \"\";position: absolute;border-left: 1px solid gray;box-sizing: border-box;top: 0;bottom: 0;left: 50%;z-index: -1;}#sk-container-id-5 div.sk-parallel-item {display: flex;flex-direction: column;z-index: 1;position: relative;background-color: white;}#sk-container-id-5 div.sk-parallel-item:first-child::after {align-self: flex-end;width: 50%;}#sk-container-id-5 div.sk-parallel-item:last-child::after {align-self: flex-start;width: 50%;}#sk-container-id-5 div.sk-parallel-item:only-child::after {width: 0;}#sk-container-id-5 div.sk-dashed-wrapped {border: 1px dashed gray;margin: 0 0.4em 0.5em 0.4em;box-sizing: border-box;padding-bottom: 0.4em;background-color: white;}#sk-container-id-5 div.sk-label label {font-family: monospace;font-weight: bold;display: inline-block;line-height: 1.2em;}#sk-container-id-5 div.sk-label-container {text-align: center;}#sk-container-id-5 div.sk-container {/* jupyter's `normalize.less` sets `[hidden] { display: none; }` but bootstrap.min.css set `[hidden] { display: none !important; }` so we also need the `!important` here to be able to override the default hidden behavior on the sphinx rendered scikit-learn.org. See: https://github.com/scikit-learn/scikit-learn/issues/21755 */display: inline-block !important;position: relative;}#sk-container-id-5 div.sk-text-repr-fallback {display: none;}</style><div id=\"sk-container-id-5\" class=\"sk-top-container\"><div class=\"sk-text-repr-fallback\"><pre>Pipeline(steps=[(&#x27;imputer&#x27;, SimpleImputer(strategy=&#x27;median&#x27;)),\n",
       "                (&#x27;scaler&#x27;, RobustScaler()),\n",
       "                (&#x27;model&#x27;,\n",
       "                 GridSearchCV(cv=PredefinedSplit(test_fold=array([-1, -1, ...,  0,  0])),\n",
       "                              estimator=Pipeline(steps=[(&#x27;KernelPCA&#x27;,\n",
       "                                                         KernelPCA(random_state=42)),\n",
       "                                                        (&#x27;KDE&#x27;,\n",
       "                                                         KernelDensity(bandwidth=&#x27;silverman&#x27;))]),\n",
       "                              param_grid={&#x27;KernelPCA__gamma&#x27;: (None, 0.1, 0.3,\n",
       "                                                               1.0, 3.0),\n",
       "                                          &#x27;KernelPCA__kernel&#x27;: (&#x27;linear&#x27;, &#x27;rbf&#x27;,\n",
       "                                                                &#x27;sigmoid&#x27;,\n",
       "                                                                &#x27;cosine&#x27;),\n",
       "                                          &#x27;KernelPCA__n_components&#x27;: (2, 3)},\n",
       "                              scoring=&lt;function roc_auc_scoring at 0x161b5be20&gt;))])</pre><b>In a Jupyter environment, please rerun this cell to show the HTML representation or trust the notebook. <br />On GitHub, the HTML representation is unable to render, please try loading this page with nbviewer.org.</b></div><div class=\"sk-container\" hidden><div class=\"sk-item sk-dashed-wrapped\"><div class=\"sk-label-container\"><div class=\"sk-label sk-toggleable\"><input class=\"sk-toggleable__control sk-hidden--visually\" id=\"sk-estimator-id-29\" type=\"checkbox\" ><label for=\"sk-estimator-id-29\" class=\"sk-toggleable__label sk-toggleable__label-arrow\">Pipeline</label><div class=\"sk-toggleable__content\"><pre>Pipeline(steps=[(&#x27;imputer&#x27;, SimpleImputer(strategy=&#x27;median&#x27;)),\n",
       "                (&#x27;scaler&#x27;, RobustScaler()),\n",
       "                (&#x27;model&#x27;,\n",
       "                 GridSearchCV(cv=PredefinedSplit(test_fold=array([-1, -1, ...,  0,  0])),\n",
       "                              estimator=Pipeline(steps=[(&#x27;KernelPCA&#x27;,\n",
       "                                                         KernelPCA(random_state=42)),\n",
       "                                                        (&#x27;KDE&#x27;,\n",
       "                                                         KernelDensity(bandwidth=&#x27;silverman&#x27;))]),\n",
       "                              param_grid={&#x27;KernelPCA__gamma&#x27;: (None, 0.1, 0.3,\n",
       "                                                               1.0, 3.0),\n",
       "                                          &#x27;KernelPCA__kernel&#x27;: (&#x27;linear&#x27;, &#x27;rbf&#x27;,\n",
       "                                                                &#x27;sigmoid&#x27;,\n",
       "                                                                &#x27;cosine&#x27;),\n",
       "                                          &#x27;KernelPCA__n_components&#x27;: (2, 3)},\n",
       "                              scoring=&lt;function roc_auc_scoring at 0x161b5be20&gt;))])</pre></div></div></div><div class=\"sk-serial\"><div class=\"sk-item\"><div class=\"sk-estimator sk-toggleable\"><input class=\"sk-toggleable__control sk-hidden--visually\" id=\"sk-estimator-id-30\" type=\"checkbox\" ><label for=\"sk-estimator-id-30\" class=\"sk-toggleable__label sk-toggleable__label-arrow\">SimpleImputer</label><div class=\"sk-toggleable__content\"><pre>SimpleImputer(strategy=&#x27;median&#x27;)</pre></div></div></div><div class=\"sk-item\"><div class=\"sk-estimator sk-toggleable\"><input class=\"sk-toggleable__control sk-hidden--visually\" id=\"sk-estimator-id-31\" type=\"checkbox\" ><label for=\"sk-estimator-id-31\" class=\"sk-toggleable__label sk-toggleable__label-arrow\">RobustScaler</label><div class=\"sk-toggleable__content\"><pre>RobustScaler()</pre></div></div></div><div class=\"sk-item sk-dashed-wrapped\"><div class=\"sk-label-container\"><div class=\"sk-label sk-toggleable\"><input class=\"sk-toggleable__control sk-hidden--visually\" id=\"sk-estimator-id-32\" type=\"checkbox\" ><label for=\"sk-estimator-id-32\" class=\"sk-toggleable__label sk-toggleable__label-arrow\">model: GridSearchCV</label><div class=\"sk-toggleable__content\"><pre>GridSearchCV(cv=PredefinedSplit(test_fold=array([-1, -1, ...,  0,  0])),\n",
       "             estimator=Pipeline(steps=[(&#x27;KernelPCA&#x27;,\n",
       "                                        KernelPCA(random_state=42)),\n",
       "                                       (&#x27;KDE&#x27;,\n",
       "                                        KernelDensity(bandwidth=&#x27;silverman&#x27;))]),\n",
       "             param_grid={&#x27;KernelPCA__gamma&#x27;: (None, 0.1, 0.3, 1.0, 3.0),\n",
       "                         &#x27;KernelPCA__kernel&#x27;: (&#x27;linear&#x27;, &#x27;rbf&#x27;, &#x27;sigmoid&#x27;,\n",
       "                                               &#x27;cosine&#x27;),\n",
       "                         &#x27;KernelPCA__n_components&#x27;: (2, 3)},\n",
       "             scoring=&lt;function roc_auc_scoring at 0x161b5be20&gt;)</pre></div></div></div><div class=\"sk-parallel\"><div class=\"sk-parallel-item\"><div class=\"sk-item\"><div class=\"sk-label-container\"><div class=\"sk-label sk-toggleable\"><input class=\"sk-toggleable__control sk-hidden--visually\" id=\"sk-estimator-id-33\" type=\"checkbox\" ><label for=\"sk-estimator-id-33\" class=\"sk-toggleable__label sk-toggleable__label-arrow\">estimator: Pipeline</label><div class=\"sk-toggleable__content\"><pre>Pipeline(steps=[(&#x27;KernelPCA&#x27;, KernelPCA(random_state=42)),\n",
       "                (&#x27;KDE&#x27;, KernelDensity(bandwidth=&#x27;silverman&#x27;))])</pre></div></div></div><div class=\"sk-serial\"><div class=\"sk-item\"><div class=\"sk-serial\"><div class=\"sk-item\"><div class=\"sk-estimator sk-toggleable\"><input class=\"sk-toggleable__control sk-hidden--visually\" id=\"sk-estimator-id-34\" type=\"checkbox\" ><label for=\"sk-estimator-id-34\" class=\"sk-toggleable__label sk-toggleable__label-arrow\">KernelPCA</label><div class=\"sk-toggleable__content\"><pre>KernelPCA(random_state=42)</pre></div></div></div><div class=\"sk-item\"><div class=\"sk-estimator sk-toggleable\"><input class=\"sk-toggleable__control sk-hidden--visually\" id=\"sk-estimator-id-35\" type=\"checkbox\" ><label for=\"sk-estimator-id-35\" class=\"sk-toggleable__label sk-toggleable__label-arrow\">KernelDensity</label><div class=\"sk-toggleable__content\"><pre>KernelDensity(bandwidth=&#x27;silverman&#x27;)</pre></div></div></div></div></div></div></div></div></div></div></div></div></div></div>"
      ],
      "text/plain": [
       "Pipeline(steps=[('imputer', SimpleImputer(strategy='median')),\n",
       "                ('scaler', RobustScaler()),\n",
       "                ('model',\n",
       "                 GridSearchCV(cv=PredefinedSplit(test_fold=array([-1, -1, ...,  0,  0])),\n",
       "                              estimator=Pipeline(steps=[('KernelPCA',\n",
       "                                                         KernelPCA(random_state=42)),\n",
       "                                                        ('KDE',\n",
       "                                                         KernelDensity(bandwidth='silverman'))]),\n",
       "                              param_grid={'KernelPCA__gamma': (None, 0.1, 0.3,\n",
       "                                                               1.0, 3.0),\n",
       "                                          'KernelPCA__kernel': ('linear', 'rbf',\n",
       "                                                                'sigmoid',\n",
       "                                                                'cosine'),\n",
       "                                          'KernelPCA__n_components': (2, 3)},\n",
       "                              scoring=<function roc_auc_scoring at 0x161b5be20>))])"
      ]
     },
     "execution_count": 36,
     "metadata": {},
     "output_type": "execute_result"
    }
   ],
   "source": [
    "pipe = make_pipe(kernels=('linear', 'rbf', 'sigmoid', 'cosine'), predef_split=predef_split)\n",
    "pipe.fit(train_val, y_train_val)"
   ]
  },
  {
   "cell_type": "code",
   "execution_count": 37,
   "id": "302976fb",
   "metadata": {},
   "outputs": [],
   "source": [
    "def transform(self, dataframe:pd.DataFrame):\n",
    "    return self._final_estimator.best_estimator_[0].transform(\n",
    "        self[1].transform(\n",
    "            self[0].transform(dataframe)\n",
    "        )\n",
    "    )\n",
    "pipe.transform = MethodType(transform, pipe)"
   ]
  },
  {
   "cell_type": "code",
   "execution_count": 38,
   "id": "a39fcd4c",
   "metadata": {},
   "outputs": [
    {
     "data": {
      "text/plain": [
       "0.6941216216216216"
      ]
     },
     "execution_count": 38,
     "metadata": {},
     "output_type": "execute_result"
    }
   ],
   "source": [
    "# Flares detection best score\n",
    "pipe._final_estimator.best_score_"
   ]
  },
  {
   "cell_type": "code",
   "execution_count": 39,
   "id": "c9a505f1",
   "metadata": {},
   "outputs": [
    {
     "data": {
      "text/plain": [
       "{'KernelPCA__gamma': 3.0,\n",
       " 'KernelPCA__kernel': 'rbf',\n",
       " 'KernelPCA__n_components': 2}"
      ]
     },
     "execution_count": 39,
     "metadata": {},
     "output_type": "execute_result"
    }
   ],
   "source": [
    "# Optimal parameters\n",
    "pipe._final_estimator.best_params_"
   ]
  },
  {
   "cell_type": "code",
   "execution_count": 40,
   "id": "c9917148-c698-41b7-b6af-96c8720946f6",
   "metadata": {},
   "outputs": [
    {
     "data": {
      "text/html": [
       "<style>#sk-container-id-6 {color: black;}#sk-container-id-6 pre{padding: 0;}#sk-container-id-6 div.sk-toggleable {background-color: white;}#sk-container-id-6 label.sk-toggleable__label {cursor: pointer;display: block;width: 100%;margin-bottom: 0;padding: 0.3em;box-sizing: border-box;text-align: center;}#sk-container-id-6 label.sk-toggleable__label-arrow:before {content: \"▸\";float: left;margin-right: 0.25em;color: #696969;}#sk-container-id-6 label.sk-toggleable__label-arrow:hover:before {color: black;}#sk-container-id-6 div.sk-estimator:hover label.sk-toggleable__label-arrow:before {color: black;}#sk-container-id-6 div.sk-toggleable__content {max-height: 0;max-width: 0;overflow: hidden;text-align: left;background-color: #f0f8ff;}#sk-container-id-6 div.sk-toggleable__content pre {margin: 0.2em;color: black;border-radius: 0.25em;background-color: #f0f8ff;}#sk-container-id-6 input.sk-toggleable__control:checked~div.sk-toggleable__content {max-height: 200px;max-width: 100%;overflow: auto;}#sk-container-id-6 input.sk-toggleable__control:checked~label.sk-toggleable__label-arrow:before {content: \"▾\";}#sk-container-id-6 div.sk-estimator input.sk-toggleable__control:checked~label.sk-toggleable__label {background-color: #d4ebff;}#sk-container-id-6 div.sk-label input.sk-toggleable__control:checked~label.sk-toggleable__label {background-color: #d4ebff;}#sk-container-id-6 input.sk-hidden--visually {border: 0;clip: rect(1px 1px 1px 1px);clip: rect(1px, 1px, 1px, 1px);height: 1px;margin: -1px;overflow: hidden;padding: 0;position: absolute;width: 1px;}#sk-container-id-6 div.sk-estimator {font-family: monospace;background-color: #f0f8ff;border: 1px dotted black;border-radius: 0.25em;box-sizing: border-box;margin-bottom: 0.5em;}#sk-container-id-6 div.sk-estimator:hover {background-color: #d4ebff;}#sk-container-id-6 div.sk-parallel-item::after {content: \"\";width: 100%;border-bottom: 1px solid gray;flex-grow: 1;}#sk-container-id-6 div.sk-label:hover label.sk-toggleable__label {background-color: #d4ebff;}#sk-container-id-6 div.sk-serial::before {content: \"\";position: absolute;border-left: 1px solid gray;box-sizing: border-box;top: 0;bottom: 0;left: 50%;z-index: 0;}#sk-container-id-6 div.sk-serial {display: flex;flex-direction: column;align-items: center;background-color: white;padding-right: 0.2em;padding-left: 0.2em;position: relative;}#sk-container-id-6 div.sk-item {position: relative;z-index: 1;}#sk-container-id-6 div.sk-parallel {display: flex;align-items: stretch;justify-content: center;background-color: white;position: relative;}#sk-container-id-6 div.sk-item::before, #sk-container-id-6 div.sk-parallel-item::before {content: \"\";position: absolute;border-left: 1px solid gray;box-sizing: border-box;top: 0;bottom: 0;left: 50%;z-index: -1;}#sk-container-id-6 div.sk-parallel-item {display: flex;flex-direction: column;z-index: 1;position: relative;background-color: white;}#sk-container-id-6 div.sk-parallel-item:first-child::after {align-self: flex-end;width: 50%;}#sk-container-id-6 div.sk-parallel-item:last-child::after {align-self: flex-start;width: 50%;}#sk-container-id-6 div.sk-parallel-item:only-child::after {width: 0;}#sk-container-id-6 div.sk-dashed-wrapped {border: 1px dashed gray;margin: 0 0.4em 0.5em 0.4em;box-sizing: border-box;padding-bottom: 0.4em;background-color: white;}#sk-container-id-6 div.sk-label label {font-family: monospace;font-weight: bold;display: inline-block;line-height: 1.2em;}#sk-container-id-6 div.sk-label-container {text-align: center;}#sk-container-id-6 div.sk-container {/* jupyter's `normalize.less` sets `[hidden] { display: none; }` but bootstrap.min.css set `[hidden] { display: none !important; }` so we also need the `!important` here to be able to override the default hidden behavior on the sphinx rendered scikit-learn.org. See: https://github.com/scikit-learn/scikit-learn/issues/21755 */display: inline-block !important;position: relative;}#sk-container-id-6 div.sk-text-repr-fallback {display: none;}</style><div id=\"sk-container-id-6\" class=\"sk-top-container\"><div class=\"sk-text-repr-fallback\"><pre>Pipeline(steps=[(&#x27;imputer&#x27;, SimpleImputer(strategy=&#x27;median&#x27;)),\n",
       "                (&#x27;scaler&#x27;, RobustScaler()),\n",
       "                (&#x27;model&#x27;,\n",
       "                 GridSearchCV(cv=PredefinedSplit(test_fold=array([-1, -1, ...,  0,  0])),\n",
       "                              estimator=Pipeline(steps=[(&#x27;KernelPCA&#x27;,\n",
       "                                                         KernelPCA(random_state=42)),\n",
       "                                                        (&#x27;KDE&#x27;,\n",
       "                                                         KernelDensity(bandwidth=&#x27;silverman&#x27;))]),\n",
       "                              param_grid={&#x27;KernelPCA__gamma&#x27;: (None, 0.1, 0.3,\n",
       "                                                               1.0, 3.0),\n",
       "                                          &#x27;KernelPCA__kernel&#x27;: (&#x27;linear&#x27;, &#x27;rbf&#x27;,\n",
       "                                                                &#x27;sigmoid&#x27;,\n",
       "                                                                &#x27;cosine&#x27;),\n",
       "                                          &#x27;KernelPCA__n_components&#x27;: (2, 3)},\n",
       "                              scoring=&lt;function roc_auc_scoring at 0x161b5be20&gt;))])</pre><b>In a Jupyter environment, please rerun this cell to show the HTML representation or trust the notebook. <br />On GitHub, the HTML representation is unable to render, please try loading this page with nbviewer.org.</b></div><div class=\"sk-container\" hidden><div class=\"sk-item sk-dashed-wrapped\"><div class=\"sk-label-container\"><div class=\"sk-label sk-toggleable\"><input class=\"sk-toggleable__control sk-hidden--visually\" id=\"sk-estimator-id-36\" type=\"checkbox\" ><label for=\"sk-estimator-id-36\" class=\"sk-toggleable__label sk-toggleable__label-arrow\">Pipeline</label><div class=\"sk-toggleable__content\"><pre>Pipeline(steps=[(&#x27;imputer&#x27;, SimpleImputer(strategy=&#x27;median&#x27;)),\n",
       "                (&#x27;scaler&#x27;, RobustScaler()),\n",
       "                (&#x27;model&#x27;,\n",
       "                 GridSearchCV(cv=PredefinedSplit(test_fold=array([-1, -1, ...,  0,  0])),\n",
       "                              estimator=Pipeline(steps=[(&#x27;KernelPCA&#x27;,\n",
       "                                                         KernelPCA(random_state=42)),\n",
       "                                                        (&#x27;KDE&#x27;,\n",
       "                                                         KernelDensity(bandwidth=&#x27;silverman&#x27;))]),\n",
       "                              param_grid={&#x27;KernelPCA__gamma&#x27;: (None, 0.1, 0.3,\n",
       "                                                               1.0, 3.0),\n",
       "                                          &#x27;KernelPCA__kernel&#x27;: (&#x27;linear&#x27;, &#x27;rbf&#x27;,\n",
       "                                                                &#x27;sigmoid&#x27;,\n",
       "                                                                &#x27;cosine&#x27;),\n",
       "                                          &#x27;KernelPCA__n_components&#x27;: (2, 3)},\n",
       "                              scoring=&lt;function roc_auc_scoring at 0x161b5be20&gt;))])</pre></div></div></div><div class=\"sk-serial\"><div class=\"sk-item\"><div class=\"sk-estimator sk-toggleable\"><input class=\"sk-toggleable__control sk-hidden--visually\" id=\"sk-estimator-id-37\" type=\"checkbox\" ><label for=\"sk-estimator-id-37\" class=\"sk-toggleable__label sk-toggleable__label-arrow\">SimpleImputer</label><div class=\"sk-toggleable__content\"><pre>SimpleImputer(strategy=&#x27;median&#x27;)</pre></div></div></div><div class=\"sk-item\"><div class=\"sk-estimator sk-toggleable\"><input class=\"sk-toggleable__control sk-hidden--visually\" id=\"sk-estimator-id-38\" type=\"checkbox\" ><label for=\"sk-estimator-id-38\" class=\"sk-toggleable__label sk-toggleable__label-arrow\">RobustScaler</label><div class=\"sk-toggleable__content\"><pre>RobustScaler()</pre></div></div></div><div class=\"sk-item sk-dashed-wrapped\"><div class=\"sk-label-container\"><div class=\"sk-label sk-toggleable\"><input class=\"sk-toggleable__control sk-hidden--visually\" id=\"sk-estimator-id-39\" type=\"checkbox\" ><label for=\"sk-estimator-id-39\" class=\"sk-toggleable__label sk-toggleable__label-arrow\">model: GridSearchCV</label><div class=\"sk-toggleable__content\"><pre>GridSearchCV(cv=PredefinedSplit(test_fold=array([-1, -1, ...,  0,  0])),\n",
       "             estimator=Pipeline(steps=[(&#x27;KernelPCA&#x27;,\n",
       "                                        KernelPCA(random_state=42)),\n",
       "                                       (&#x27;KDE&#x27;,\n",
       "                                        KernelDensity(bandwidth=&#x27;silverman&#x27;))]),\n",
       "             param_grid={&#x27;KernelPCA__gamma&#x27;: (None, 0.1, 0.3, 1.0, 3.0),\n",
       "                         &#x27;KernelPCA__kernel&#x27;: (&#x27;linear&#x27;, &#x27;rbf&#x27;, &#x27;sigmoid&#x27;,\n",
       "                                               &#x27;cosine&#x27;),\n",
       "                         &#x27;KernelPCA__n_components&#x27;: (2, 3)},\n",
       "             scoring=&lt;function roc_auc_scoring at 0x161b5be20&gt;)</pre></div></div></div><div class=\"sk-parallel\"><div class=\"sk-parallel-item\"><div class=\"sk-item\"><div class=\"sk-label-container\"><div class=\"sk-label sk-toggleable\"><input class=\"sk-toggleable__control sk-hidden--visually\" id=\"sk-estimator-id-40\" type=\"checkbox\" ><label for=\"sk-estimator-id-40\" class=\"sk-toggleable__label sk-toggleable__label-arrow\">estimator: Pipeline</label><div class=\"sk-toggleable__content\"><pre>Pipeline(steps=[(&#x27;KernelPCA&#x27;, KernelPCA(random_state=42)),\n",
       "                (&#x27;KDE&#x27;, KernelDensity(bandwidth=&#x27;silverman&#x27;))])</pre></div></div></div><div class=\"sk-serial\"><div class=\"sk-item\"><div class=\"sk-serial\"><div class=\"sk-item\"><div class=\"sk-estimator sk-toggleable\"><input class=\"sk-toggleable__control sk-hidden--visually\" id=\"sk-estimator-id-41\" type=\"checkbox\" ><label for=\"sk-estimator-id-41\" class=\"sk-toggleable__label sk-toggleable__label-arrow\">KernelPCA</label><div class=\"sk-toggleable__content\"><pre>KernelPCA(random_state=42)</pre></div></div></div><div class=\"sk-item\"><div class=\"sk-estimator sk-toggleable\"><input class=\"sk-toggleable__control sk-hidden--visually\" id=\"sk-estimator-id-42\" type=\"checkbox\" ><label for=\"sk-estimator-id-42\" class=\"sk-toggleable__label sk-toggleable__label-arrow\">KernelDensity</label><div class=\"sk-toggleable__content\"><pre>KernelDensity(bandwidth=&#x27;silverman&#x27;)</pre></div></div></div></div></div></div></div></div></div></div></div></div></div></div>"
      ],
      "text/plain": [
       "Pipeline(steps=[('imputer', SimpleImputer(strategy='median')),\n",
       "                ('scaler', RobustScaler()),\n",
       "                ('model',\n",
       "                 GridSearchCV(cv=PredefinedSplit(test_fold=array([-1, -1, ...,  0,  0])),\n",
       "                              estimator=Pipeline(steps=[('KernelPCA',\n",
       "                                                         KernelPCA(random_state=42)),\n",
       "                                                        ('KDE',\n",
       "                                                         KernelDensity(bandwidth='silverman'))]),\n",
       "                              param_grid={'KernelPCA__gamma': (None, 0.1, 0.3,\n",
       "                                                               1.0, 3.0),\n",
       "                                          'KernelPCA__kernel': ('linear', 'rbf',\n",
       "                                                                'sigmoid',\n",
       "                                                                'cosine'),\n",
       "                                          'KernelPCA__n_components': (2, 3)},\n",
       "                              scoring=<function roc_auc_scoring at 0x161b5be20>))])"
      ]
     },
     "execution_count": 40,
     "metadata": {},
     "output_type": "execute_result"
    }
   ],
   "source": [
    "pipe.fit(train_val, y_train_val)"
   ]
  },
  {
   "cell_type": "code",
   "execution_count": 41,
   "id": "48c2bf6a",
   "metadata": {},
   "outputs": [
    {
     "name": "stdout",
     "output_type": "stream",
     "text": [
      "ROC-AUC Score:\n",
      "    train : 0.64\n",
      "    val   : 0.59\n",
      "    test  : 0.73\n"
     ]
    }
   ],
   "source": [
    "print('ROC-AUC Score:\\n'+\n",
    "      f'    train : {round(roc_auc_scoring(pipe, train, ytrain), 2)}\\n'+\n",
    "      f'    val   : {round(roc_auc_scoring(pipe, val, yval), 2)}\\n'+\n",
    "      f'    test  : {round(roc_auc_scoring(pipe, test, ytest), 2)}'\n",
    "     )"
   ]
  },
  {
   "cell_type": "code",
   "execution_count": 42,
   "id": "67ca68aa",
   "metadata": {},
   "outputs": [],
   "source": [
    "df = transform_dataset(pipe, train, val, test, labels)"
   ]
  },
  {
   "cell_type": "code",
   "execution_count": 43,
   "id": "87fa4037",
   "metadata": {},
   "outputs": [
    {
     "data": {
      "text/html": [
       "<div>\n",
       "<style scoped>\n",
       "    .dataframe tbody tr th:only-of-type {\n",
       "        vertical-align: middle;\n",
       "    }\n",
       "\n",
       "    .dataframe tbody tr th {\n",
       "        vertical-align: top;\n",
       "    }\n",
       "\n",
       "    .dataframe thead th {\n",
       "        text-align: right;\n",
       "    }\n",
       "</style>\n",
       "<table border=\"1\" class=\"dataframe\">\n",
       "  <thead>\n",
       "    <tr style=\"text-align: right;\">\n",
       "      <th></th>\n",
       "      <th>feature_0</th>\n",
       "      <th>feature_1</th>\n",
       "      <th>score</th>\n",
       "      <th>sample</th>\n",
       "      <th>numbreaks</th>\n",
       "      <th>lc type</th>\n",
       "      <th>NH_gal</th>\n",
       "      <th>Redshift</th>\n",
       "      <th>Flares</th>\n",
       "      <th>FlaresFlag</th>\n",
       "    </tr>\n",
       "  </thead>\n",
       "  <tbody>\n",
       "    <tr>\n",
       "      <th>GRB 101011A</th>\n",
       "      <td>0.868221</td>\n",
       "      <td>0.001446</td>\n",
       "      <td>-3.224472</td>\n",
       "      <td>train</td>\n",
       "      <td>0</td>\n",
       "      <td>No breaks</td>\n",
       "      <td>0.0367</td>\n",
       "      <td>NaN</td>\n",
       "      <td>[]</td>\n",
       "      <td>0</td>\n",
       "    </tr>\n",
       "    <tr>\n",
       "      <th>GRB 170318B</th>\n",
       "      <td>0.867162</td>\n",
       "      <td>0.001475</td>\n",
       "      <td>-3.216058</td>\n",
       "      <td>val</td>\n",
       "      <td>0</td>\n",
       "      <td>No breaks</td>\n",
       "      <td>1.4000</td>\n",
       "      <td>NaN</td>\n",
       "      <td>[(111, 298)]</td>\n",
       "      <td>1</td>\n",
       "    </tr>\n",
       "    <tr>\n",
       "      <th>GRB 130816A</th>\n",
       "      <td>-0.004115</td>\n",
       "      <td>0.773509</td>\n",
       "      <td>-2.491210</td>\n",
       "      <td>train</td>\n",
       "      <td>0</td>\n",
       "      <td>No breaks</td>\n",
       "      <td>0.5300</td>\n",
       "      <td>NaN</td>\n",
       "      <td>[]</td>\n",
       "      <td>0</td>\n",
       "    </tr>\n",
       "    <tr>\n",
       "      <th>GRB 110208A</th>\n",
       "      <td>-0.004075</td>\n",
       "      <td>0.771921</td>\n",
       "      <td>-2.479457</td>\n",
       "      <td>train</td>\n",
       "      <td>2</td>\n",
       "      <td>Canonical</td>\n",
       "      <td>0.0253</td>\n",
       "      <td>NaN</td>\n",
       "      <td>[]</td>\n",
       "      <td>0</td>\n",
       "    </tr>\n",
       "    <tr>\n",
       "      <th>GRB 211207A</th>\n",
       "      <td>-0.004739</td>\n",
       "      <td>-0.178034</td>\n",
       "      <td>0.300064</td>\n",
       "      <td>train</td>\n",
       "      <td>0</td>\n",
       "      <td>No breaks</td>\n",
       "      <td>0.0494</td>\n",
       "      <td>2.272</td>\n",
       "      <td>[]</td>\n",
       "      <td>0</td>\n",
       "    </tr>\n",
       "    <tr>\n",
       "      <th>GRB 200819A</th>\n",
       "      <td>-0.004119</td>\n",
       "      <td>-0.151678</td>\n",
       "      <td>0.342867</td>\n",
       "      <td>train</td>\n",
       "      <td>0</td>\n",
       "      <td>No breaks</td>\n",
       "      <td>0.9800</td>\n",
       "      <td>NaN</td>\n",
       "      <td>[]</td>\n",
       "      <td>0</td>\n",
       "    </tr>\n",
       "    <tr>\n",
       "      <th>GRB 131205A</th>\n",
       "      <td>-0.003308</td>\n",
       "      <td>-0.104526</td>\n",
       "      <td>0.402210</td>\n",
       "      <td>train</td>\n",
       "      <td>0</td>\n",
       "      <td>No breaks</td>\n",
       "      <td>0.2400</td>\n",
       "      <td>NaN</td>\n",
       "      <td>[]</td>\n",
       "      <td>0</td>\n",
       "    </tr>\n",
       "    <tr>\n",
       "      <th>GRB 110402A</th>\n",
       "      <td>-0.002270</td>\n",
       "      <td>0.074113</td>\n",
       "      <td>0.426633</td>\n",
       "      <td>train</td>\n",
       "      <td>1</td>\n",
       "      <td>One-break</td>\n",
       "      <td>0.0170</td>\n",
       "      <td>NaN</td>\n",
       "      <td>[]</td>\n",
       "      <td>0</td>\n",
       "    </tr>\n",
       "    <tr>\n",
       "      <th>GRB 160321A</th>\n",
       "      <td>0.069945</td>\n",
       "      <td>-0.000958</td>\n",
       "      <td>0.429461</td>\n",
       "      <td>train</td>\n",
       "      <td>0</td>\n",
       "      <td>No breaks</td>\n",
       "      <td>0.7200</td>\n",
       "      <td>NaN</td>\n",
       "      <td>[]</td>\n",
       "      <td>0</td>\n",
       "    </tr>\n",
       "    <tr>\n",
       "      <th>GRB 130929A</th>\n",
       "      <td>-0.002852</td>\n",
       "      <td>-0.058228</td>\n",
       "      <td>0.438977</td>\n",
       "      <td>train</td>\n",
       "      <td>0</td>\n",
       "      <td>No breaks</td>\n",
       "      <td>0.8500</td>\n",
       "      <td>NaN</td>\n",
       "      <td>[]</td>\n",
       "      <td>0</td>\n",
       "    </tr>\n",
       "  </tbody>\n",
       "</table>\n",
       "</div>"
      ],
      "text/plain": [
       "             feature_0  feature_1     score sample  numbreaks    lc type  \\\n",
       "GRB 101011A   0.868221   0.001446 -3.224472  train          0  No breaks   \n",
       "GRB 170318B   0.867162   0.001475 -3.216058    val          0  No breaks   \n",
       "GRB 130816A  -0.004115   0.773509 -2.491210  train          0  No breaks   \n",
       "GRB 110208A  -0.004075   0.771921 -2.479457  train          2  Canonical   \n",
       "GRB 211207A  -0.004739  -0.178034  0.300064  train          0  No breaks   \n",
       "GRB 200819A  -0.004119  -0.151678  0.342867  train          0  No breaks   \n",
       "GRB 131205A  -0.003308  -0.104526  0.402210  train          0  No breaks   \n",
       "GRB 110402A  -0.002270   0.074113  0.426633  train          1  One-break   \n",
       "GRB 160321A   0.069945  -0.000958  0.429461  train          0  No breaks   \n",
       "GRB 130929A  -0.002852  -0.058228  0.438977  train          0  No breaks   \n",
       "\n",
       "             NH_gal  Redshift        Flares  FlaresFlag  \n",
       "GRB 101011A  0.0367       NaN            []           0  \n",
       "GRB 170318B  1.4000       NaN  [(111, 298)]           1  \n",
       "GRB 130816A  0.5300       NaN            []           0  \n",
       "GRB 110208A  0.0253       NaN            []           0  \n",
       "GRB 211207A  0.0494     2.272            []           0  \n",
       "GRB 200819A  0.9800       NaN            []           0  \n",
       "GRB 131205A  0.2400       NaN            []           0  \n",
       "GRB 110402A  0.0170       NaN            []           0  \n",
       "GRB 160321A  0.7200       NaN            []           0  \n",
       "GRB 130929A  0.8500       NaN            []           0  "
      ]
     },
     "execution_count": 43,
     "metadata": {},
     "output_type": "execute_result"
    }
   ],
   "source": [
    "# top-10 anomalous\n",
    "df.sort_values(by='score', axis=0).head(10)"
   ]
  },
  {
   "cell_type": "code",
   "execution_count": 44,
   "id": "bc9ce752",
   "metadata": {},
   "outputs": [
    {
     "name": "stdout",
     "output_type": "stream",
     "text": [
      "correlation between latent features and numbreaks: [-0.04922137 -0.00260768]\n"
     ]
    }
   ],
   "source": [
    "fragment = df[\n",
    "    [col for col in df.columns if col.startswith('feature_')]+\n",
    "    ['numbreaks']\n",
    "].values\n",
    "\n",
    "print('correlation between latent features and '+\n",
    "      f'numbreaks: {np.corrcoef(fragment, rowvar=False)[:-1, -1]}'\n",
    ")"
   ]
  },
  {
   "cell_type": "code",
   "execution_count": 45,
   "id": "351b3c7c",
   "metadata": {},
   "outputs": [
    {
     "data": {
      "image/png": "[encoded data removed]",
      "text/plain": [
       "<Figure size 640x480 with 1 Axes>"
      ]
     },
     "metadata": {},
     "output_type": "display_data"
    }
   ],
   "source": [
    "if not os.path.isdir('./Figures'):\n",
    "    os.mkdir('./Figures')\n",
    "visualize_latent(df, title='best KernelPCA on interpolated LCs',\n",
    "                 savedir='./Figures', show=True)"
   ]
  },
  {
   "cell_type": "markdown",
   "id": "1a1158d6",
   "metadata": {},
   "source": [
    "The output distribution is ill-defined. No reliable anomalies found."
   ]
  }
 ],
 "metadata": {
  "kernelspec": {
   "display_name": "Python 3 (ipykernel)",
   "language": "python",
   "name": "python3"
  },
  "language_info": {
   "codemirror_mode": {
    "name": "ipython",
    "version": 3
   },
   "file_extension": ".py",
   "mimetype": "text/x-python",
   "name": "python",
   "nbconvert_exporter": "python",
   "pygments_lexer": "ipython3",
   "version": "3.11.5"
  }
 },
 "nbformat": 4,
 "nbformat_minor": 5
}

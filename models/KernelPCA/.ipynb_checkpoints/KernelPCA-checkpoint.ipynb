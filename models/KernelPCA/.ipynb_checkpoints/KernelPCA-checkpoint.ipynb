{
 "cells": [
  {
   "cell_type": "markdown",
   "id": "4a8a96a5",
   "metadata": {},
   "source": [
    "# Required modules"
   ]
  },
  {
   "cell_type": "code",
   "execution_count": null,
   "id": "6d6c611e",
   "metadata": {},
   "outputs": [],
   "source": [
    "import os\n",
    "import sys\n",
    "import numpy as np\n",
    "import pandas as pd\n",
    "import pickle\n",
    "import random\n",
    "\n",
    "from types import MethodType"
   ]
  },
  {
   "cell_type": "code",
   "execution_count": null,
   "id": "6c00e5d8",
   "metadata": {},
   "outputs": [],
   "source": [
    "module_path = os.path.abspath(os.path.join('..'))\n",
    "if module_path not in sys.path:\n",
    "    sys.path.append(module_path)"
   ]
  },
  {
   "cell_type": "code",
   "execution_count": null,
   "id": "7b94df79",
   "metadata": {},
   "outputs": [],
   "source": [
    "from utilities.data_downloader import train_val_test_downloader, choose_one_column\n",
    "from utilities.plots import visualize_latent"
   ]
  },
  {
   "cell_type": "code",
   "execution_count": null,
   "id": "47ee37de",
   "metadata": {},
   "outputs": [],
   "source": [
    "from sklearn.impute import SimpleImputer\n",
    "from sklearn.neighbors import KernelDensity\n",
    "from sklearn.metrics import roc_auc_score\n",
    "from sklearn.model_selection import GridSearchCV\n",
    "from sklearn.preprocessing import RobustScaler\n",
    "from sklearn.decomposition import KernelPCA\n",
    "from sklearn.pipeline import Pipeline"
   ]
  },
  {
   "cell_type": "code",
   "execution_count": null,
   "id": "b7b9313a",
   "metadata": {},
   "outputs": [],
   "source": [
    "random.seed(42)\n",
    "np.random.seed(42)"
   ]
  },
  {
   "cell_type": "markdown",
   "id": "fdc12db8",
   "metadata": {},
   "source": [
    "# Analysis Pipeline"
   ]
  },
  {
   "cell_type": "code",
   "execution_count": null,
   "id": "0563252d",
   "metadata": {},
   "outputs": [],
   "source": [
    "def roc_auc_scoring(estimator, X, y)->float:\n",
    "    yscore = -estimator.score_samples(X) # anomalous samples have smaller log-likelihood\n",
    "    ytrue = y\n",
    "    return roc_auc_score(ytrue, yscore)"
   ]
  },
  {
   "cell_type": "code",
   "execution_count": null,
   "id": "7752f739",
   "metadata": {},
   "outputs": [],
   "source": [
    "def make_pipe():\n",
    "    \"\"\"\n",
    "    Makes GridSearchCV pipeline\n",
    "    \"\"\"\n",
    "    return Pipeline(\n",
    "        [('imputer', SimpleImputer(\n",
    "            missing_values=np.nan, strategy='median')),\n",
    "         ('scaler', RobustScaler()),\n",
    "         ('model', GridSearchCV(\n",
    "             Pipeline([\n",
    "                 ('KernelPCA', KernelPCA(random_state=42)),\n",
    "                 ('KDE', KernelDensity(kernel='gaussian', bandwidth='silverman'))\n",
    "             ]),\n",
    "             param_grid={\n",
    "                 'KernelPCA__n_components': (1, 2, 3),\n",
    "                 'KernelPCA__kernel': ('rbf', 'sigmoid', 'cosine'),\n",
    "                 'KernelPCA__gamma': (0.1, 0.3, 1.0, 3.0)},\n",
    "             scoring=roc_auc_scoring, cv=2),\n",
    "         ),\n",
    "        ]\n",
    "    )"
   ]
  },
  {
   "cell_type": "code",
   "execution_count": null,
   "id": "8f69c551",
   "metadata": {},
   "outputs": [],
   "source": [
    "def transform_dataset(pipe:Pipeline,\n",
    "                      train:pd.DataFrame,\n",
    "                      val:pd.DataFrame,\n",
    "                      test:pd.DataFrame,\n",
    "                      labels:pd.DataFrame)->pd.DataFrame:\n",
    "    \"\"\"\n",
    "    Creates a joint dataframe of transformed features.\n",
    "    \"\"\"\n",
    "    train_df, val_df, test_df = [\n",
    "        pd.DataFrame(data=pipe.transform(df), index=df.index).rename(\n",
    "        columns=lambda col: f'feature_{col}') for df in (train, val, test)\n",
    "    ]\n",
    "    train_df['sample'] = 'train'\n",
    "    val_df['sample'] = 'val'\n",
    "    test_df['sample'] = 'test'\n",
    "    df = pd.concat((train_df, val_df, test_df), axis=0, ignore_index=False)\n",
    "    df = pd.concat((df, labels), axis=1, ignore_index=False)\n",
    "    return df"
   ]
  },
  {
   "cell_type": "markdown",
   "id": "c9cf7517",
   "metadata": {},
   "source": [
    "# Extracted Features Analysis"
   ]
  },
  {
   "cell_type": "code",
   "execution_count": null,
   "id": "e18f98c4",
   "metadata": {},
   "outputs": [],
   "source": [
    "train, val, test, labels = train_val_test_downloader('features')\n",
    "ytrain = labels.loc[train.index, 'FlaresFlag']"
   ]
  },
  {
   "cell_type": "code",
   "execution_count": null,
   "id": "ba60e80b",
   "metadata": {},
   "outputs": [],
   "source": [
    "pipe = make_pipe()\n",
    "pipe.fit(train, ytrain)"
   ]
  },
  {
   "cell_type": "code",
   "execution_count": null,
   "id": "2f30d617",
   "metadata": {},
   "outputs": [],
   "source": [
    "def transform(self, dataframe:pd.DataFrame):\n",
    "    return self._final_estimator.best_estimator_[0].transform(\n",
    "        self[1].transform(\n",
    "            self[0].transform(dataframe)\n",
    "        )\n",
    "    )\n",
    "pipe.transform = MethodType(transform, pipe)"
   ]
  },
  {
   "cell_type": "code",
   "execution_count": null,
   "id": "54d5cbe0",
   "metadata": {},
   "outputs": [],
   "source": [
    "df = transform_dataset(pipe, train, val, test, labels)"
   ]
  },
  {
   "cell_type": "code",
   "execution_count": null,
   "id": "8b01e21f",
   "metadata": {},
   "outputs": [],
   "source": [
    "pipe._final_estimator.best_score_"
   ]
  },
  {
   "cell_type": "code",
   "execution_count": null,
   "id": "1ab45095",
   "metadata": {},
   "outputs": [],
   "source": [
    "pipe._final_estimator.best_params_"
   ]
  },
  {
   "cell_type": "code",
   "execution_count": null,
   "id": "16a41d18",
   "metadata": {},
   "outputs": [],
   "source": [
    "if not os.path.isdir('./Figures'):\n",
    "    os.mkdir('./Figures')"
   ]
  },
  {
   "cell_type": "code",
   "execution_count": null,
   "id": "f2b5c106",
   "metadata": {},
   "outputs": [],
   "source": [
    "visualize_latent(df, title='best KernelPCA on LC features',\n",
    "                 savedir='./Figures', show=True)"
   ]
  },
  {
   "cell_type": "markdown",
   "id": "fdb99fed",
   "metadata": {},
   "source": [
    "# Rebinned Lightcurves Analysis"
   ]
  },
  {
   "cell_type": "code",
   "execution_count": null,
   "id": "2e280c4b",
   "metadata": {},
   "outputs": [],
   "source": [
    "train, val, test = tuple(\n",
    "    map(lambda df: choose_one_column(df, 'lgRate'),\n",
    "    train_val_test_downloader('interp'))\n",
    ")"
   ]
  },
  {
   "cell_type": "code",
   "execution_count": null,
   "id": "283ce599",
   "metadata": {},
   "outputs": [],
   "source": []
  }
 ],
 "metadata": {
  "kernelspec": {
   "display_name": "Python 3 (ipykernel)",
   "language": "python",
   "name": "python3"
  },
  "language_info": {
   "codemirror_mode": {
    "name": "ipython",
    "version": 3
   },
   "file_extension": ".py",
   "mimetype": "text/x-python",
   "name": "python",
   "nbconvert_exporter": "python",
   "pygments_lexer": "ipython3",
   "version": "3.11.5"
  }
 },
 "nbformat": 4,
 "nbformat_minor": 5
}

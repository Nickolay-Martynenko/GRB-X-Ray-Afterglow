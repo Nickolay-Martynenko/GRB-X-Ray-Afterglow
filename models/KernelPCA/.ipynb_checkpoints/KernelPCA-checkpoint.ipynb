{
 "cells": [
  {
   "cell_type": "markdown",
   "id": "4a8a96a5",
   "metadata": {},
   "source": [
    "# Required modules"
   ]
  },
  {
   "cell_type": "code",
   "execution_count": 1,
   "id": "6d6c611e",
   "metadata": {},
   "outputs": [],
   "source": [
    "import os\n",
    "import sys\n",
    "import numpy as np\n",
    "import pandas as pd\n",
    "import pickle\n",
    "import random"
   ]
  },
  {
   "cell_type": "code",
   "execution_count": 2,
   "id": "08d15513",
   "metadata": {},
   "outputs": [],
   "source": [
    "module_path = os.path.abspath(os.path.join('..'))\n",
    "if module_path not in sys.path:\n",
    "    sys.path.append(module_path)"
   ]
  },
  {
   "cell_type": "code",
   "execution_count": 3,
   "id": "a3198374",
   "metadata": {},
   "outputs": [],
   "source": [
    "from utilities.data_downloader import train_val_test_downloader, choose_one_column"
   ]
  },
  {
   "cell_type": "code",
   "execution_count": 4,
   "id": "4521920e",
   "metadata": {},
   "outputs": [],
   "source": [
    "from sklearn.impute import SimpleImputer\n",
    "from sklearn.neighbors import KernelDensity\n",
    "from sklearn.preprocessing import RobustScaler\n",
    "from sklearn.decomposition import KernelPCA\n",
    "from sklearn.pipeline import Pipeline"
   ]
  },
  {
   "cell_type": "code",
   "execution_count": 5,
   "id": "766448a2",
   "metadata": {},
   "outputs": [],
   "source": [
    "import matplotlib.pyplot as plt\n",
    "from matplotlib.colors import ListedColormap\n",
    "plt.style.use('ggplot')\n",
    "plt.rcParams['font.family']='monospace'"
   ]
  },
  {
   "cell_type": "code",
   "execution_count": 6,
   "id": "b7b9313a",
   "metadata": {},
   "outputs": [],
   "source": [
    "random.seed(42)\n",
    "np.random.seed(42)"
   ]
  },
  {
   "cell_type": "markdown",
   "id": "fdc12db8",
   "metadata": {},
   "source": [
    "# Analysis Pipeline"
   ]
  },
  {
   "cell_type": "code",
   "execution_count": null,
   "id": "7752f739",
   "metadata": {},
   "outputs": [],
   "source": [
    "def create_KernelPCA_pipeline(n_components:int=3,\n",
    "                              kernel:str='linear',\n",
    "                              kernel_kwargs:dict=None\n",
    "                             )->Pipeline:\n",
    "    \"\"\"\n",
    "    Creates KernelPCA Pipeline based on the passed arguments.\n",
    "    RobustScaler is always used to reduce outliers impact.\n",
    "    \n",
    "    Parameters\n",
    "    ----------\n",
    "    n_components : int, deafult=3\n",
    "        Number of principal components.\n",
    "    kernel : str, default='linear'\n",
    "        Kernel to be used.\n",
    "    kernel_kwargs : dict, default=None\n",
    "        The keyword arguments to be additionally passed to KernelPCA\n",
    "    \n",
    "    Returns\n",
    "    -------\n",
    "    pipe : Pipeline\n",
    "        The resulting pipeline.\n",
    "    \"\"\"\n",
    "    if kernel_kwargs is None:\n",
    "        kernel_kwargs = {}\n",
    "        \n",
    "    pipe = Pipeline(\n",
    "        [\n",
    "            ('imputer', SimpleImputer(\n",
    "            missing_values=np.nan, strategy='median')\n",
    "            ),\n",
    "            ('scaler', RobustScaler()),\n",
    "            ('KernelPCA', KernelPCA(\n",
    "             n_components=n_components,\n",
    "             kernel=kernel,random_state=42,\n",
    "             **kernel_kwargs)\n",
    "            ),\n",
    "        ]\n",
    "    )\n",
    "    return pipe"
   ]
  },
  {
   "cell_type": "code",
   "execution_count": null,
   "id": "f044f295",
   "metadata": {},
   "outputs": [],
   "source": [
    "def apply_KernelPCA_pipeline(pipeline:Pipeline,\n",
    "                             train:pd.DataFrame,\n",
    "                             val:pd.DataFrame,\n",
    "                             test:pd.DataFrame)->tuple:\n",
    "    \"\"\"\n",
    "    Fits the passed KernelPCA pipeline instance to train dataset\n",
    "    and transforms train, val and test datasets accordingly.\n",
    "    \n",
    "    Parameters\n",
    "    ----------\n",
    "    pipeline : Pipeline\n",
    "        KernelPCA pipeline to be fitted.\n",
    "    train, val, test : pd.DataFrame\n",
    "        The studied dataset.\n",
    "        \n",
    "    Returns\n",
    "    -------\n",
    "    pipeline : Pipeline\n",
    "        Fitted instance of the pipeline.\n",
    "    df : pd.DataFrame\n",
    "        Transformed version of the dataset.\n",
    "    \"\"\"\n",
    "    \n",
    "    train_transformed = pipeline.fit_transform(train)\n",
    "    n_samples, n_components = train_transformed.shape\n",
    "    bandwidth = (\n",
    "        1.06 * \n",
    "        np.mean(np.std(train_transformed, axis=0)).item() * \n",
    "        n_samples ** (-1/5)\n",
    "    )\n",
    "    kde = KernelDensity(\n",
    "        kernel='gaussian', bandwidth=bandwidth\n",
    "    ).fit(train_transformed)\n",
    "    \n",
    "    val_transformed = pipeline.transform(val)\n",
    "    test_transformed = pipeline.transform(test)\n",
    "    \n",
    "    columns = ['%d' % i for i in range(n_components)] + ['KDE_score']\n",
    "    train_df, val_df, test_df = (\n",
    "        pd.DataFrame(data=np.hstack(\n",
    "            (train_transformed,\n",
    "             kde.score_samples(train_transformed).reshape(-1, 1)\n",
    "            )\n",
    "        ), index=train.index, columns=columns),\n",
    "        pd.DataFrame(data=np.hstack(\n",
    "            (val_transformed,\n",
    "             kde.score_samples(val_transformed).reshape(-1, 1)\n",
    "            )\n",
    "        ), index=val.index, columns=columns),\n",
    "        pd.DataFrame(data=np.hstack(\n",
    "            (test_transformed,\n",
    "             kde.score_samples(test_transformed).reshape(-1, 1)\n",
    "            )\n",
    "        ), index=test.index, columns=columns),\n",
    "    )\n",
    "    train_df['sample'] = 'train'\n",
    "    val_df['sample'] = 'val'\n",
    "    test_df['sample'] = 'test'\n",
    "    df = pd.concat((train_df, val_df, test_df), axis=0,\n",
    "                   ignore_index=False)\n",
    "    return pipeline, df"
   ]
  },
  {
   "cell_type": "markdown",
   "id": "6053060a",
   "metadata": {},
   "source": [
    "# Visualization Utility for 2D and 3D"
   ]
  },
  {
   "cell_type": "code",
   "execution_count": null,
   "id": "119edcb8",
   "metadata": {},
   "outputs": [],
   "source": [
    "def visualize_KernelPCA(\n",
    "    df:pd.DataFrame,\n",
    "    title:str='Scatter plot',\n",
    "    savedir:str='./tmp',\n",
    "    show:bool=False)->pd.DataFrame:\n",
    "    \n",
    "    \"\"\"\n",
    "    Visualization Utility.\n",
    "    Only 2D or 3D KernelPCA can be trivially visualized\n",
    "    \n",
    "    Parameters\n",
    "    ----------\n",
    "    df : pd.DataFrame\n",
    "        Transormed dataframe returned by\n",
    "        `apply_KernelPCA_pipeline(...)`.\n",
    "    title : str, default='Scatter plot'\n",
    "        Title of the resulting figure.\n",
    "    savedir : str, default='./tmp'\n",
    "        The directory to save the plot in.\n",
    "    show : bool, default=False\n",
    "        Whether to show the plot.\n",
    "    Returns\n",
    "    -------\n",
    "    None\n",
    "    \"\"\"\n",
    "    \n",
    "    n_components = len(\n",
    "        df.drop(['KDE_score', 'sample'], axis=1).columns\n",
    "    )\n",
    "    if n_components not in [2, 3]:\n",
    "        raise ValueError(f'Unable to visualize {n_components}D data')\n",
    "    \n",
    "    c = df['sample'].replace({'train': 0.0, 'val': 0.5, 'test': 1.0}).values\n",
    "    colors = ListedColormap(['#636EFA', '#EF553B', '#00CC96'])\n",
    "    \n",
    "    fig = plt.figure()\n",
    "    if n_components==3:\n",
    "        ax = fig.add_subplot(projection='3d')\n",
    "        scatter = ax.scatter(\n",
    "            df['0'].values, df['1'].values, df['2'].values,\n",
    "            c=c, cmap=colors, s=32, marker='o')\n",
    "        \n",
    "    if n_components==2:\n",
    "        ax = fig.add_subplot()\n",
    "        scatter = ax.scatter(\n",
    "            df['0'].values, df['1'].values,\n",
    "            c=c, cmap=colors, s=32, marker='o')\n",
    "    \n",
    "    ax.set_title(title)\n",
    "    ax.legend(handles=scatter.legend_elements()[0],\n",
    "              labels=['train', 'val', 'test'],\n",
    "              bbox_to_anchor=(1.1, 0.5), loc='center left')\n",
    "    plt.savefig(f'{savedir}/{title}.pdf', format='pdf', bbox_inches='tight')\n",
    "    if show:\n",
    "        plt.show()\n",
    "    else:\n",
    "        plt.close()"
   ]
  },
  {
   "cell_type": "markdown",
   "id": "c17d9764",
   "metadata": {},
   "source": [
    "# Scan over parameters"
   ]
  },
  {
   "cell_type": "code",
   "execution_count": null,
   "id": "49ae4c59",
   "metadata": {},
   "outputs": [],
   "source": [
    "def scan_KernelPCA(\n",
    "    train:pd.DataFrame,\n",
    "    val:pd.DataFrame,\n",
    "    test:pd.DataFrame,\n",
    "    n_components:list=[2, 3],\n",
    "    kernels:list=['linear', 'poly', 'rbf', 'sigmoid', 'cosine'],\n",
    "    degree:list=[2, 3, 4],\n",
    "    pvalue:float=0.01,\n",
    "    savedir:str='./KernelPCA_tmp'):\n",
    "    \"\"\"\n",
    "    Loop over KernelPCA parameters\n",
    "    \n",
    "    Parameters\n",
    "    ----------\n",
    "    train, val, test : pd.DataFrame\n",
    "        The input dataset.\n",
    "    n_components : list, default=[2, 3]\n",
    "        Number of principal components to be used.\n",
    "    kernels : list, default=['linear', 'poly', 'rbf',\n",
    "                             'sigmoid', 'cosine']\n",
    "        Kernels to be used.\n",
    "    degree : list, default=[2, 3, 4]\n",
    "        Degree of polynomial kernel to be used.\n",
    "    pvalue : float, default=0.01\n",
    "        Threshold to define anomalous samples by their KDE_score.\n",
    "        Note that pvalues are enlarged manually for polynomial \n",
    "        kernels since the distances have more significant range\n",
    "    savedir : str, default='./KernelPCA_tmp'\n",
    "        The directory to save the plots and the result in.\n",
    "    Returns\n",
    "    -------\n",
    "    dict\n",
    "        The obtained results:\n",
    "        transformed datasets & outliers.\n",
    "    \"\"\"\n",
    "    result = dict()\n",
    "    \n",
    "    if not os.path.isdir(savedir):\n",
    "        os.mkdir(savedir)\n",
    "    else:\n",
    "        shutil.rmtree(savedir)\n",
    "        os.mkdir(savedir)\n",
    "    \n",
    "    for n in n_components:\n",
    "        for ker in kernels:\n",
    "            if ker=='poly':\n",
    "                for deg in degree:\n",
    "                    kernel_kwargs = {'degree': deg}\n",
    "                    pipeline = create_KernelPCA_pipeline(\n",
    "                        n, ker, kernel_kwargs=kernel_kwargs\n",
    "                    )\n",
    "                    pipeline, df = apply_KernelPCA_pipeline(\n",
    "                        pipeline, train, val, test)\n",
    "                    threshold = np.quantile(df['KDE_score'].values, q=deg*pvalue)\n",
    "                    outliers, inliers = (\n",
    "                        df[df['KDE_score'] <= threshold],\n",
    "                        df[df['KDE_score'] > threshold]\n",
    "                    )\n",
    "                    most_anomalous = str(\n",
    "                        outliers.index[np.argmin(outliers['KDE_score'])]\n",
    "                    )\n",
    "                    title = f'n_components={n}, kernel={ker}, degree={deg}'\n",
    "                    visualize_KernelPCA(inliers, title=title, savedir=savedir)\n",
    "                    result[title] = {\n",
    "                        'pipeline' : pipeline,\n",
    "                        'transformed': df,\n",
    "                        'outliers': outliers,\n",
    "                        'most_anomalous': most_anomalous\n",
    "                    }\n",
    "            else:\n",
    "                pipeline = create_KernelPCA_pipeline(\n",
    "                    n, ker\n",
    "                )\n",
    "                pipeline, df = apply_KernelPCA_pipeline(\n",
    "                    pipeline, train, val, test\n",
    "                )\n",
    "                threshold = np.quantile(df['KDE_score'].values, q=pvalue)\n",
    "                outliers, inliers = (\n",
    "                    df[df['KDE_score'] <= threshold],\n",
    "                    df[df['KDE_score'] > threshold]\n",
    "                )\n",
    "                most_anomalous = str(\n",
    "                    outliers.index[np.argmin(outliers['KDE_score'])]\n",
    "                )\n",
    "                title = f'n_components={n}, kernel={ker}'\n",
    "                visualize_KernelPCA(inliers, title=title, savedir=savedir)\n",
    "                result[title] = {\n",
    "                    'pipeline' : pipeline,\n",
    "                    'transformed': df,\n",
    "                    'outliers': outliers,\n",
    "                    'most_anomalous': most_anomalous\n",
    "                }\n",
    "    with open(f'{savedir}/result.pickle', 'wb') as f:\n",
    "        pickle.dump(result, f)\n",
    "    print(f\"All results are stored in '{savedir}'.\")\n",
    "    return result"
   ]
  },
  {
   "cell_type": "markdown",
   "id": "c9cf7517",
   "metadata": {},
   "source": [
    "# Extracted Features Analysis"
   ]
  },
  {
   "cell_type": "code",
   "execution_count": 7,
   "id": "e18f98c4",
   "metadata": {},
   "outputs": [
    {
     "name": "stdout",
     "output_type": "stream",
     "text": [
      "Datasets downloaded\n",
      " - train : 810 entries\n",
      " - val   : 174 entries\n",
      " - test  : 174 entries\n"
     ]
    }
   ],
   "source": [
    "train, val, test = train_val_test_downloader('features')"
   ]
  },
  {
   "cell_type": "code",
   "execution_count": null,
   "id": "fdb3a9a3",
   "metadata": {},
   "outputs": [],
   "source": [
    "result = scan_KernelPCA(train, val, test, savedir='./KernelPCA_features')"
   ]
  },
  {
   "cell_type": "code",
   "execution_count": null,
   "id": "75886ec7",
   "metadata": {},
   "outputs": [],
   "source": [
    "most_anomalous = {}\n",
    "for key, val in result.items():\n",
    "    most_anomalous[key] = val['most_anomalous']\n",
    "most_anomalous = pd.DataFrame.from_dict(\n",
    "    most_anomalous, orient='index', columns=['most_anomalous'])\n",
    "most_anomalous"
   ]
  },
  {
   "cell_type": "markdown",
   "id": "fdb99fed",
   "metadata": {},
   "source": [
    "# Rebinned Lightcurves Analysis"
   ]
  },
  {
   "cell_type": "code",
   "execution_count": 8,
   "id": "2e280c4b",
   "metadata": {},
   "outputs": [
    {
     "name": "stdout",
     "output_type": "stream",
     "text": [
      "Datasets downloaded\n",
      " - train : 810 entries\n",
      " - val   : 174 entries\n",
      " - test  : 174 entries\n"
     ]
    }
   ],
   "source": [
    "train, val, test = tuple(\n",
    "    map(lambda df: choose_one_column(df, 'lgRate'),\n",
    "    train_val_test_downloader('interp'))\n",
    ")"
   ]
  },
  {
   "cell_type": "code",
   "execution_count": null,
   "id": "30804f48",
   "metadata": {},
   "outputs": [],
   "source": [
    "result = scan_KernelPCA(train, val, test, savedir='./KernelPCA_interp')"
   ]
  },
  {
   "cell_type": "code",
   "execution_count": null,
   "id": "92a83cb9",
   "metadata": {},
   "outputs": [],
   "source": [
    "most_anomalous = {}\n",
    "for key, val in result.items():\n",
    "    most_anomalous[key] = val['most_anomalous']\n",
    "most_anomalous = pd.DataFrame.from_dict(\n",
    "    most_anomalous, orient='index', columns=['most_anomalous'])\n",
    "most_anomalous"
   ]
  },
  {
   "cell_type": "code",
   "execution_count": null,
   "id": "e3044d14",
   "metadata": {},
   "outputs": [],
   "source": []
  }
 ],
 "metadata": {
  "kernelspec": {
   "display_name": "Python 3 (ipykernel)",
   "language": "python",
   "name": "python3"
  },
  "language_info": {
   "codemirror_mode": {
    "name": "ipython",
    "version": 3
   },
   "file_extension": ".py",
   "mimetype": "text/x-python",
   "name": "python",
   "nbconvert_exporter": "python",
   "pygments_lexer": "ipython3",
   "version": "3.11.5"
  }
 },
 "nbformat": 4,
 "nbformat_minor": 5
}
